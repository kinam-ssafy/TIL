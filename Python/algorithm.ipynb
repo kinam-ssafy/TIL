{
 "cells": [
  {
   "cell_type": "code",
   "execution_count": 1,
   "id": "cf4983da",
   "metadata": {},
   "outputs": [],
   "source": [
    "N = int(input())\n",
    "arr  = list(map(int,input().split()))"
   ]
  },
  {
   "cell_type": "code",
   "execution_count": 2,
   "id": "d8bfee2e",
   "metadata": {},
   "outputs": [
    {
     "name": "stdout",
     "output_type": "stream",
     "text": [
      "6\n",
      "[1, 2, 3, 4, 5, 6]\n"
     ]
    }
   ],
   "source": [
    "print(N)\n",
    "print(arr)"
   ]
  },
  {
   "cell_type": "code",
   "execution_count": 6,
   "id": "ace56b6d",
   "metadata": {},
   "outputs": [
    {
     "name": "stdout",
     "output_type": "stream",
     "text": [
      "21\n",
      "21\n"
     ]
    }
   ],
   "source": [
    "#배열 원소의 합\n",
    "s = 0\n",
    "for i in range(N):\n",
    "    s += arr[i]\n",
    "\n",
    "print(s)\n",
    "\n",
    "ss = 0\n",
    "\n",
    "for x in arr:\n",
    "    ss += x\n",
    "\n",
    "print(ss)"
   ]
  },
  {
   "cell_type": "code",
   "execution_count": 7,
   "id": "5ef14981",
   "metadata": {},
   "outputs": [
    {
     "name": "stdout",
     "output_type": "stream",
     "text": [
      "6\n"
     ]
    }
   ],
   "source": [
    "# 배열 원소 중 최댓값 max_v찾기\n",
    "max_v = arr[0] # 첫 원소를 최대로 가정\n",
    "for i in arr:\n",
    "    if max_v < i:\n",
    "        max_v = i\n",
    "\n",
    "print(max_v)"
   ]
  },
  {
   "cell_type": "code",
   "execution_count": null,
   "id": "f36cd18d",
   "metadata": {},
   "outputs": [
    {
     "name": "stdout",
     "output_type": "stream",
     "text": [
      "6\n"
     ]
    }
   ],
   "source": [
    "max_c = arr[0]\n",
    "for i in range(1, N):\n",
    "    if max_c < arr[i]:\n",
    "        max_c = arr[i]\n",
    "\n",
    "print(max_c)"
   ]
  },
  {
   "cell_type": "code",
   "execution_count": 9,
   "id": "1f4e296e",
   "metadata": {},
   "outputs": [
    {
     "name": "stdout",
     "output_type": "stream",
     "text": [
      "5\n"
     ]
    }
   ],
   "source": [
    "#배열 원소 중 최댓값의 인덱스 max_idx찾기\n",
    "\n",
    "max_idx = 0 #첫 원소를 최댓값으로 가정\n",
    "for i in range(1, N):\n",
    "    if arr[max_idx] < arr[i]:\n",
    "        max_idx = i\n",
    "\n",
    "print(i)"
   ]
  },
  {
   "cell_type": "code",
   "execution_count": null,
   "id": "43bc1e53",
   "metadata": {},
   "outputs": [
    {
     "name": "stdout",
     "output_type": "stream",
     "text": [
      "5\n"
     ]
    }
   ],
   "source": [
    "#최댓값이 여러 개인 경우? 마지막 인덱스 찾기?\n",
    "arr = [7,5,4,3,6,7]\n",
    "max_idx = 0 #첫 원소를 최댓값으로 가정\n",
    "for i in range(1, N):\n",
    "    if arr[max_idx] <= arr[i]: # < 가 아닌 <=\n",
    "        max_idx = i\n",
    "\n",
    "print(i)\n"
   ]
  },
  {
   "cell_type": "code",
   "execution_count": 12,
   "id": "06908e75",
   "metadata": {},
   "outputs": [],
   "source": [
    "#찾는 값이 배열에 있으면 해당 원소의 인덱스, 없으면 -1을 idx에 넣기\n",
    "\n",
    "N, V = map(int, input().split())\n",
    "arr = list(map(int, input().split()))\n"
   ]
  },
  {
   "cell_type": "code",
   "execution_count": 13,
   "id": "f5f5b18e",
   "metadata": {},
   "outputs": [
    {
     "name": "stdout",
     "output_type": "stream",
     "text": [
      "6 5\n",
      "[1, 2, 3, 4, 5, 6, 7, 8, 9]\n"
     ]
    }
   ],
   "source": [
    "print(N, V)\n",
    "print(arr)"
   ]
  },
  {
   "cell_type": "code",
   "execution_count": 14,
   "id": "12941851",
   "metadata": {},
   "outputs": [],
   "source": [
    "idx = -1 #찾는 값이 없다고 가정\n",
    "for i in range(N):\n",
    "    if arr[i] == V:\n",
    "        idx = i\n",
    "        break\n",
    "\n"
   ]
  },
  {
   "cell_type": "code",
   "execution_count": null,
   "id": "830bfcc8",
   "metadata": {},
   "outputs": [
    {
     "name": "stdout",
     "output_type": "stream",
     "text": [
      "927930\n",
      "297191\n",
      "#1 630739\n",
      "851600\n",
      "111090\n",
      "#2 740510\n",
      "996285\n",
      "158175\n",
      "#3 838110\n"
     ]
    }
   ],
   "source": [
    "'''\n",
    "N개의 양의 정수에서 가장 큰 수와 가장 작은 수의 차이를 출력하시오.\n",
    "[입력]\n",
    "첫 줄에 테스트 케이스의 수 T가 주어진다. ( 1 ≤ T ≤ 50 )\n",
    "각 케이스의 첫 줄에 양수의 개수 N이 주어진다. ( 5 ≤ N ≤ 1000 )\n",
    "다음 줄에 N개의 양수 ai가 주어진다. ( 1 ≤ ai≤ 1000000 )\n",
    "\n",
    "[출력]\n",
    "각 줄마다 \"#T\" (T는 테스트 케이스 번호)를 출력한 뒤, 답을 출력한다.\n",
    "'''\n",
    "\n",
    "T = int(input())\n",
    "\n",
    "for t in range(1, T+1):\n",
    "    while 1:\n",
    "        N = int(input())\n",
    "        if N >= 5:\n",
    "            break\n",
    "\n",
    "    arr = list(map(int, input().split()))\n",
    "    max_a = arr[0]\n",
    "    for i in range(N):\n",
    "        if max_a < arr[i]:\n",
    "            max_a = arr[i]\n",
    "\n",
    "    min_a = arr[0]\n",
    "    for j in range(N):\n",
    "        if min_a > arr[j]:\n",
    "            min_a = arr[j]\n",
    "\n",
    "    print(f\"#{t} {max_a - min_a}\")"
   ]
  },
  {
   "cell_type": "code",
   "execution_count": 30,
   "id": "c5b262e4",
   "metadata": {},
   "outputs": [
    {
     "name": "stdout",
     "output_type": "stream",
     "text": [
      "#1 21\n",
      "#2 11088\n"
     ]
    },
    {
     "ename": "ValueError",
     "evalue": "not enough values to unpack (expected 2, got 0)",
     "output_type": "error",
     "traceback": [
      "\u001b[31m---------------------------------------------------------------------------\u001b[39m",
      "\u001b[31mValueError\u001b[39m                                Traceback (most recent call last)",
      "\u001b[36mCell\u001b[39m\u001b[36m \u001b[39m\u001b[32mIn[30]\u001b[39m\u001b[32m, line 30\u001b[39m\n\u001b[32m     28\u001b[39m \u001b[38;5;28;01mfor\u001b[39;00m t \u001b[38;5;129;01min\u001b[39;00m \u001b[38;5;28mrange\u001b[39m(\u001b[32m1\u001b[39m, T+\u001b[32m1\u001b[39m):\n\u001b[32m     29\u001b[39m     \u001b[38;5;28;01mwhile\u001b[39;00m \u001b[32m1\u001b[39m:\n\u001b[32m---> \u001b[39m\u001b[32m30\u001b[39m         N, M = \u001b[38;5;28mmap\u001b[39m(\u001b[38;5;28mint\u001b[39m, \u001b[38;5;28minput\u001b[39m().split())\n\u001b[32m     31\u001b[39m         \u001b[38;5;28;01mif\u001b[39;00m (\u001b[32m10\u001b[39m <= N <= \u001b[32m100\u001b[39m) & (\u001b[32m2\u001b[39m<= M < N):\n\u001b[32m     32\u001b[39m             \u001b[38;5;28;01mbreak\u001b[39;00m\n",
      "\u001b[31mValueError\u001b[39m: not enough values to unpack (expected 2, got 0)"
     ]
    }
   ],
   "source": [
    "'''\n",
    "N개의 정수가 들어있는 배열에서 이웃한 M개의 합을 계산하는 것은 디지털 필터링의 기초연산이다.\n",
    "\n",
    "M개의 합이 가장 큰 경우와 가장 작은 경우의 차이를 출력하는 프로그램을 작성하시오.\n",
    "\n",
    "다음은 N=5, M=3이고 5개의 숫자 1 2 3 4 5가 배열 v에 들어있는 경우이다.\n",
    " \n",
    "이웃한 M개의 합이 가장 작은 경우 1 + 2 + 3 = 6\n",
    "\n",
    "이웃한 M개의 합이 가장 큰 경우 3 + 4 + 5 = 12\n",
    "답은 12와 6의 차인 6을 출력한다.\n",
    "\n",
    "[입력]\n",
    " \n",
    "첫 줄에 테스트 케이스 개수 T가 주어진다.  ( 1 ≤ T ≤ 50 )\n",
    "\n",
    "다음 줄부터 테스트케이스의 첫 줄에 정수의 개수 N과 구간의 개수 M 주어진다. ( 10 ≤ N ≤ 100,  2 ≤ M ＜ N )\n",
    "\n",
    "다음 줄에 N개의 정수 ai가 주어진다. ( 1 ≤ a ≤ 10000 )\n",
    " \n",
    "\n",
    "[출력]\n",
    "각 줄마다 \"#T\" (T는 테스트 케이스 번호)를 출력한 뒤, 답을 출력한다.\n",
    "'''\n",
    "# N개의 배열 이웃한 M개 \n",
    "# 인덱스 0 ~ M-1 합침. M-1 = N-1까지 계산\n",
    "T = int(input())\n",
    "for t in range(1, T+1):\n",
    "    while 1:\n",
    "        N, M = map(int, input().split())\n",
    "        if (10 <= N <= 100) & (2<= M < N):\n",
    "            break\n",
    "        \n",
    "    arr = list(map(int, input().split()))\n",
    "\n",
    "    max_sum = 0\n",
    "    min_sum = 0\n",
    "    sum_M = 0 #M개의 배열 합\n",
    "\n",
    "    for i in range(N-M+1):\n",
    "        sum_M = 0\n",
    "        for j in range(M):\n",
    "            sum_M += arr[i+j] #M개의 배열 합\n",
    "        \n",
    "        if max_sum == 0:\n",
    "            max_sum = sum_M\n",
    "\n",
    "        if min_sum == 0:\n",
    "            min_sum = sum_M\n",
    "\n",
    "        if max_sum < sum_M:\n",
    "            max_sum = sum_M # 가장 큰 수 갱신\n",
    "\n",
    "        if min_sum > sum_M:\n",
    "            min_sum = sum_M # 가장 작은 수 갱신\n",
    "\n",
    "\n",
    "\n",
    "    print(f\"#{t} {max_sum - min_sum}\")\n",
    "\n"
   ]
  },
  {
   "cell_type": "code",
   "execution_count": null,
   "id": "efdb468c",
   "metadata": {},
   "outputs": [
    {
     "name": "stdout",
     "output_type": "stream",
     "text": [
      "[0, 1, 2, 3, 4, 5, 6, 7]\n",
      "[0, 1, 2, 3, 4, 5, 6, 7, 6]\n",
      "#1 7\n"
     ]
    },
    {
     "ename": "ValueError",
     "evalue": "invalid literal for int() with base 10: ''",
     "output_type": "error",
     "traceback": [
      "\u001b[31m---------------------------------------------------------------------------\u001b[39m",
      "\u001b[31mValueError\u001b[39m                                Traceback (most recent call last)",
      "\u001b[36mCell\u001b[39m\u001b[36m \u001b[39m\u001b[32mIn[86]\u001b[39m\u001b[32m, line 18\u001b[39m\n\u001b[32m     16\u001b[39m \u001b[38;5;28;01mfor\u001b[39;00m t \u001b[38;5;129;01min\u001b[39;00m \u001b[38;5;28mrange\u001b[39m(\u001b[32m1\u001b[39m, T+\u001b[32m1\u001b[39m):\n\u001b[32m     17\u001b[39m     \u001b[38;5;28;01mwhile\u001b[39;00m \u001b[32m1\u001b[39m:\n\u001b[32m---> \u001b[39m\u001b[32m18\u001b[39m         N = \u001b[38;5;28;43mint\u001b[39;49m\u001b[43m(\u001b[49m\u001b[38;5;28;43minput\u001b[39;49m\u001b[43m(\u001b[49m\u001b[43m)\u001b[49m\u001b[43m)\u001b[49m\n\u001b[32m     19\u001b[39m         \u001b[38;5;28;01mif\u001b[39;00m (\u001b[32m1\u001b[39m <= N <= \u001b[32m100\u001b[39m):\n\u001b[32m     20\u001b[39m             \u001b[38;5;28;01mbreak\u001b[39;00m\n",
      "\u001b[31mValueError\u001b[39m: invalid literal for int() with base 10: ''"
     ]
    }
   ],
   "source": [
    "'''\n",
    "### 문제\n",
    "* 상자들이 쌓여있는 방이 있다. 방이 오른쪽으로 90도 회전하여 상자들이 중력의 영향을 받아 낙하한다고 할 때, 낙차가 가장 큰 상자를 구하여 그 낙차를 리턴하는 프로그램을 작성\n",
    "* 중력은 회전이 완료된 후 적용\n",
    "* 상자들은 모두 한쪽 벽면에 붙여진 상태로 쌓여 2차원의 형태를 이루며 벽에서 떨어져 쌓인 상자는 없음\n",
    "* 상자의 가로, 세로 길이는 각각 1\n",
    "* 방의 가로 길이는 최대 100이며, 세로 길이도 최대 100\n",
    "* 즉, 상자는 최소 0, 최대 100 높이로 쌓을 수 있음\n",
    "* 상자가 놓인 가로 칸의 수 N, 다음 줄에 각 칸의 상자 높이가 주어짐\n",
    "\n",
    "단, 방의 가로 길이는 N이다.  \n",
    "\n",
    "입력으로 테스트케이스 개수, 다음 줄부터 케이스별로 첫 줄에 N, 다음 줄에 N개의 상자 높이가 주어진다.\n",
    "'''\n",
    "T = int(input())\n",
    "for t in range(1, T+1):\n",
    "    while 1:\n",
    "        N = int(input())\n",
    "        if (1 <= N <= 100):\n",
    "            break\n",
    "\n",
    "    M = list(map(int, input().split()))\n",
    "    h = []\n",
    "    max_idx = 0\n",
    "\n",
    "    for i,v in enumerate(M):\n",
    "        if v == max(M):\n",
    "            for j , v2 in enumerate(M[i+1:]):\n",
    "                if v == max(M[i+1:]):\n",
    "                    h.append(j)\n",
    "\n",
    "                else:\n",
    "                    h.append(N-i)\n",
    "            max_idx = i\n",
    "            break\n",
    "    # print(h)\n",
    "\n",
    "    for i, v in enumerate(M[:max_idx+1]):\n",
    "        n = 0 # i번째 건물보다 높은 건물 수\n",
    "        if v > 1:\n",
    "            for j, v2 in enumerate(M[i:]):\n",
    "                if v <= v2:\n",
    "                    n += 1\n",
    "            h.append(N-i-n)\n",
    "    # print(h)\n",
    "\n",
    "    print(f\"#{t} {max(h)}\")\n",
    "\n"
   ]
  },
  {
   "cell_type": "code",
   "execution_count": null,
   "id": "46063471",
   "metadata": {},
   "outputs": [
    {
     "name": "stdout",
     "output_type": "stream",
     "text": [
      "[10, 5, 7, 2, 13, 2, 1, 0, 11, 7, 5, 9, 7, 2, 3, 0, 1, 2, 2, 1, 0]\n",
      "#2 13\n"
     ]
    }
   ],
   "source": [
    "N = 20\n",
    "M = [52, 56, 38, 77, 43, 31, 11, 87, 68, 64, 88, 76, 56, 59, 46, 57, 75, 85, 65, 53]\n",
    "h = []\n",
    "max_idx = 0\n",
    "\n",
    "for i,v in enumerate(M):\n",
    "    if v == max(M):\n",
    "        h.append(N-i)\n",
    "        max_idx = i\n",
    "        break\n",
    "\n",
    "for i, v in enumerate(M):\n",
    "    n = 0 # i번째 건물보다 높은 건물 수\n",
    "    for j, v2 in enumerate(M[i:]):\n",
    "        if v < v2:\n",
    "            n += 1\n",
    "    h.append(N-i-n-1)\n",
    "\n",
    "print(f\"#{t} {max(h)}\")"
   ]
  },
  {
   "cell_type": "code",
   "execution_count": 46,
   "id": "20cb2250",
   "metadata": {},
   "outputs": [
    {
     "name": "stdout",
     "output_type": "stream",
     "text": [
      "[[0, 0, 0, 0, 0], [0, 0, 0, 0, 0], [0, 0, 0, 0, 0], [0, 0, 0, 0, 0], [0, 0, 0, 0, 0]]\n"
     ]
    }
   ],
   "source": [
    "n = 5\n",
    "v = [[0] * n] * 5\n",
    "\n",
    "print(v)"
   ]
  },
  {
   "cell_type": "code",
   "execution_count": 82,
   "id": "2ee46123",
   "metadata": {},
   "outputs": [
    {
     "data": {
      "text/plain": [
       "[3, 4, 5]"
      ]
     },
     "execution_count": 82,
     "metadata": {},
     "output_type": "execute_result"
    }
   ],
   "source": [
    "m = [1, 2, 3, 4, 5]\n",
    "\n",
    "m[:3]\n",
    "m[2:]\n"
   ]
  },
  {
   "cell_type": "code",
   "execution_count": null,
   "id": "197d5044",
   "metadata": {},
   "outputs": [
    {
     "name": "stdout",
     "output_type": "stream",
     "text": [
      "#1 111\n"
     ]
    },
    {
     "ename": "ValueError",
     "evalue": "invalid literal for int() with base 10: ''",
     "output_type": "error",
     "traceback": [
      "\u001b[31m---------------------------------------------------------------------------\u001b[39m",
      "\u001b[31mValueError\u001b[39m                                Traceback (most recent call last)",
      "\u001b[36mCell\u001b[39m\u001b[36m \u001b[39m\u001b[32mIn[29]\u001b[39m\u001b[32m, line 44\u001b[39m\n\u001b[32m     42\u001b[39m T = \u001b[32m10\u001b[39m\n\u001b[32m     43\u001b[39m \u001b[38;5;28;01mfor\u001b[39;00m t \u001b[38;5;129;01min\u001b[39;00m \u001b[38;5;28mrange\u001b[39m(\u001b[32m1\u001b[39m, T+\u001b[32m1\u001b[39m):\n\u001b[32m---> \u001b[39m\u001b[32m44\u001b[39m     N = \u001b[38;5;28;43mint\u001b[39;49m\u001b[43m(\u001b[49m\u001b[38;5;28;43minput\u001b[39;49m\u001b[43m(\u001b[49m\u001b[43m)\u001b[49m\u001b[43m)\u001b[49m \u001b[38;5;66;03m# 건물개수\u001b[39;00m\n\u001b[32m     45\u001b[39m     h = \u001b[38;5;28mlist\u001b[39m(\u001b[38;5;28mmap\u001b[39m(\u001b[38;5;28mint\u001b[39m, \u001b[38;5;28minput\u001b[39m().split())) \u001b[38;5;66;03m#건물 높이 리스트\u001b[39;00m\n\u001b[32m     46\u001b[39m     \u001b[38;5;28msum\u001b[39m = \u001b[32m0\u001b[39m \u001b[38;5;66;03m#조망 확보된 세대 수\u001b[39;00m\n",
      "\u001b[31mValueError\u001b[39m: invalid literal for int() with base 10: ''"
     ]
    }
   ],
   "source": [
    "'''\n",
    "강변에 빌딩들이 옆으로 빽빽하게 밀집한 지역이 있다.\n",
    "이곳에서는 빌딩들이 너무 좌우로 밀집하여, 강에 대한 조망은 모든 세대에서 좋지만 왼쪽 또는 오른쪽 창문을 열었을 때 바로 앞에 옆 건물이 보이는 경우가 허다하였다.\n",
    "그래서 이 지역에서는 왼쪽과 오른쪽으로 창문을 열었을 때, 양쪽 모두 거리 2 이상의 공간이 확보될 때 조망권이 확보된다고 말한다.\n",
    "빌딩들에 대한 정보가 주어질 때, 조망권이 확보된 세대의 수를 반환하는 프로그램을 작성하시오.\n",
    "아래와 같이 강변에 8채의 빌딩이 있을 때, 연두색으로 색칠된 여섯 세대에서는 좌우로 2칸 이상의 공백이 존재하므로 조망권이 확보된다. 따라서 답은 6이 된다.\n",
    "A와 B로 표시된 세대의 경우는 왼쪽 조망은 2칸 이상 확보가 되었지만 오른쪽 조망은 한 칸 밖에 확보가 되지 않으므로 조망권을 확보하지 못하였다.\n",
    "C의 경우는 반대로 오른쪽 조망은 2칸이 확보가 되었지만 왼쪽 조망이 한 칸 밖에 확보되지 않았다.\n",
    "[제약 사항]\n",
    "가로 길이는 항상 1000이하로 주어진다.\n",
    "\n",
    "맨 왼쪽 두 칸과 맨 오른쪽 두 칸에는 건물이 지어지지 않는다. (예시에서 빨간색 땅 부분)\n",
    "\n",
    "각 빌딩의 높이는 최대 255이다.\n",
    " \n",
    "[입력]\n",
    "총 10개의 테스트케이스가 주어진다.\n",
    "\n",
    "각 테스트케이스의 첫 번째 줄에는 건물의 개수 N이 주어진다. (4 ≤ N ≤ 1000)\n",
    "\n",
    "그 다음 줄에는 N개의 건물의 높이가 주어진다. (0 ≤ 각 건물의 높이 ≤ 255)\n",
    "\n",
    "맨 왼쪽 두 칸과 맨 오른쪽 두 칸에 있는 건물은 항상 높이가 0이다. (예시에서 빨간색 땅 부분)\n",
    "\n",
    "[출력]\n",
    "\n",
    "#부호와 함께 테스트케이스의 번호를 출력하고, 공백 문자 후 조망권이 확보된 세대의 수를 출력한다.\n",
    "'''\n",
    "# 0번 인덱스를 시작으로 묶으면 인덱스 4번까지 묶음 (0 1 2 3 4)\n",
    "# 마지막 N-1번 인덱스는 N-5번 인덱스를 시작으로 묶음 (N-5 N-4 N-3 N-2 N-1)\n",
    "# 0, 1 / N-2, N-1 번 인덱스는 제외 ?\n",
    "# 한 묶음에서 가장 큰 수와 그다음 큰 수 찾기 max1 max2 xx\n",
    "# 두 수의 인덱스 차이가 3(거리가 2)이상이면 두 수의 차이만큼 조망 #칸 확보 << ?? xx\n",
    "# 좌 우 중복 고려?xx\n",
    "\n",
    "# 5개를 한 묶음\n",
    "# 가운데 인덱스 숫자가 가장 큰 수인지 판단\n",
    "# 두번째로 큰 수 판단\n",
    "# 두 수의 차이를 sum에 합하기\n",
    "# \n",
    "\n",
    "T = 10\n",
    "for t in range(1, T+1):\n",
    "    N = int(input()) # 건물개수\n",
    "    h = list(map(int, input().split())) #건물 높이 리스트\n",
    "    sum = 0 #조망 확보된 세대 수\n",
    "\n",
    "    sum = 0\n",
    "    for idx in range(2, N-2):\n",
    "        # max = 0\n",
    "        max2 = 0\n",
    "        around = [h[idx-2], h[idx-1], h[idx+1], h[idx+2]]\n",
    "\n",
    "        for i in range(-2,3): # h의 idx-2 idx-1 idx idx+1 idx+2 비교하여 가장 큰 수를 max에 할당\n",
    "            if max < h[idx+i]:\n",
    "                max = h[idx+i]\n",
    "        \n",
    "        if h[idx] == max: #가운데 인덱스가 가장 큰 수면 \n",
    "            for j in around: # 두 번째로 큰 수 max2구함\n",
    "                if max2 < j:\n",
    "                    max2 = j\n",
    "\n",
    "            sum += (max - max2)#두 빌딩 높이 차이를 sum에 할당\n",
    "        idx += 1\n",
    "    \n",
    "    print(f\"#{t} {sum}\")\n",
    "\n"
   ]
  },
  {
   "cell_type": "code",
   "execution_count": null,
   "id": "ace57e87",
   "metadata": {},
   "outputs": [
    {
     "name": "stdout",
     "output_type": "stream",
     "text": [
      "254\n",
      "[-2, -1, 0, 1, 2]\n",
      "-2\n",
      "0\n",
      "-1\n",
      "0\n",
      "0\n",
      "254\n",
      "1\n",
      "185\n",
      "2\n",
      "76\n"
     ]
    }
   ],
   "source": [
    "a = [0, 0, 254, 185, 76, 227, 84, 175, 0, 0]\n",
    "     # 0  1   2    3    4   5   6    7   8  9\n",
    "     #        69            52           \n",
    "'''\n",
    "10\n",
    "0 0 254 185 76 227 84 175 0 0\n",
    "10\n",
    "0 0 251 199 176 27 184 75 0 0\n",
    "11\n",
    "0 0 118 90 243 178 99 100 200 0 0\n",
    "\n",
    "#1 111\n",
    "#2 60\n",
    "#3 165\n",
    "'''\n",
    "\n",
    "b = a[2:-2]\n",
    "print(b[0])\n",
    "\n",
    "c = list(range(-2,3))\n",
    "print(c)\n",
    "idx = 2\n",
    "for i in range(-2,3):\n",
    "    print(i)\n",
    "    print(a[idx+i])\n",
    "# T = 3\n",
    "# for t in range(1, T+1):\n",
    "#     N = int(input()) # 건물개수\n",
    "#     h = list(map(int, input().split())) #건물 높이 리스트\n",
    "#     sum = 0 #조망 확보된 세대 수\n",
    "\n",
    "#     for i, v in enumerate(h):\n",
    "#         max1 = v #묶음 내 가장 큰 수 \n",
    "#         max2 = v #묶음 내 두 번째로 큰 수 \n",
    "#         num1 = 0 # max1의 인덱스\n",
    "#         num2 = 0 # max2의 인덱스\n",
    "#         for j in range(5):\n",
    "#             if max1 < h[i+j]: #순회중인 값이 더 크면 재할당\n",
    "#                 max1 = h[i+j]\n",
    "#                 num1 = i+j #인덱스 할당\n",
    "#                 print(f\"max1 num1 {max1} {num1}\")\n",
    "        \n",
    "#         for k in range(5):\n",
    "#             if (max2 < h[i+j]) & (max1 != h[i+j]): #max1 값이 아니면서 크면 재할당\n",
    "#                 max2 = h[i+j]\n",
    "#                 num2 = i+j #인덱스 할당\n",
    "#                 print(f\"max2 num2 {max2} {num2}\")\n",
    "\n",
    "#         if (num1 - num2) >= 3:\n",
    "#             sum += (max1 - max2)\n",
    "#             print(f\"sum {sum}\") \n",
    "        \n",
    "#         if i == (len(h)-5):\n",
    "#             break\n",
    "\n",
    "\n",
    "#     print(f\"#{t} {sum}\")\n",
    "\n",
    "\n",
    "\n",
    "# for t in range(1, T+1):\n",
    "#     N = int(input()) # 건물개수\n",
    "#     h = list(map(int, input().split())) #건물 높이 리스트\n",
    "#     sum = 0 #조망 확보된 세대 수\n",
    "\n",
    "#     idx = 2\n",
    "#     sum = 0\n",
    "#     while 1:\n",
    "#         max = 0\n",
    "#         max2 = 0\n",
    "\n",
    "\n",
    "#         if (idx+1) > (len(h)-2): #인덱스가 마지막에서 2번째 까지만 연산 후 종료\n",
    "#             break\n",
    "\n",
    "#         for i in range(-2,3): # h의 idx-2 idx-1 idx idx+1 idx+2 비교하여 가장 큰 수를 max에 할당\n",
    "#             if max < h[idx+i]:\n",
    "#                 max = h[idx+i]\n",
    "        \n",
    "#         if h[idx] == max: #가운데 인덱스가 가장 큰 수면 \n",
    "#             for j in range(-2,3): # 두 번째로 큰 수 max2구함\n",
    "#                 if (max2 < h[idx+j]) & (h[idx+j] != max):\n",
    "#                     max2 = h[idx+j]\n",
    "\n",
    "#             sum += (max - max2)#두 빌딩 높이 차이를 sum에 할당\n",
    "#         idx += 1\n",
    "    \n",
    "#     print(f\"#{t} {sum}\")\n",
    "\n"
   ]
  },
  {
   "cell_type": "code",
   "execution_count": null,
   "id": "0a457864",
   "metadata": {},
   "outputs": [
    {
     "name": "stdout",
     "output_type": "stream",
     "text": [
      "#1 175\n"
     ]
    }
   ],
   "source": [
    "'''2072. 홀수만 더하기\n",
    "10개의 수를 입력 받아, 그 중에서 홀수만 더한 값을 출력하는 프로그램을 작성하라.\n",
    "[제약 사항]\n",
    "각 수는 0 이상 10000 이하의 정수이다.\n",
    "'''\n",
    "\n",
    "T = int(input())\n",
    "\n",
    "for t in range(1, T+1):\n",
    "    n = list(map(int, input().split()))\n",
    "\n",
    "    result = 0\n",
    "\n",
    "    for i in n:\n",
    "        if i % 2 != 0: # 2로 나눠서 0이 아니면(짝수가 아니면) i더하기\n",
    "            result += i\n",
    "\n",
    "    print(f\"#{t} {result}\")"
   ]
  },
  {
   "cell_type": "code",
   "execution_count": 1,
   "id": "f31c5433",
   "metadata": {},
   "outputs": [],
   "source": [
    "#버블 정렬\n",
    "def bubble_sort(a, N): #정렬할 list, N 원소 수\n",
    "    for i in range(N-1, 0, -1):\n",
    "        for j in range(i):\n",
    "            if a[j] < a[j+1]:\n",
    "                a[j], a[j+1] = a[j+1], a[j]"
   ]
  },
  {
   "cell_type": "code",
   "execution_count": null,
   "id": "b1d80e48",
   "metadata": {},
   "outputs": [],
   "source": [
    "#카운팅 정렬\n",
    "def counting_sort(DATA, TEMP, k):\n",
    "#DATA [] -- 입력 배열(원소는 0이상, k이하 정수)\n",
    "#TEMP [] -- 정렬된 배열\n",
    "#COUNTS [] -- 카운트 배열\n",
    "    COUNTS = [0] * (k+1)\n",
    "\n",
    "    for i in range(len(DATA)): #DATA[i] 발생횟수 기록\n",
    "        COUNTS[DATA[i]] += 1\n",
    "        print()\n",
    "\n",
    "    for i in range(1, k+1): # COUNTS 값 조정(누적)\n",
    "        COUNTS[i] += COUNTS[i-1]\n",
    "    \n",
    "    for i in range(len(DATA)-1, -1, -1): #3단계\n",
    "        COUNTS[DATA[i]] -= 1\n",
    "        TEMP[COUNTS[DATA[i]]] = DATA[i]"
   ]
  },
  {
   "cell_type": "code",
   "execution_count": null,
   "id": "a76a2a91",
   "metadata": {},
   "outputs": [
    {
     "name": "stdout",
     "output_type": "stream",
     "text": [
      "[4, 4, 4, 3, 4, 5]\n",
      "[4, 4, 4, 3, 4, 5]\n",
      "[2, 3, 4, 5, 4, 2, 3, 4, 5, 3, 3, 2, 6, 4, 2]\n",
      "[1, 2, 3, 4, 3, 2, 1]\n"
     ]
    }
   ],
   "source": [
    "a = '444345'\n",
    "arr = list(map(lambda x: int (x), a))\n",
    "print(arr)\n",
    "arr3 = list(map(int, a))\n",
    "print(arr3)\n",
    "\n",
    "\n",
    "a = '2 3 454 23 4 53 326 42'\n",
    "arr2 = list(map(int, a.replace(' ','')))\n",
    "print(arr2)\n",
    "\n",
    "n = 1234321\n",
    "narr = list(map(int, str(n)))\n",
    "print(narr)\n",
    "\n"
   ]
  },
  {
   "cell_type": "code",
   "execution_count": null,
   "id": "6db032af",
   "metadata": {},
   "outputs": [],
   "source": [
    "'''\n",
    "N개의 0과 1로 이루어진 수열에서 연속한 1의 개수 중 최대값을 출력하는 프로그램을 만드시오.\n",
    "'''\n",
    "\n",
    "T = int(input())\n",
    "for t in range(1, T+1):\n",
    "    N = int(input())\n",
    "    arr = list(input().replace('0',' ').split())\n",
    "    length = 0\n",
    "    for i in arr:\n",
    "        if length < len(i):\n",
    "            length = len(i)\n",
    "\n",
    "    print(f\"#{t} {length}\")\n"
   ]
  },
  {
   "cell_type": "code",
   "execution_count": 29,
   "id": "a8caa784",
   "metadata": {},
   "outputs": [
    {
     "name": "stdout",
     "output_type": "stream",
     "text": [
      "  11  111 \n",
      "['11', '111']\n",
      "['11', '111']\n",
      "3\n"
     ]
    }
   ],
   "source": [
    "N = 10\n",
    "a = '0011001110'\n",
    "b = a.replace('0', ' ')\n",
    "print(b)\n",
    "c = b.split()\n",
    "print(c)\n",
    "\n",
    "arr = list(a.replace('0',' ').split())\n",
    "print(arr)\n",
    "\n",
    "length = 0\n",
    "for i in arr:\n",
    "    if length < len(i):\n",
    "        length = len(i)\n",
    "print(length)"
   ]
  },
  {
   "cell_type": "code",
   "execution_count": 38,
   "id": "d01383d5",
   "metadata": {},
   "outputs": [
    {
     "name": "stdout",
     "output_type": "stream",
     "text": [
      "[1, 4, 7, 8, 0]\n",
      "4\n",
      "3\n",
      "2\n",
      "1\n",
      "#0 1 4 7 8 "
     ]
    }
   ],
   "source": [
    "'''\n",
    "주어진 N 길이의 숫자열을 오름차순으로 정렬하여 출력하라.\n",
    "'''\n",
    "\n",
    "T = int(input())\n",
    "for t in range(1, T+1):\n",
    "    N = int(input())\n",
    "    arr = list(map(int, input().split()))\n",
    "\n",
    "    for i in range(N-1, 0, -1):\n",
    "        for j in range(i):\n",
    "            if arr[j] > arr[j+1]:\n",
    "                arr[j], arr[j+1] = arr[j+1], arr[j]\n",
    "\n",
    "\n",
    "\n",
    "    print(f\"#{t}\", end='')\n",
    "    print(f\"t\")\n",
    "    for i in arr:\n",
    "        print(i, end=' ')\n",
    "\n",
    "# N = 5\n",
    "# a = '1 4 7 8 0'\n",
    "# b = list(map(int, a.split()))\n",
    "# print(b)\n",
    "\n",
    "# for i in range(N-1, 0, -1):\n",
    "#     print(i)\n",
    "#     for j in range(i):\n",
    "#         if b[j] > b[j+1]:\n",
    "#             b[j], b[j+1] = b[j+1], b[j]\n",
    "\n",
    "\n",
    "# print(f\"#\", end='')\n",
    "# for i in b:\n",
    "#     print(i, end=' ')\n",
    "\n",
    "\n",
    "# #버블 정렬\n",
    "# def bubble_sort(a, N): #정렬할 list, N 원소 수\n",
    "#     for i in range(N-1, 0, -1):\n",
    "#         for j in range(i):\n",
    "#             if a[j] < a[j+1]:\n",
    "#                 a[j], a[j+1] = a[j+1], a[j]"
   ]
  },
  {
   "cell_type": "code",
   "execution_count": null,
   "id": "9e723fa7",
   "metadata": {},
   "outputs": [
    {
     "name": "stdout",
     "output_type": "stream",
     "text": [
      "[0, 0, 0, 0, 1, 0, 1, 1, 0, 2]\n",
      "#1 9 2\n",
      "[1, 1, 1, 0, 0, 0, 0, 1, 1, 0]\n",
      "#2 8 1\n",
      "[0, 0, 0, 1, 2, 1, 1, 3, 0, 2]\n",
      "#3 7 3\n"
     ]
    }
   ],
   "source": [
    "'''\n",
    "0에서 9까지 숫자가 적힌 N장의 카드가 주어진다.\n",
    "\n",
    "가장 많은 카드에 적힌 숫자와 카드가 몇 장인지 출력하는 프로그램을 만드시오. 카드 장수가 같을 때는 적힌 숫자가 큰 쪽을 출력한다.\n",
    "'''\n",
    "\n",
    "T = int(input())\n",
    "for t in range(1, T+1):\n",
    "    N = int(input())\n",
    "    arr = list(map(int, input()))\n",
    "\n",
    "    INDEX = [0] * 10\n",
    "\n",
    "    for i in range(N):\n",
    "        INDEX[arr[i]] += 1\n",
    "\n",
    "    max = 0\n",
    "    idx = 0 \n",
    "    for i, v in enumerate(INDEX):\n",
    "        if max <= v:\n",
    "            max, idx = v, i\n",
    "\n",
    "\n",
    "    print(f\"#{t} {idx} {max}\")\n",
    "\n",
    "# N = 5\n",
    "# a = '49679'\n",
    "# arr = list(map(int, a))\n",
    "# print(arr)\n",
    "\n",
    "# INDEX = [0] * 10\n",
    "\n",
    "# for i in range(N):\n",
    "#     INDEX[arr[i]] += 1\n",
    "\n",
    "# print(INDEX)\n",
    "# max = 0\n",
    "# idx = 0 \n",
    "# for i, v in enumerate(INDEX):\n",
    "#     if max <= v:\n",
    "#         max = v\n",
    "#         idx = i\n",
    "    \n",
    "\n",
    "# print(f\"{i}\")\n",
    "\n",
    "\n",
    "\n"
   ]
  },
  {
   "cell_type": "code",
   "execution_count": null,
   "id": "56c4b8da",
   "metadata": {},
   "outputs": [],
   "source": [
    "'''\n",
    "삼성시에 있는 5,000개의 버스 정류장은 관리의 편의를 위해 1에서 5,000까지 번호가 붙어 있다.\n",
    "\n",
    "그리고 버스 노선은 N개가 있는데, i번째 버스 노선은 번호가 Ai이상이고,\n",
    "\n",
    "Bi이하인 모든 정류장만을 다니는 버스 노선이다.\n",
    "\n",
    "P개의 버스 정류장에 대해 각 정류장에 몇 개의 버스 노선이 다니는지 구하는 프로그램을 작성하라.\n",
    "'''\n",
    "# T = int(input())\n",
    "# for t in range(1, T+1):\n"
   ]
  },
  {
   "cell_type": "markdown",
   "id": "86f0362a",
   "metadata": {},
   "source": [
    "4831. 전기버스\n",
    "A도시는 전기버스를 운행하려고 한다. 전기버스는 한번 충전으로 이동할 수 있는 정류장 수가 정해져 있어서, 중간에 충전기가 설치된 정류장을 만들기로 했다.\n",
    "\n",
    "버스는 0번에서 출발해 종점인 N번 정류장까지 이동하고, 한번 충전으로 최대한 이동할 수 있는 정류장 수 K가 정해져 있다.\n",
    "\n",
    "충전기가 설치된 M개의 정류장 번호가 주어질 때, 최소한 몇 번의 충전을 해야 종점에 도착할 수 있는지 출력하는 프로그램을 만드시오.\n",
    "\n",
    "만약 충전기 설치가 잘못되어 종점에 도착할 수 없는 경우는 0을 출력한다. 출발지에는 항상 충전기가 설치되어 있지만 충전횟수에는 포함하지 않는다."
   ]
  },
  {
   "cell_type": "code",
   "execution_count": null,
   "id": "7835622b",
   "metadata": {},
   "outputs": [
    {
     "name": "stdout",
     "output_type": "stream",
     "text": [
      "3\n"
     ]
    },
    {
     "ename": "ValueError",
     "evalue": "not enough values to unpack (expected 3, got 0)",
     "output_type": "error",
     "traceback": [
      "\u001b[31m---------------------------------------------------------------------------\u001b[39m",
      "\u001b[31mValueError\u001b[39m                                Traceback (most recent call last)",
      "\u001b[36mCell\u001b[39m\u001b[36m \u001b[39m\u001b[32mIn[7]\u001b[39m\u001b[32m, line 5\u001b[39m\n\u001b[32m      3\u001b[39m T = \u001b[38;5;28mint\u001b[39m(\u001b[38;5;28minput\u001b[39m())\n\u001b[32m      4\u001b[39m \u001b[38;5;28;01mfor\u001b[39;00m t \u001b[38;5;129;01min\u001b[39;00m \u001b[38;5;28mrange\u001b[39m(\u001b[32m1\u001b[39m, T+\u001b[32m1\u001b[39m):\n\u001b[32m----> \u001b[39m\u001b[32m5\u001b[39m     K, N, M = \u001b[38;5;28mmap\u001b[39m(\u001b[38;5;28mint\u001b[39m, \u001b[38;5;28minput\u001b[39m().split())\n\u001b[32m      6\u001b[39m     arr = \u001b[38;5;28mlist\u001b[39m(\u001b[38;5;28mmap\u001b[39m(\u001b[38;5;28mint\u001b[39m, \u001b[38;5;28minput\u001b[39m().split()))\n\u001b[32m      8\u001b[39m     result = \u001b[32m0\u001b[39m\n",
      "\u001b[31mValueError\u001b[39m: not enough values to unpack (expected 3, got 0)"
     ]
    }
   ],
   "source": [
    "#역으로 접근해서 첫 충전소\n",
    "\n",
    "T = int(input())\n",
    "for t in range(1, T+1):\n",
    "    K, N, M = map(int, input().split())\n",
    "    arr = list(map(int, input().split()))\n",
    "\n",
    "    result = 0\n",
    "    bus = [0] * (N+1) # 0번~N번 정류장\n",
    "    for i in arr:\n",
    "        bus[i] = 1\n",
    "\n",
    "    busidx = 0\n",
    "    charge = 0\n",
    "    idx = 0\n",
    "\n",
    "    while busidx < N-K: #버스 위치가 N 보다 크면 종료\n",
    "        isbreak = 0\n",
    "        for i in range(K, 0, -1):\n",
    "            if bus[busidx+i] == 1:\n",
    "                busidx += i\n",
    "                charge += 1\n",
    "                break #for i\n",
    "            else:\n",
    "                isbreak += 1\n",
    "        \n",
    "        if isbreak == K:\n",
    "            charge = 0\n",
    "            break\n",
    "    \n",
    "    print(f\"#{t} {charge}\")\n",
    "        \n",
    "\n",
    "\n",
    "\n",
    "\n",
    "\n",
    "# T = int(input())\n",
    "# for t in range(1, T+1):\n",
    "#     K, N, M = map(int, input().split())\n",
    "#     arr = list(map(int, input().split()))\n",
    "\n",
    "#     result = 0\n",
    "#     bus = [0] * (N+1) # 0번~N번 정류장\n",
    "#     for i in arr:\n",
    "#         bus[i] = 1\n",
    "\n",
    "#     busidx = 0\n",
    "#     isbreak = 0\n",
    "#     idx = 0\n",
    "\n",
    "#     while 1:\n",
    "#         charge = [bus[busidx+i] for i in range(1,K+1)]\n",
    "\n",
    "#         if busidx > (N - K - 1):\n",
    "#             break # while\n",
    "        \n",
    "#         if isbreak == 1:\n",
    "#             break # while\n",
    "\n",
    "#         for j, v in enumerate(charge):\n",
    "#             if v == 1:\n",
    "#                 idx = j\n",
    "\n",
    "#             elif 1 not in charge:\n",
    "#                 result = 0\n",
    "#                 isbreak = 1\n",
    "#                 break # for j\n",
    "\n",
    "#         if isbreak == 1:\n",
    "#             break # while\n",
    "\n",
    "#         result += 1\n",
    "#         busidx += idx\n",
    "\n",
    "\n",
    "#     print(f\"{result}\")\n",
    "\n",
    "    \n"
   ]
  },
  {
   "cell_type": "code",
   "execution_count": null,
   "id": "b11d7dfa",
   "metadata": {},
   "outputs": [
    {
     "data": {
      "text/plain": [
       "[1, 2, 3]"
      ]
     },
     "execution_count": 59,
     "metadata": {},
     "output_type": "execute_result"
    }
   ],
   "source": [
    "a = [1,2,3,4,54,566,7,8,8,9]\n",
    "a[:]"
   ]
  },
  {
   "cell_type": "code",
   "execution_count": null,
   "id": "8147f678",
   "metadata": {},
   "outputs": [],
   "source": [
    "T = int(input())\n",
    "for t in range(1, T + 1):\n",
    "    K, N, M = map(int, input().split())\n",
    "    arr = list(map(int, input().split()))\n",
    "\n",
    "    # 버스 정류장 배열을 N+1 크기로 만들고 충전소 위치를 1로 표시\n",
    "    bus_stops = [0] * (N + 1)\n",
    "    for stop_num in arr:\n",
    "        bus_stops[stop_num] = 1\n",
    "\n",
    "    current_position = 0\n",
    "    charge_count = 0\n",
    "\n",
    "    # 현재 위치가 종점(N)에 도달할 때까지 반복\n",
    "    while current_position < N:\n",
    "        # 현재 위치에서 K만큼 이동 가능한 범위 내에서\n",
    "        # 가장 멀리 있는 충전소를 찾습니다.\n",
    "        last_charge_stop = 0\n",
    "        for i in range(K, 0, -1):\n",
    "            if current_position + i <= N and bus_stops[current_position + i] == 1:\n",
    "                last_charge_stop = current_position + i\n",
    "                break\n",
    "        \n",
    "        # 만약 갈 수 있는 충전소가 없다면\n",
    "        # (단, 현재 위치에서 K만큼 이동해서 종점에 도달할 수 있는 경우는 제외)\n",
    "        if last_charge_stop == 0:\n",
    "            if current_position + K < N:\n",
    "                charge_count = 0\n",
    "            break\n",
    "            \n",
    "        # 다음 충전소로 이동\n",
    "        current_position = last_charge_stop\n",
    "        charge_count += 1\n",
    "    \n",
    "    print(f\"#{t} {charge_count}\")"
   ]
  },
  {
   "cell_type": "markdown",
   "id": "9826b73b",
   "metadata": {},
   "source": [
    "삼성시에 있는 5,000개의 버스 정류장은 관리의 편의를 위해 1에서 5,000까지 번호가 붙어 있다.\n",
    "\n",
    "그리고 버스 노선은 N개가 있는데, i번째 버스 노선은 번호가 Ai이상이고,\n",
    "\n",
    "Bi이하인 모든 정류장만을 다니는 버스 노선이다.\n",
    "\n",
    "P개의 버스 정류장에 대해 각 정류장에 몇 개의 버스 노선이 다니는지 구하는 프로그램을 작성하라."
   ]
  },
  {
   "cell_type": "code",
   "execution_count": null,
   "id": "8847a667",
   "metadata": {},
   "outputs": [],
   "source": [
    "T = int(input())\n",
    "for t in range(1, T + 1):\n",
    "    N = int(input())\n",
    "    A1, B1 = map(int, input().split())\n",
    "    A2, B2 = map(int, input().split())\n",
    "    P = int(input())\n",
    "    C1 = int(input())\n",
    "    C2 = int(input())\n",
    "    C3 = int(input())\n",
    "    C4 = int(input())\n",
    "    C5 = int(input())\n",
    "\n",
    "\n",
    "    \n",
    "    \n",
    "    "
   ]
  },
  {
   "cell_type": "code",
   "execution_count": null,
   "id": "45e87135",
   "metadata": {},
   "outputs": [
    {
     "name": "stdout",
     "output_type": "stream",
     "text": [
      "[1, 1, 1, 0, 0]\n"
     ]
    }
   ],
   "source": [
    "N = 2\n",
    "A1, B1, A2, B2, P, C1, C2, C3, C4, C5 = 1, 3, 2, 5, 5, 1, 2, 3, 4, 5\n",
    "\n",
    "# 버스노선 N(2)개\n",
    "\n",
    "arr_p = [0] * P #P개의 버스정류장이 있음\n",
    "arr_p1 = [1] * P\n",
    "\n",
    "arr1 = arr_p1[A1-1:B1] + arr_p[B1:]\n",
    "print(arr1)\n"
   ]
  },
  {
   "cell_type": "code",
   "execution_count": null,
   "id": "ae0bb7ca",
   "metadata": {},
   "outputs": [
    {
     "name": "stdout",
     "output_type": "stream",
     "text": [
      "[0, 0, 0]\n"
     ]
    }
   ],
   "source": [
    "arr_p = [0, 0, 0, 0, 0]\n",
    "arr =arr_p[0:3]\n",
    "print(arr)\n",
    "\n"
   ]
  },
  {
   "cell_type": "code",
   "execution_count": null,
   "id": "a382655b",
   "metadata": {},
   "outputs": [],
   "source": [
    "N = int(input())\n",
    "list_AB = [list(map(int, input().split())) for _ in range(N)]\n",
    "print(list_AB)\n",
    "\n",
    "arr_p = [0] * P #P개의 버스정류장이 있음\n",
    "arr_p1 = [1] * P\n",
    "\n",
    "list_arr = [map(arr_p1[A1-1:B1] + arr_p[B1:], list_AB)]\n",
    "print(list_arr)"
   ]
  },
  {
   "cell_type": "code",
   "execution_count": null,
   "id": "997af38a",
   "metadata": {},
   "outputs": [
    {
     "name": "stdout",
     "output_type": "stream",
     "text": [
      "13\n"
     ]
    }
   ],
   "source": [
    "'''\n",
    "한 쪽 벽면에 다음과 같이 노란색 상자들이 쌓여 있다.\n",
    "\n",
    "높은 곳의 상자를 낮은 곳에 옮기는 방식으로 최고점과 최저점의 간격을 줄이는 작업을 평탄화라고 한다.\n",
    "\n",
    "평탄화를 모두 수행하고 나면, 가장 높은 곳과 가장 낮은 곳의 차이가 최대 1 이내가 된다.\n",
    "\n",
    "평탄화 작업을 위해서 상자를 옮기는 작업 횟수에 제한이 걸려있을 때, 제한된 횟수만큼 옮기는 작업을 한 후 최고점과 최저점의 차이를 반환하는 프로그램을 작성하시오.\n",
    "'''\n",
    "T = 10\n",
    "for t in range(1, T+1):\n",
    "\n",
    "    N = int(input())\n",
    "    arr = list(map(int, input().split()))\n",
    "\n",
    "    for i in range(N):\n",
    "        ismax = 0\n",
    "        ismin = 0\n",
    "        for j, v in enumerate(arr):\n",
    "            if (v == max(arr)) & (ismax == 0):\n",
    "                ismax = 1\n",
    "                arr[j] -= 1\n",
    "\n",
    "            elif (v == min(arr)) & (ismin == 0):\n",
    "                ismin = 1\n",
    "                arr[j] += 1\n",
    "\n",
    "            elif ismax == 1 & ismin == 1:\n",
    "                break\n",
    "\n",
    "    result = max(arr) - min(arr)\n",
    "    print(f\"#{t} {result}\") \n",
    "\n",
    "\n",
    "# a = '42 68 35 1 70 25 79 59 63 65 6 46 82 28 62 92 96 43 28 37 92 5 3 54 93 83 22 17 19 96 48 27 72 39 70 13 68 100 36 95 4 12 23 34 74 65 42 12 54 69 48 45 63 58 38 60 24 42 30 79 17 36 91 43 89 7 41 43 65 49 47 6 91 30 71 51 7 2 94 49 30 24 85 55 57 41 67 77 32 9 45 40 27 24 38 39 19 83 30 42'\n",
    "# arr = list(map(int, a.split()))\n",
    "\n",
    "# N = 834\n",
    "# for i in range(N):\n",
    "#     ismax = 0\n",
    "#     ismin = 0\n",
    "#     for j, v in enumerate(arr):\n",
    "#         if (v == max(arr)) & (ismax == 0):\n",
    "#             ismax = 1\n",
    "#             arr[j] -= 1\n",
    "\n",
    "#         elif (v == min(arr)) & (ismin == 0):\n",
    "#             ismin = 1\n",
    "#             arr[j] += 1\n",
    "\n",
    "#         elif ismax == 1 & ismin == 1:\n",
    "#             break\n",
    "\n",
    "# result = max(arr) - min(arr)\n",
    "# print(result) "
   ]
  },
  {
   "cell_type": "code",
   "execution_count": null,
   "id": "e548dc4c",
   "metadata": {},
   "outputs": [
    {
     "name": "stdout",
     "output_type": "stream",
     "text": [
      "[[0, 0, 0, 0, 0, 0, 0, 0, 0, 0],\n",
      " [0, 0, 0, 0, 0, 0, 0, 0, 0, 0],\n",
      " [0, 0, 0, 0, 0, 0, 0, 0, 0, 0],\n",
      " [0, 0, 0, 0, 0, 0, 0, 0, 0, 0],\n",
      " [0, 0, 0, 0, 0, 0, 0, 0, 0, 0],\n",
      " [0, 0, 0, 0, 0, 0, 0, 0, 0, 0],\n",
      " [0, 0, 0, 0, 0, 0, 0, 0, 0, 0],\n",
      " [0, 0, 0, 0, 0, 0, 0, 0, 0, 0],\n",
      " [0, 0, 0, 0, 0, 0, 0, 0, 0, 0],\n",
      " [0, 0, 0, 0, 0, 0, 0, 0, 0, 0]]\n",
      "[[0, 0, 0, 0, 0, 0, 0, 0, 0, 0],\n",
      " [0, 0, 0, 0, 0, 0, 0, 0, 0, 0],\n",
      " [0, 0, 1, 1, 1, 0, 0, 0, 0, 0],\n",
      " [0, 0, 1, 2, 2, 1, 1, 0, 0, 0],\n",
      " [0, 0, 1, 2, 2, 1, 1, 0, 0, 0],\n",
      " [0, 0, 0, 1, 1, 1, 1, 0, 0, 0],\n",
      " [0, 0, 0, 1, 1, 1, 1, 0, 0, 0],\n",
      " [0, 0, 0, 0, 0, 0, 0, 0, 0, 0],\n",
      " [0, 0, 0, 0, 0, 0, 0, 0, 0, 0],\n",
      " [0, 0, 0, 0, 0, 0, 0, 0, 0, 0]]\n",
      "4\n"
     ]
    }
   ],
   "source": [
    "'''\n",
    "그림과 같이 인덱스가 있는 10x10 격자에 빨간색과 파란색을 칠하려고 한다.\n",
    "\n",
    "N개의 영역에 대해 왼쪽 위와 오른쪽 아래 모서리 인덱스, 칠할 색상이 주어질 때, 칠이 끝난 후 색이 겹쳐 보라색이 된 칸 수를 구하는 프로그램을 만드시오.\n",
    "\n",
    "주어진 정보에서 같은 색인 영역은 겹치지 않는다.\n",
    "'''\n",
    "#10x10 [0]배열 만듦\n",
    "#입력받고 리스트 끝이 1인지 2인지 따라 color 결정\n",
    "#각 color list에 대해 색칠된 부위 1로 표시\n",
    "# color1 인 리스트들 색칠된 부위 체크해서 같은위치의 P배열 1로 \n",
    "# color2 에 대해서도 실행 \n",
    "\n",
    "from pprint import pprint\n",
    "\n",
    "T = int(input())\n",
    "for t in range(1, T+1):\n",
    "    N = int(input())\n",
    "\n",
    "    P = [[0]*10 for _ in range(10)]\n",
    "    result = 0\n",
    "    for _ in range(N):\n",
    "        r1, c1, r2, c2, color = map(int, input().split()) #한 행씩 긁어옴 \n",
    "        for i in range(r1, r2+1):\n",
    "            for j in range(c1, c2+1):\n",
    "                P[i][j] += 1\n",
    "\n",
    "\n",
    "    for i in P:\n",
    "        for j in i:\n",
    "            if j == 2:\n",
    "                result += 1\n",
    "\n",
    "    print(f\"#{t} {result}\")\n",
    "    \n",
    "\n",
    "\n",
    "\n",
    "# arr_a =[list(map(int, input().split())) for _ in range(N)]\n",
    "# print(arr_a)\n",
    "# for i in arr_a:\n",
    "#     if i.pop() == 1: #리스트[-1] 지우고 color 1이면 \n",
    "#         for j in i:\n",
    "#             A, B = (i[0], i[1]), (i[2], i[3])\n",
    "\n",
    "\n",
    "# for i in range(N):\n",
    "#     arr = list(map(int, input().split()))\n",
    "#     print(arr)\n",
    "#     color = arr.pop()\n",
    "#     if color == 1:\n",
    "#         for _ in arr:\n",
    "#             A, B = (arr[0], arr[1]), (arr[2], arr[3])\n",
    "\n",
    "#     elif color == 2:\n",
    "#             C, D = (arr[0], arr[1]), (arr[2], arr[3])\n",
    "\n",
    "\n"
   ]
  },
  {
   "cell_type": "code",
   "execution_count": null,
   "id": "f1461234",
   "metadata": {},
   "outputs": [],
   "source": [
    "T = int(input())\n",
    "for t in range(1, T+1):\n",
    "    N = int(input())\n",
    "    arr = [list(map(int, input().split())) for _ in range(N)]\n",
    "\n",
    "#또는?\n",
    "for r1, c1, r2, c2, color in arr:\n",
    "    pass\n",
    "\n",
    "#읽을 때마다 작업하는 경우\n",
    "for _ in range(N):\n",
    "    r1, c1, r2, c2, color = map(int, input().split()) #한 행씩 긁어옴 \n",
    "    pass #칠하기 코드 \n"
   ]
  },
  {
   "cell_type": "code",
   "execution_count": 58,
   "id": "7687bc4e",
   "metadata": {},
   "outputs": [
    {
     "name": "stdout",
     "output_type": "stream",
     "text": [
      "#1 56\n"
     ]
    }
   ],
   "source": [
    "'''\n",
    "N x N 배열 안의 숫자는 해당 영역에 존재하는 파리의 개수를 의미한다.\n",
    "M x M 크기의 파리채를 한 번 내리쳐 최대한 많은 파리를 죽이고자 한다.\n",
    "\n",
    "죽은 파리의 개수를 구하라!\n",
    "'''\n",
    "from pprint import pprint\n",
    "\n",
    "T = int(input())\n",
    "for t in range(1, T+1):\n",
    "    N, M = map(int, input().split())\n",
    "    # print(N, M)\n",
    "\n",
    "\n",
    "    arr = [list(map(int, input().split())) for _ in range(N)]\n",
    "    \n",
    "    # pprint(arr)\n",
    "\n",
    "\n",
    "    sum = 0\n",
    "    # print(zip(dx, dy))\n",
    "    \n",
    "    #파리채의 기준위치 i,j 파리채 좌상단 인덱스\n",
    "    for i in range(N-M+1):\n",
    "        for j in range(N-M+1): \n",
    "            s = 0\n",
    "            for p in range(i, M+i):\n",
    "                for q in range(j, j+M):\n",
    "                    s += arr[p][q]\n",
    "                    \n",
    "            \n",
    "            if sum < s:\n",
    "                sum = s\n",
    "    \n",
    "    print(f\"#{t} {sum}\")\n",
    "    \n",
    "    \n",
    "\n",
    "    # for i in range(M):\n",
    "    #     for j in range(M):\n",
    "    #         sum += arr[i][j]\n",
    "    # MAX.append(sum)\n",
    "            #MxM 합 구함\n",
    "\n",
    "    # print(f\"#{t} {result}\")\n"
   ]
  },
  {
   "cell_type": "code",
   "execution_count": null,
   "id": "94d7dc61",
   "metadata": {},
   "outputs": [
    {
     "name": "stdout",
     "output_type": "stream",
     "text": [
      "<class 'zip'>\n",
      "[(0, 1), (1, 0), (0, -1), (-1, 0)]\n"
     ]
    }
   ],
   "source": [
    "dx = [0, 1, 0, -1]\n",
    "dy = [1, 0, -1, 0]\n",
    "MAX = []\n",
    "print(type(zip(dx, dy)))\n",
    "print(list(zip(dx, dy)))"
   ]
  },
  {
   "cell_type": "code",
   "execution_count": null,
   "id": "4175fc24",
   "metadata": {},
   "outputs": [
    {
     "ename": "IndexError",
     "evalue": "list index out of range",
     "output_type": "error",
     "traceback": [
      "\u001b[31m---------------------------------------------------------------------------\u001b[39m",
      "\u001b[31mIndexError\u001b[39m                                Traceback (most recent call last)",
      "\u001b[36mCell\u001b[39m\u001b[36m \u001b[39m\u001b[32mIn[59]\u001b[39m\u001b[32m, line 28\u001b[39m\n\u001b[32m     26\u001b[39m \u001b[38;5;28;01mfor\u001b[39;00m di, dj \u001b[38;5;129;01min\u001b[39;00m \u001b[38;5;28mlist\u001b[39m(\u001b[38;5;28mzip\u001b[39m(di1, dj1)):\n\u001b[32m     27\u001b[39m     \u001b[38;5;28;01mif\u001b[39;00m ((i+di*c) <= N) & ((j+dj*c) <= N):\n\u001b[32m---> \u001b[39m\u001b[32m28\u001b[39m         s += \u001b[43marr\u001b[49m\u001b[43m[\u001b[49m\u001b[43mi\u001b[49m\u001b[43m+\u001b[49m\u001b[43mdi\u001b[49m\u001b[43m*\u001b[49m\u001b[43mc\u001b[49m\u001b[43m]\u001b[49m\u001b[43m[\u001b[49m\u001b[43mj\u001b[49m\u001b[43m+\u001b[49m\u001b[43mdj\u001b[49m\u001b[43m*\u001b[49m\u001b[43mc\u001b[49m\u001b[43m]\u001b[49m\n\u001b[32m     29\u001b[39m \u001b[38;5;28;01mif\u001b[39;00m MAX < s :\n\u001b[32m     30\u001b[39m     MAX = s\n",
      "\u001b[31mIndexError\u001b[39m: list index out of range"
     ]
    }
   ],
   "source": [
    "'''\n",
    "N x N 배열 안의 숫자는 해당 영역에 존재하는 파리의 개체 수를 의미한다.\n",
    "\n",
    "파리 킬러 스프레이를 한 번만 뿌려 최대한 많은 파리를 잡으려고 한다. 스프레이의 노즐이 + 형태로 되어있어, 스프레이는 + 혹은 x 형태로 분사된다. 스프레이를 M의 세기로 분사하면 노즐의 중심이 향한 칸부터 각 방향으로 M칸의 파리를 잡을 수 있다.\n",
    "다음은 M=3 세기로 스프레이르 분사한 경우 파리가 퇴치되는 칸의 예로, +또는 x 중 하나로 분사된다. 뿌려진 일부가 영역을 벗어나도 상관없다.\n",
    "'''\n",
    "#인덱스 (M, M) 부터 시작해서 끝 지점은 (N-M, N-M)\n",
    "T = int(input())\n",
    "for t in range(1, T+1):\n",
    "    N, M = map(int, input().split())\n",
    "    arr = [list(map(int, input().split())) for _ in range(N)]\n",
    "\n",
    "\n",
    "    di1 = [1, 0, -1 ,0] # +를 표현\n",
    "    dj1 = [0, 1, 0, -1]\n",
    "\n",
    "    di2 = [1, 1, -1, -1] # x를 표현\n",
    "    dj2 = [1, -1, 1, -1]\n",
    "\n",
    "    max_list = []\n",
    "    max_plus = 0\n",
    "    max_x = 0\n",
    "    \n",
    "\n",
    "    for i in range(N): #arr[i][j]를 표현하기 위한 for문\n",
    "        for j in range(N):\n",
    "            s = arr[i][j]\n",
    "            for c in range(1,M): # 델타를 M까지의 길이만큼 반복할 것 \n",
    "                for di, dj in list(zip(di1, dj1)):\n",
    "                    if (0 <= (i+di*c) < N) & (0 <= (j+dj*c) < N):\n",
    "                        s += arr[i+di*c][j+dj*c]\n",
    "            if max_plus < s :\n",
    "                max_plus = s\n",
    "\n",
    "            \n",
    "            s = arr[i][j]\n",
    "            for c in range(1,M):\n",
    "                for di, dj in list(zip(di2, dj2)):\n",
    "                    if (0 <= (i+di*c) < N) & (0 <= (j+dj*c) < N):\n",
    "                        s += arr[i+di*c][j+dj*c]\n",
    "            if max_x < s:\n",
    "                max_x = s\n",
    "\n",
    "    print(f\"#{t} {max(max_plus, max_x)}\")"
   ]
  },
  {
   "cell_type": "code",
   "execution_count": null,
   "id": "0ae44c1a",
   "metadata": {},
   "outputs": [],
   "source": [
    "'''\n",
    "다음 100X100의 2차원 배열이 주어질 때, 각 행의 합, 각 열의 합, 각 대각선의 합 중 최댓값을 구하는 프로그램을 작성하여라.\n",
    "\n",
    "다음과 같은 5X5 배열에서 최댓값은 29이다.\n",
    "'''\n",
    "# 각 행의 합 포문[i][j]\n",
    "# 열의 합 [j][i] 포문\n",
    "\n",
    "T = 10\n",
    "for t in range(1, T+1):\n",
    "    t1 = int(input())\n",
    "    arr = []\n",
    "\n",
    "\n",
    "    print(f\"#{t}\")"
   ]
  }
 ],
 "metadata": {
  "kernelspec": {
   "display_name": "Python 3",
   "language": "python",
   "name": "python3"
  },
  "language_info": {
   "codemirror_mode": {
    "name": "ipython",
    "version": 3
   },
   "file_extension": ".py",
   "mimetype": "text/x-python",
   "name": "python",
   "nbconvert_exporter": "python",
   "pygments_lexer": "ipython3",
   "version": "3.11.9"
  }
 },
 "nbformat": 4,
 "nbformat_minor": 5
}
