{
 "cells": [
  {
   "cell_type": "code",
   "execution_count": 1,
   "id": "cf4983da",
   "metadata": {},
   "outputs": [],
   "source": [
    "N = int(input())\n",
    "arr  = list(map(int,input().split()))"
   ]
  },
  {
   "cell_type": "code",
   "execution_count": 2,
   "id": "d8bfee2e",
   "metadata": {},
   "outputs": [
    {
     "name": "stdout",
     "output_type": "stream",
     "text": [
      "6\n",
      "[1, 2, 3, 4, 5, 6]\n"
     ]
    }
   ],
   "source": [
    "print(N)\n",
    "print(arr)"
   ]
  },
  {
   "cell_type": "code",
   "execution_count": 6,
   "id": "ace56b6d",
   "metadata": {},
   "outputs": [
    {
     "name": "stdout",
     "output_type": "stream",
     "text": [
      "21\n",
      "21\n"
     ]
    }
   ],
   "source": [
    "#배열 원소의 합\n",
    "s = 0\n",
    "for i in range(N):\n",
    "    s += arr[i]\n",
    "\n",
    "print(s)\n",
    "\n",
    "ss = 0\n",
    "\n",
    "for x in arr:\n",
    "    ss += x\n",
    "\n",
    "print(ss)"
   ]
  },
  {
   "cell_type": "code",
   "execution_count": 7,
   "id": "5ef14981",
   "metadata": {},
   "outputs": [
    {
     "name": "stdout",
     "output_type": "stream",
     "text": [
      "6\n"
     ]
    }
   ],
   "source": [
    "# 배열 원소 중 최댓값 max_v찾기\n",
    "max_v = arr[0] # 첫 원소를 최대로 가정\n",
    "for i in arr:\n",
    "    if max_v < i:\n",
    "        max_v = i\n",
    "\n",
    "print(max_v)"
   ]
  },
  {
   "cell_type": "code",
   "execution_count": null,
   "id": "f36cd18d",
   "metadata": {},
   "outputs": [
    {
     "name": "stdout",
     "output_type": "stream",
     "text": [
      "6\n"
     ]
    }
   ],
   "source": [
    "max_c = arr[0]\n",
    "for i in range(1, N):\n",
    "    if max_c < arr[i]:\n",
    "        max_c = arr[i]\n",
    "\n",
    "print(max_c)"
   ]
  },
  {
   "cell_type": "code",
   "execution_count": 9,
   "id": "1f4e296e",
   "metadata": {},
   "outputs": [
    {
     "name": "stdout",
     "output_type": "stream",
     "text": [
      "5\n"
     ]
    }
   ],
   "source": [
    "#배열 원소 중 최댓값의 인덱스 max_idx찾기\n",
    "\n",
    "max_idx = 0 #첫 원소를 최댓값으로 가정\n",
    "for i in range(1, N):\n",
    "    if arr[max_idx] < arr[i]:\n",
    "        max_idx = i\n",
    "\n",
    "print(i)"
   ]
  },
  {
   "cell_type": "code",
   "execution_count": null,
   "id": "43bc1e53",
   "metadata": {},
   "outputs": [
    {
     "name": "stdout",
     "output_type": "stream",
     "text": [
      "5\n"
     ]
    }
   ],
   "source": [
    "#최댓값이 여러 개인 경우? 마지막 인덱스 찾기?\n",
    "arr = [7,5,4,3,6,7]\n",
    "max_idx = 0 #첫 원소를 최댓값으로 가정\n",
    "for i in range(1, N):\n",
    "    if arr[max_idx] <= arr[i]: # < 가 아닌 <=\n",
    "        max_idx = i\n",
    "\n",
    "print(i)\n"
   ]
  },
  {
   "cell_type": "code",
   "execution_count": 12,
   "id": "06908e75",
   "metadata": {},
   "outputs": [],
   "source": [
    "#찾는 값이 배열에 있으면 해당 원소의 인덱스, 없으면 -1을 idx에 넣기\n",
    "\n",
    "N, V = map(int, input().split())\n",
    "arr = list(map(int, input().split()))\n"
   ]
  },
  {
   "cell_type": "code",
   "execution_count": 13,
   "id": "f5f5b18e",
   "metadata": {},
   "outputs": [
    {
     "name": "stdout",
     "output_type": "stream",
     "text": [
      "6 5\n",
      "[1, 2, 3, 4, 5, 6, 7, 8, 9]\n"
     ]
    }
   ],
   "source": [
    "print(N, V)\n",
    "print(arr)"
   ]
  },
  {
   "cell_type": "code",
   "execution_count": 14,
   "id": "12941851",
   "metadata": {},
   "outputs": [],
   "source": [
    "idx = -1 #찾는 값이 없다고 가정\n",
    "for i in range(N):\n",
    "    if arr[i] == V:\n",
    "        idx = i\n",
    "        break\n",
    "\n"
   ]
  },
  {
   "cell_type": "code",
   "execution_count": null,
   "id": "830bfcc8",
   "metadata": {},
   "outputs": [
    {
     "name": "stdout",
     "output_type": "stream",
     "text": [
      "927930\n",
      "297191\n",
      "#1 630739\n",
      "851600\n",
      "111090\n",
      "#2 740510\n",
      "996285\n",
      "158175\n",
      "#3 838110\n"
     ]
    }
   ],
   "source": [
    "'''\n",
    "N개의 양의 정수에서 가장 큰 수와 가장 작은 수의 차이를 출력하시오.\n",
    "[입력]\n",
    "첫 줄에 테스트 케이스의 수 T가 주어진다. ( 1 ≤ T ≤ 50 )\n",
    "각 케이스의 첫 줄에 양수의 개수 N이 주어진다. ( 5 ≤ N ≤ 1000 )\n",
    "다음 줄에 N개의 양수 ai가 주어진다. ( 1 ≤ ai≤ 1000000 )\n",
    "\n",
    "[출력]\n",
    "각 줄마다 \"#T\" (T는 테스트 케이스 번호)를 출력한 뒤, 답을 출력한다.\n",
    "'''\n",
    "\n",
    "T = int(input())\n",
    "\n",
    "for t in range(1, T+1):\n",
    "    while 1:\n",
    "        N = int(input())\n",
    "        if N >= 5:\n",
    "            break\n",
    "\n",
    "    arr = list(map(int, input().split()))\n",
    "    max_a = arr[0]\n",
    "    for i in range(N):\n",
    "        if max_a < arr[i]:\n",
    "            max_a = arr[i]\n",
    "\n",
    "    min_a = arr[0]\n",
    "    for j in range(N):\n",
    "        if min_a > arr[j]:\n",
    "            min_a = arr[j]\n",
    "\n",
    "    print(f\"#{t} {max_a - min_a}\")"
   ]
  },
  {
   "cell_type": "code",
   "execution_count": 30,
   "id": "c5b262e4",
   "metadata": {},
   "outputs": [
    {
     "name": "stdout",
     "output_type": "stream",
     "text": [
      "#1 21\n",
      "#2 11088\n"
     ]
    },
    {
     "ename": "ValueError",
     "evalue": "not enough values to unpack (expected 2, got 0)",
     "output_type": "error",
     "traceback": [
      "\u001b[31m---------------------------------------------------------------------------\u001b[39m",
      "\u001b[31mValueError\u001b[39m                                Traceback (most recent call last)",
      "\u001b[36mCell\u001b[39m\u001b[36m \u001b[39m\u001b[32mIn[30]\u001b[39m\u001b[32m, line 30\u001b[39m\n\u001b[32m     28\u001b[39m \u001b[38;5;28;01mfor\u001b[39;00m t \u001b[38;5;129;01min\u001b[39;00m \u001b[38;5;28mrange\u001b[39m(\u001b[32m1\u001b[39m, T+\u001b[32m1\u001b[39m):\n\u001b[32m     29\u001b[39m     \u001b[38;5;28;01mwhile\u001b[39;00m \u001b[32m1\u001b[39m:\n\u001b[32m---> \u001b[39m\u001b[32m30\u001b[39m         N, M = \u001b[38;5;28mmap\u001b[39m(\u001b[38;5;28mint\u001b[39m, \u001b[38;5;28minput\u001b[39m().split())\n\u001b[32m     31\u001b[39m         \u001b[38;5;28;01mif\u001b[39;00m (\u001b[32m10\u001b[39m <= N <= \u001b[32m100\u001b[39m) & (\u001b[32m2\u001b[39m<= M < N):\n\u001b[32m     32\u001b[39m             \u001b[38;5;28;01mbreak\u001b[39;00m\n",
      "\u001b[31mValueError\u001b[39m: not enough values to unpack (expected 2, got 0)"
     ]
    }
   ],
   "source": [
    "'''\n",
    "N개의 정수가 들어있는 배열에서 이웃한 M개의 합을 계산하는 것은 디지털 필터링의 기초연산이다.\n",
    "\n",
    "M개의 합이 가장 큰 경우와 가장 작은 경우의 차이를 출력하는 프로그램을 작성하시오.\n",
    "\n",
    "다음은 N=5, M=3이고 5개의 숫자 1 2 3 4 5가 배열 v에 들어있는 경우이다.\n",
    " \n",
    "이웃한 M개의 합이 가장 작은 경우 1 + 2 + 3 = 6\n",
    "\n",
    "이웃한 M개의 합이 가장 큰 경우 3 + 4 + 5 = 12\n",
    "답은 12와 6의 차인 6을 출력한다.\n",
    "\n",
    "[입력]\n",
    " \n",
    "첫 줄에 테스트 케이스 개수 T가 주어진다.  ( 1 ≤ T ≤ 50 )\n",
    "\n",
    "다음 줄부터 테스트케이스의 첫 줄에 정수의 개수 N과 구간의 개수 M 주어진다. ( 10 ≤ N ≤ 100,  2 ≤ M ＜ N )\n",
    "\n",
    "다음 줄에 N개의 정수 ai가 주어진다. ( 1 ≤ a ≤ 10000 )\n",
    " \n",
    "\n",
    "[출력]\n",
    "각 줄마다 \"#T\" (T는 테스트 케이스 번호)를 출력한 뒤, 답을 출력한다.\n",
    "'''\n",
    "# N개의 배열 이웃한 M개 \n",
    "# 인덱스 0 ~ M-1 합침. M-1 = N-1까지 계산\n",
    "T = int(input())\n",
    "for t in range(1, T+1):\n",
    "    while 1:\n",
    "        N, M = map(int, input().split())\n",
    "        if (10 <= N <= 100) & (2<= M < N):\n",
    "            break\n",
    "        \n",
    "    arr = list(map(int, input().split()))\n",
    "\n",
    "    max_sum = 0\n",
    "    min_sum = 0\n",
    "    sum_M = 0 #M개의 배열 합\n",
    "\n",
    "    for i in range(N-M+1):\n",
    "        sum_M = 0\n",
    "        for j in range(M):\n",
    "            sum_M += arr[i+j] #M개의 배열 합\n",
    "        \n",
    "        if max_sum == 0:\n",
    "            max_sum = sum_M\n",
    "\n",
    "        if min_sum == 0:\n",
    "            min_sum = sum_M\n",
    "\n",
    "        if max_sum < sum_M:\n",
    "            max_sum = sum_M # 가장 큰 수 갱신\n",
    "\n",
    "        if min_sum > sum_M:\n",
    "            min_sum = sum_M # 가장 작은 수 갱신\n",
    "\n",
    "\n",
    "\n",
    "    print(f\"#{t} {max_sum - min_sum}\")\n",
    "\n"
   ]
  },
  {
   "cell_type": "code",
   "execution_count": null,
   "id": "efdb468c",
   "metadata": {},
   "outputs": [
    {
     "name": "stdout",
     "output_type": "stream",
     "text": [
      "[0, 1, 2, 3, 4, 5, 6, 7]\n",
      "[0, 1, 2, 3, 4, 5, 6, 7, 6]\n",
      "#1 7\n"
     ]
    },
    {
     "ename": "ValueError",
     "evalue": "invalid literal for int() with base 10: ''",
     "output_type": "error",
     "traceback": [
      "\u001b[31m---------------------------------------------------------------------------\u001b[39m",
      "\u001b[31mValueError\u001b[39m                                Traceback (most recent call last)",
      "\u001b[36mCell\u001b[39m\u001b[36m \u001b[39m\u001b[32mIn[86]\u001b[39m\u001b[32m, line 18\u001b[39m\n\u001b[32m     16\u001b[39m \u001b[38;5;28;01mfor\u001b[39;00m t \u001b[38;5;129;01min\u001b[39;00m \u001b[38;5;28mrange\u001b[39m(\u001b[32m1\u001b[39m, T+\u001b[32m1\u001b[39m):\n\u001b[32m     17\u001b[39m     \u001b[38;5;28;01mwhile\u001b[39;00m \u001b[32m1\u001b[39m:\n\u001b[32m---> \u001b[39m\u001b[32m18\u001b[39m         N = \u001b[38;5;28;43mint\u001b[39;49m\u001b[43m(\u001b[49m\u001b[38;5;28;43minput\u001b[39;49m\u001b[43m(\u001b[49m\u001b[43m)\u001b[49m\u001b[43m)\u001b[49m\n\u001b[32m     19\u001b[39m         \u001b[38;5;28;01mif\u001b[39;00m (\u001b[32m1\u001b[39m <= N <= \u001b[32m100\u001b[39m):\n\u001b[32m     20\u001b[39m             \u001b[38;5;28;01mbreak\u001b[39;00m\n",
      "\u001b[31mValueError\u001b[39m: invalid literal for int() with base 10: ''"
     ]
    }
   ],
   "source": [
    "'''\n",
    "### 문제\n",
    "* 상자들이 쌓여있는 방이 있다. 방이 오른쪽으로 90도 회전하여 상자들이 중력의 영향을 받아 낙하한다고 할 때, 낙차가 가장 큰 상자를 구하여 그 낙차를 리턴하는 프로그램을 작성\n",
    "* 중력은 회전이 완료된 후 적용\n",
    "* 상자들은 모두 한쪽 벽면에 붙여진 상태로 쌓여 2차원의 형태를 이루며 벽에서 떨어져 쌓인 상자는 없음\n",
    "* 상자의 가로, 세로 길이는 각각 1\n",
    "* 방의 가로 길이는 최대 100이며, 세로 길이도 최대 100\n",
    "* 즉, 상자는 최소 0, 최대 100 높이로 쌓을 수 있음\n",
    "* 상자가 놓인 가로 칸의 수 N, 다음 줄에 각 칸의 상자 높이가 주어짐\n",
    "\n",
    "단, 방의 가로 길이는 N이다.  \n",
    "\n",
    "입력으로 테스트케이스 개수, 다음 줄부터 케이스별로 첫 줄에 N, 다음 줄에 N개의 상자 높이가 주어진다.\n",
    "'''\n",
    "T = int(input())\n",
    "for t in range(1, T+1):\n",
    "    while 1:\n",
    "        N = int(input())\n",
    "        if (1 <= N <= 100):\n",
    "            break\n",
    "\n",
    "    M = list(map(int, input().split()))\n",
    "    h = []\n",
    "    max_idx = 0\n",
    "\n",
    "    for i,v in enumerate(M):\n",
    "        if v == max(M):\n",
    "            for j , v2 in enumerate(M[i+1:]):\n",
    "                if v == max(M[i+1:]):\n",
    "                    h.append(j)\n",
    "\n",
    "                else:\n",
    "                    h.append(N-i)\n",
    "            max_idx = i\n",
    "            break\n",
    "    # print(h)\n",
    "\n",
    "    for i, v in enumerate(M[:max_idx+1]):\n",
    "        n = 0 # i번째 건물보다 높은 건물 수\n",
    "        if v > 1:\n",
    "            for j, v2 in enumerate(M[i:]):\n",
    "                if v <= v2:\n",
    "                    n += 1\n",
    "            h.append(N-i-n)\n",
    "    # print(h)\n",
    "\n",
    "    print(f\"#{t} {max(h)}\")\n",
    "\n"
   ]
  },
  {
   "cell_type": "code",
   "execution_count": null,
   "id": "46063471",
   "metadata": {},
   "outputs": [
    {
     "name": "stdout",
     "output_type": "stream",
     "text": [
      "[10, 5, 7, 2, 13, 2, 1, 0, 11, 7, 5, 9, 7, 2, 3, 0, 1, 2, 2, 1, 0]\n",
      "#2 13\n"
     ]
    }
   ],
   "source": [
    "N = 20\n",
    "M = [52, 56, 38, 77, 43, 31, 11, 87, 68, 64, 88, 76, 56, 59, 46, 57, 75, 85, 65, 53]\n",
    "h = []\n",
    "max_idx = 0\n",
    "\n",
    "for i,v in enumerate(M):\n",
    "    if v == max(M):\n",
    "        h.append(N-i)\n",
    "        max_idx = i\n",
    "        break\n",
    "\n",
    "for i, v in enumerate(M):\n",
    "    n = 0 # i번째 건물보다 높은 건물 수\n",
    "    for j, v2 in enumerate(M[i:]):\n",
    "        if v < v2:\n",
    "            n += 1\n",
    "    h.append(N-i-n-1)\n",
    "\n",
    "print(f\"#{t} {max(h)}\")"
   ]
  },
  {
   "cell_type": "code",
   "execution_count": 46,
   "id": "20cb2250",
   "metadata": {},
   "outputs": [
    {
     "name": "stdout",
     "output_type": "stream",
     "text": [
      "[[0, 0, 0, 0, 0], [0, 0, 0, 0, 0], [0, 0, 0, 0, 0], [0, 0, 0, 0, 0], [0, 0, 0, 0, 0]]\n"
     ]
    }
   ],
   "source": [
    "n = 5\n",
    "v = [[0] * n] * 5\n",
    "\n",
    "print(v)"
   ]
  },
  {
   "cell_type": "code",
   "execution_count": 82,
   "id": "2ee46123",
   "metadata": {},
   "outputs": [
    {
     "data": {
      "text/plain": [
       "[3, 4, 5]"
      ]
     },
     "execution_count": 82,
     "metadata": {},
     "output_type": "execute_result"
    }
   ],
   "source": [
    "m = [1, 2, 3, 4, 5]\n",
    "\n",
    "m[:3]\n",
    "m[2:]\n"
   ]
  },
  {
   "cell_type": "code",
   "execution_count": null,
   "id": "b855f1b8",
   "metadata": {},
   "outputs": [],
   "source": []
  }
 ],
 "metadata": {
  "kernelspec": {
   "display_name": "Python 3",
   "language": "python",
   "name": "python3"
  },
  "language_info": {
   "codemirror_mode": {
    "name": "ipython",
    "version": 3
   },
   "file_extension": ".py",
   "mimetype": "text/x-python",
   "name": "python",
   "nbconvert_exporter": "python",
   "pygments_lexer": "ipython3",
   "version": "3.11.9"
  }
 },
 "nbformat": 4,
 "nbformat_minor": 5
}
