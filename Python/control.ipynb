{
 "cells": [
  {
   "cell_type": "code",
   "execution_count": 1,
   "id": "f8b016fa",
   "metadata": {},
   "outputs": [
    {
     "name": "stdout",
     "output_type": "stream",
     "text": [
      "A c\n",
      "A d\n",
      "B c\n",
      "B d\n"
     ]
    }
   ],
   "source": [
    "outers = ['A', 'B']\n",
    "inners = ['c', 'd']\n",
    "\n",
    "for outer in outers:\n",
    "    for inner in inners:\n",
    "        print(outer, inner)"
   ]
  },
  {
   "cell_type": "code",
   "execution_count": 2,
   "id": "ecd4fad7",
   "metadata": {},
   "outputs": [
    {
     "name": "stdout",
     "output_type": "stream",
     "text": [
      "x\n",
      "10\n",
      "y\n",
      "20\n",
      "z\n",
      "30\n"
     ]
    }
   ],
   "source": [
    "my_dict = {\n",
    "    'x': 10,\n",
    "    'y': 20,\n",
    "    'z': 30,\n",
    "}\n",
    "\n",
    "for key in my_dict:\n",
    "    print(key)\n",
    "    print(my_dict[key])"
   ]
  },
  {
   "cell_type": "code",
   "execution_count": 3,
   "id": "b04b0d49",
   "metadata": {},
   "outputs": [
    {
     "name": "stdout",
     "output_type": "stream",
     "text": [
      "a\n",
      "b\n",
      "c\n",
      "d\n",
      "e\n",
      "f\n"
     ]
    }
   ],
   "source": [
    "elements = [\n",
    "    ['a', 'b'],\n",
    "    ['c', 'd'],\n",
    "    ['e', 'f']\n",
    "]\n",
    "\n",
    "for ele in elements:\n",
    "    for elem in ele:\n",
    "        print(elem)"
   ]
  },
  {
   "cell_type": "code",
   "execution_count": 9,
   "id": "c0983a64",
   "metadata": {},
   "outputs": [
    {
     "name": "stdout",
     "output_type": "stream",
     "text": [
      "a\n",
      "b\n",
      "A\n",
      "B\n",
      "c\n",
      "d\n",
      "C\n",
      "D\n",
      "e\n",
      "f\n",
      "E\n",
      "F\n"
     ]
    }
   ],
   "source": [
    "elements = [\n",
    "    {'a': 'b', 'A': 'B'},\n",
    "    {'c': 'd', 'C': 'D'},\n",
    "    {'e': 'f', 'E': 'F'}\n",
    "]\n",
    "\n",
    "for ele in elements:\n",
    "    for elem in ele:\n",
    "        print(elem)\n",
    "        print(ele[elem])"
   ]
  },
  {
   "cell_type": "code",
   "execution_count": 18,
   "id": "3bbb8548",
   "metadata": {},
   "outputs": [
    {
     "name": "stdout",
     "output_type": "stream",
     "text": [
      "{'종류': '한식', '이름': '잡채'}\n",
      "3\n",
      "한식\n",
      "잡채\n",
      "[{'종류': '한식', '이름': '잡채'}, {'종류': '과일', '이름': '토마토'}, {'종류': '중식', '이름': '자장면'}]\n"
     ]
    }
   ],
   "source": [
    "food_list = [\n",
    "    {\n",
    "        '종류': '한식',\n",
    "        '이름': '잡채'\n",
    "    },\n",
    "    {\n",
    "        '종류': '채소',\n",
    "        '이름': '토마토'\n",
    "    },\n",
    "    {\n",
    "        '종류': '중식',\n",
    "        '이름': '자장면'\n",
    "    },\n",
    "]\n",
    "\n",
    "print(food_list[0])\n",
    "print(len(food_list))\n",
    "print(food_list[0]['종류'])\n",
    "print(food_list[0]['이름'])\n",
    "\n",
    "food_list[1]['종류'] = '과일'\n",
    "print(food_list)"
   ]
  },
  {
   "cell_type": "code",
   "execution_count": 22,
   "id": "b03ad372",
   "metadata": {},
   "outputs": [
    {
     "name": "stdout",
     "output_type": "stream",
     "text": [
      "장화홍련전\n",
      "가락국 신화\n",
      "온달 설화\n",
      "금오신화\n",
      "이생규장전\n",
      "만복자서포기\n",
      "수성지\n",
      "백호집\n",
      "원생몽유록\n",
      "홍길동전\n",
      "장생전\n",
      "도문대작\n",
      "옥루몽\n",
      "옥련몽\n"
     ]
    }
   ],
   "source": [
    "list_of_book = [\n",
    "    '장화홍련전',\n",
    "    '가락국 신화',\n",
    "    '온달 설화',\n",
    "    '금오신화',\n",
    "    '이생규장전',\n",
    "    '만복자서포기',\n",
    "    '수성지',\n",
    "    '백호집',\n",
    "    '원생몽유록',\n",
    "    '홍길동전',\n",
    "    '장생전',\n",
    "    '도문대작',\n",
    "    '옥루몽',\n",
    "    '옥련몽',\n",
    "]\n",
    "\n",
    "rental_list = [\n",
    "    '장생전',\n",
    "    '원생몽유록',\n",
    "    '이생규장전',\n",
    "    '장화홍련전',\n",
    "    '수성지',\n",
    "    '백호집',\n",
    "    '난중일기',\n",
    "    '홍길동전',\n",
    "    '만복자서포기',\n",
    "]\n",
    "\n",
    "for i in list_of_book:\n",
    "    print(i)"
   ]
  },
  {
   "cell_type": "code",
   "execution_count": 1,
   "id": "c63bde79",
   "metadata": {},
   "outputs": [
    {
     "name": "stdout",
     "output_type": "stream",
     "text": [
      "[{'date': '2025-01-01', 'localName': '새해', 'name': \"New Year's Day\", 'countryCode': 'KR', 'fixed': False, 'global': True, 'counties': None, 'launchYear': None, 'types': ['Public']}, {'date': '2025-01-28', 'localName': '설날', 'name': 'Lunar New Year', 'countryCode': 'KR', 'fixed': False, 'global': True, 'counties': None, 'launchYear': None, 'types': ['Public']}, {'date': '2025-01-29', 'localName': '설날', 'name': 'Lunar New Year', 'countryCode': 'KR', 'fixed': False, 'global': True, 'counties': None, 'launchYear': None, 'types': ['Public']}, {'date': '2025-01-30', 'localName': '설날', 'name': 'Lunar New Year', 'countryCode': 'KR', 'fixed': False, 'global': True, 'counties': None, 'launchYear': None, 'types': ['Public']}, {'date': '2025-03-01', 'localName': '3·1절', 'name': 'Independence Movement Day', 'countryCode': 'KR', 'fixed': False, 'global': True, 'counties': None, 'launchYear': None, 'types': ['Public']}, {'date': '2025-05-05', 'localName': '어린이날', 'name': \"Children's Day\", 'countryCode': 'KR', 'fixed': False, 'global': True, 'counties': None, 'launchYear': None, 'types': ['Public']}, {'date': '2025-05-05', 'localName': '부처님 오신 날', 'name': \"Buddha's Birthday\", 'countryCode': 'KR', 'fixed': False, 'global': True, 'counties': None, 'launchYear': None, 'types': ['Public']}, {'date': '2025-06-06', 'localName': '현충일', 'name': 'Memorial Day', 'countryCode': 'KR', 'fixed': False, 'global': True, 'counties': None, 'launchYear': None, 'types': ['Public']}, {'date': '2025-08-15', 'localName': '광복절', 'name': 'Liberation Day', 'countryCode': 'KR', 'fixed': False, 'global': True, 'counties': None, 'launchYear': None, 'types': ['Public']}, {'date': '2025-10-03', 'localName': '개천절', 'name': 'National Foundation Day', 'countryCode': 'KR', 'fixed': False, 'global': True, 'counties': None, 'launchYear': None, 'types': ['Public']}, {'date': '2025-10-06', 'localName': '추석', 'name': 'Chuseok', 'countryCode': 'KR', 'fixed': False, 'global': True, 'counties': None, 'launchYear': None, 'types': ['Public']}, {'date': '2025-10-07', 'localName': '추석', 'name': 'Chuseok', 'countryCode': 'KR', 'fixed': False, 'global': True, 'counties': None, 'launchYear': None, 'types': ['Public']}, {'date': '2025-10-08', 'localName': '추석', 'name': 'Chuseok', 'countryCode': 'KR', 'fixed': False, 'global': True, 'counties': None, 'launchYear': None, 'types': ['Public']}, {'date': '2025-10-09', 'localName': '한글날', 'name': 'Hangul Day', 'countryCode': 'KR', 'fixed': False, 'global': True, 'counties': None, 'launchYear': None, 'types': ['Public']}, {'date': '2025-12-25', 'localName': '크리스마스', 'name': 'Christmas Day', 'countryCode': 'KR', 'fixed': False, 'global': True, 'counties': None, 'launchYear': None, 'types': ['Public']}]\n"
     ]
    }
   ],
   "source": [
    "import requests\n",
    "\n",
    "url = \"https://date.nager.at/api/v3/publicholidays/2025/KR\"\n",
    "response = requests.get(url).json()\n",
    "\n",
    "print(response)"
   ]
  },
  {
   "cell_type": "code",
   "execution_count": 3,
   "id": "5254637e",
   "metadata": {},
   "outputs": [
    {
     "name": "stdout",
     "output_type": "stream",
     "text": [
      "[{'b': 1, 'c': 1}]\n",
      "[{'b': 1, 'c': 1}, {'b': 2, 'c': 4}]\n",
      "[{'b': 1, 'c': 1}, {'b': 2, 'c': 4}, {'b': 3, 'c': 9}]\n",
      "[{'b': 1, 'c': 1}, {'b': 2, 'c': 4}, {'b': 3, 'c': 9}, {'b': 4, 'c': 16}]\n",
      "[{'b': 1, 'c': 1}, {'b': 2, 'c': 4}, {'b': 3, 'c': 9}, {'b': 4, 'c': 16}, {'b': 5, 'c': 25}]\n",
      "[{'b': 1, 'c': 1}, {'b': 2, 'c': 4}, {'b': 3, 'c': 9}, {'b': 4, 'c': 16}, {'b': 5, 'c': 25}, {'b': 6, 'c': 36}]\n",
      "[{'b': 1, 'c': 1}, {'b': 2, 'c': 4}, {'b': 3, 'c': 9}, {'b': 4, 'c': 16}, {'b': 5, 'c': 25}, {'b': 6, 'c': 36}, {'b': 7, 'c': 49}]\n",
      "[{'b': 1, 'c': 1}, {'b': 2, 'c': 4}, {'b': 3, 'c': 9}, {'b': 4, 'c': 16}, {'b': 5, 'c': 25}, {'b': 6, 'c': 36}, {'b': 7, 'c': 49}, {'b': 8, 'c': 64}]\n",
      "[{'b': 1, 'c': 1}, {'b': 2, 'c': 4}, {'b': 3, 'c': 9}, {'b': 4, 'c': 16}, {'b': 5, 'c': 25}, {'b': 6, 'c': 36}, {'b': 7, 'c': 49}, {'b': 8, 'c': 64}, {'b': 9, 'c': 81}]\n",
      "[{'b': 1, 'c': 1}, {'b': 2, 'c': 4}, {'b': 3, 'c': 9}, {'b': 4, 'c': 16}, {'b': 5, 'c': 25}, {'b': 6, 'c': 36}, {'b': 7, 'c': 49}, {'b': 8, 'c': 64}, {'b': 9, 'c': 81}, {'b': 10, 'c': 100}]\n"
     ]
    }
   ],
   "source": [
    "a = []\n",
    "\n",
    "for i in range(1,11):\n",
    "    b = i\n",
    "    c = i*i\n",
    "\n",
    "    a.append({'b': b, 'c': c})\n",
    "    print(a)"
   ]
  },
  {
   "cell_type": "code",
   "execution_count": 21,
   "id": "b0041d0d",
   "metadata": {},
   "outputs": [
    {
     "name": "stdout",
     "output_type": "stream",
     "text": [
      "{'Keebler LLC', 'Deckow-Crist', 'Robel-Corkery', 'Considine-Lockman', 'Yost and Sons', 'Hoeger LLC', 'Romaguera-Crona', 'Abernathy Group', 'Romaguera-Jacobson', 'Johns Group'}\n",
      "{'Keebler LLC', 'Yost and Sons', 'Romaguera-Crona', 'Hoeger LLC', 'Johns Group'}\n"
     ]
    }
   ],
   "source": [
    "a = {\n",
    "'Romaguera-Crona': ['Leanne Graham'], \n",
    "'Deckow-Crist': ['Ervin Howell'], \n",
    "'Romaguera-Jacobson': ['Clementine Bauch'], \n",
    "'Robel-Corkery': ['Patricia Lebsack'], \n",
    "'Keebler LLC': ['Chelsey Dietrich'], \n",
    "'Considine-Lockman': ['Mrs. Dennis Schulist'], \n",
    "'Johns Group': ['Kurtis Weissnat'], \n",
    "'Abernathy Group': ['Nicholas Runolfsdottir V'], \n",
    "'Yost and Sons': ['Glenna Reichert'], \n",
    "'Hoeger LLC': ['Clementina DuBuque']\n",
    "}\n",
    "\n",
    "black_list = [\n",
    "    'Hoeger LLC',\n",
    "    'Keebler LLC',\n",
    "    'Yost and Sons',\n",
    "    'Johns Group',\n",
    "    'Romaguera-Crona',\n",
    "]\n",
    "print(set(a))\n",
    "print(set(black_list))\n",
    "# print(set(a.values()) & set(black_list))\n",
    "# print(len(set(a.values()) & set(black_list)))"
   ]
  },
  {
   "cell_type": "code",
   "execution_count": 29,
   "id": "52505c22",
   "metadata": {},
   "outputs": [
    {
     "name": "stdout",
     "output_type": "stream",
     "text": [
      "[10, 20, 30]\n",
      "<class 'tuple'>\n",
      "3\n",
      "False\n"
     ]
    }
   ],
   "source": [
    "a = (10, 20, 30)\n",
    "b = list(a)\n",
    "\n",
    "print(b)\n",
    "print(type(a))\n",
    "print(len(a))\n",
    "\n",
    "print(not 1)"
   ]
  }
 ],
 "metadata": {
  "kernelspec": {
   "display_name": "Python 3",
   "language": "python",
   "name": "python3"
  },
  "language_info": {
   "codemirror_mode": {
    "name": "ipython",
    "version": 3
   },
   "file_extension": ".py",
   "mimetype": "text/x-python",
   "name": "python",
   "nbconvert_exporter": "python",
   "pygments_lexer": "ipython3",
   "version": "3.11.9"
  }
 },
 "nbformat": 4,
 "nbformat_minor": 5
}
