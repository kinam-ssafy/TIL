{
 "cells": [
  {
   "cell_type": "code",
   "execution_count": 1,
   "id": "f8b016fa",
   "metadata": {},
   "outputs": [
    {
     "name": "stdout",
     "output_type": "stream",
     "text": [
      "A c\n",
      "A d\n",
      "B c\n",
      "B d\n"
     ]
    }
   ],
   "source": [
    "outers = ['A', 'B']\n",
    "inners = ['c', 'd']\n",
    "\n",
    "for outer in outers:\n",
    "    for inner in inners:\n",
    "        print(outer, inner)"
   ]
  },
  {
   "cell_type": "code",
   "execution_count": 2,
   "id": "ecd4fad7",
   "metadata": {},
   "outputs": [
    {
     "name": "stdout",
     "output_type": "stream",
     "text": [
      "x\n",
      "10\n",
      "y\n",
      "20\n",
      "z\n",
      "30\n"
     ]
    }
   ],
   "source": [
    "my_dict = {\n",
    "    'x': 10,\n",
    "    'y': 20,\n",
    "    'z': 30,\n",
    "}\n",
    "\n",
    "for key in my_dict:\n",
    "    print(key)\n",
    "    print(my_dict[key])"
   ]
  },
  {
   "cell_type": "code",
   "execution_count": 3,
   "id": "b04b0d49",
   "metadata": {},
   "outputs": [
    {
     "name": "stdout",
     "output_type": "stream",
     "text": [
      "a\n",
      "b\n",
      "c\n",
      "d\n",
      "e\n",
      "f\n"
     ]
    }
   ],
   "source": [
    "elements = [\n",
    "    ['a', 'b'],\n",
    "    ['c', 'd'],\n",
    "    ['e', 'f']\n",
    "]\n",
    "\n",
    "for ele in elements:\n",
    "    for elem in ele:\n",
    "        print(elem)"
   ]
  },
  {
   "cell_type": "code",
   "execution_count": 9,
   "id": "c0983a64",
   "metadata": {},
   "outputs": [
    {
     "name": "stdout",
     "output_type": "stream",
     "text": [
      "a\n",
      "b\n",
      "A\n",
      "B\n",
      "c\n",
      "d\n",
      "C\n",
      "D\n",
      "e\n",
      "f\n",
      "E\n",
      "F\n"
     ]
    }
   ],
   "source": [
    "elements = [\n",
    "    {'a': 'b', 'A': 'B'},\n",
    "    {'c': 'd', 'C': 'D'},\n",
    "    {'e': 'f', 'E': 'F'}\n",
    "]\n",
    "\n",
    "for ele in elements:\n",
    "    for elem in ele:\n",
    "        print(elem)\n",
    "        print(ele[elem])"
   ]
  },
  {
   "cell_type": "code",
   "execution_count": 18,
   "id": "3bbb8548",
   "metadata": {},
   "outputs": [
    {
     "name": "stdout",
     "output_type": "stream",
     "text": [
      "{'종류': '한식', '이름': '잡채'}\n",
      "3\n",
      "한식\n",
      "잡채\n",
      "[{'종류': '한식', '이름': '잡채'}, {'종류': '과일', '이름': '토마토'}, {'종류': '중식', '이름': '자장면'}]\n"
     ]
    }
   ],
   "source": [
    "food_list = [\n",
    "    {\n",
    "        '종류': '한식',\n",
    "        '이름': '잡채'\n",
    "    },\n",
    "    {\n",
    "        '종류': '채소',\n",
    "        '이름': '토마토'\n",
    "    },\n",
    "    {\n",
    "        '종류': '중식',\n",
    "        '이름': '자장면'\n",
    "    },\n",
    "]\n",
    "\n",
    "print(food_list[0])\n",
    "print(len(food_list))\n",
    "print(food_list[0]['종류'])\n",
    "print(food_list[0]['이름'])\n",
    "\n",
    "food_list[1]['종류'] = '과일'\n",
    "print(food_list)"
   ]
  },
  {
   "cell_type": "code",
   "execution_count": 22,
   "id": "b03ad372",
   "metadata": {},
   "outputs": [
    {
     "name": "stdout",
     "output_type": "stream",
     "text": [
      "장화홍련전\n",
      "가락국 신화\n",
      "온달 설화\n",
      "금오신화\n",
      "이생규장전\n",
      "만복자서포기\n",
      "수성지\n",
      "백호집\n",
      "원생몽유록\n",
      "홍길동전\n",
      "장생전\n",
      "도문대작\n",
      "옥루몽\n",
      "옥련몽\n"
     ]
    }
   ],
   "source": [
    "list_of_book = [\n",
    "    '장화홍련전',\n",
    "    '가락국 신화',\n",
    "    '온달 설화',\n",
    "    '금오신화',\n",
    "    '이생규장전',\n",
    "    '만복자서포기',\n",
    "    '수성지',\n",
    "    '백호집',\n",
    "    '원생몽유록',\n",
    "    '홍길동전',\n",
    "    '장생전',\n",
    "    '도문대작',\n",
    "    '옥루몽',\n",
    "    '옥련몽',\n",
    "]\n",
    "\n",
    "rental_list = [\n",
    "    '장생전',\n",
    "    '원생몽유록',\n",
    "    '이생규장전',\n",
    "    '장화홍련전',\n",
    "    '수성지',\n",
    "    '백호집',\n",
    "    '난중일기',\n",
    "    '홍길동전',\n",
    "    '만복자서포기',\n",
    "]\n",
    "\n",
    "for i in list_of_book:\n",
    "    print(i)"
   ]
  }
 ],
 "metadata": {
  "kernelspec": {
   "display_name": "Python 3",
   "language": "python",
   "name": "python3"
  },
  "language_info": {
   "codemirror_mode": {
    "name": "ipython",
    "version": 3
   },
   "file_extension": ".py",
   "mimetype": "text/x-python",
   "name": "python",
   "nbconvert_exporter": "python",
   "pygments_lexer": "ipython3",
   "version": "3.11.9"
  }
 },
 "nbformat": 4,
 "nbformat_minor": 5
}
