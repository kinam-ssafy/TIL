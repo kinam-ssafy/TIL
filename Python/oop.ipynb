{
 "cells": [
  {
   "cell_type": "code",
   "execution_count": 3,
   "id": "6141cd93",
   "metadata": {},
   "outputs": [
    {
     "name": "stdout",
     "output_type": "stream",
     "text": [
      "안녕하세요, Alice입니다. 나이는 25입니다.\n",
      "안녕하세요, Alice입니다. 나이는 25살 입니다.\n",
      "Alice\n",
      "25\n"
     ]
    }
   ],
   "source": [
    "#절차 지향 사고\n",
    "#변수와 함수를 별개로 다룸\n",
    "\n",
    "name = 'Alice'\n",
    "age = 25\n",
    "\n",
    "def introduce(name, age):\n",
    "    print(f\"안녕하세요, {name}입니다. 나이는 {age}입니다.\")\n",
    "\n",
    "introduce(name, age)\n",
    "\n",
    "#객체 지향 사고\n",
    "# 객체 안에 name, age와 이와 관련된 기능(메서드) 포함\n",
    "\n",
    "class Person:\n",
    "    #__init__은 생성자 메서드\n",
    "    def __init__(self, name, age):\n",
    "        #인스턴스 속성\n",
    "        self.name = name\n",
    "        self.age = age\n",
    "\n",
    "    def introduce(self):\n",
    "        print(f\"안녕하세요, {self.name}입니다. 나이는 {self.age}살 입니다.\")\n",
    "\n",
    "alice = Person('Alice', 25)\n",
    "alice.introduce() # 객체가 자신의 정보를 출력\n",
    "\n",
    "#인스턴스 변수 접근 및 출력\n",
    "print(alice.name)\n",
    "print(alice.age)\n"
   ]
  },
  {
   "cell_type": "code",
   "execution_count": 4,
   "id": "dc0e37a6",
   "metadata": {},
   "outputs": [
    {
     "name": "stdout",
     "output_type": "stream",
     "text": [
      "1\n",
      "2\n",
      "3.14\n",
      "3.14\n"
     ]
    }
   ],
   "source": [
    "class Circle:\n",
    "    pi = 3.14\n",
    "\n",
    "    #생성자 메서드\n",
    "    def __init__(self, radius):\n",
    "        self.radius = radius\n",
    "\n",
    "#인스턴스 생성\n",
    "c1 = Circle(1)\n",
    "c2 = Circle(2)\n",
    "\n",
    "#인스턴스 변수(속성) 접근\n",
    "print(c1.radius)\n",
    "print(c2.radius)\n",
    "\n",
    "#클래스 변수(공통 속성) 접근\n",
    "print(c1.pi)\n",
    "print(c2.pi)"
   ]
  },
  {
   "cell_type": "code",
   "execution_count": null,
   "id": "c28280e0",
   "metadata": {},
   "outputs": [
    {
     "name": "stdout",
     "output_type": "stream",
     "text": [
      "5\n",
      "10\n",
      "100\n",
      "3.14\n",
      "3.14\n"
     ]
    }
   ],
   "source": [
    "class Circle:\n",
    "    pi = 3.14\n",
    "\n",
    "    def __init__(self, radius):\n",
    "        self.radius = radius\n",
    "\n",
    "c1 = Circle(5)\n",
    "c2 = Circle(10)\n",
    "\n",
    "print(c1.radius)\n",
    "print(c2.radius)\n",
    "\n",
    "c1.pi = 100 #c1이 본인 인스턴스 변수 pi를 생성\n",
    "\n",
    "print(c1.pi)\n",
    "print(Circle.pi)\n",
    "\n",
    "#c2는 인스턴스 변수 pi가 없음. 따라서 클래스의 pi를 찾아가서 조회\n",
    "print(c2.pi)"
   ]
  },
  {
   "cell_type": "code",
   "execution_count": 6,
   "id": "4894298d",
   "metadata": {},
   "outputs": [
    {
     "name": "stdout",
     "output_type": "stream",
     "text": [
      "1\n",
      "0\n"
     ]
    }
   ],
   "source": [
    "class Counter:\n",
    "    def __init__(self):\n",
    "        self.count = 0\n",
    "\n",
    "    def increment(self):\n",
    "        self.count += 1\n",
    "\n",
    "c1 = Counter()\n",
    "c2 = Counter()\n",
    "\n",
    "c1.increment()\n",
    "print(c1.count)\n",
    "print(c2.count)\n"
   ]
  },
  {
   "cell_type": "code",
   "execution_count": 8,
   "id": "e547f4a9",
   "metadata": {},
   "outputs": [
    {
     "name": "stdout",
     "output_type": "stream",
     "text": [
      "2\n"
     ]
    }
   ],
   "source": [
    "class Person:\n",
    "    population = 0\n",
    "\n",
    "    def __init__(self, name):\n",
    "        self.name = name\n",
    "        Person.increase_population()\n",
    "        \n",
    "    @classmethod\n",
    "    def increase_population(cls):\n",
    "        cls.population += 1\n",
    "\n",
    "#인스턴스 생성\n",
    "person1 = Person('Alice')\n",
    "person2 = Person('Bob')\n",
    "\n",
    "#클래스 변수 접근\n",
    "print(Person.population)"
   ]
  },
  {
   "cell_type": "code",
   "execution_count": 9,
   "id": "fb0f50ab",
   "metadata": {},
   "outputs": [
    {
     "name": "stdout",
     "output_type": "stream",
     "text": [
      "8\n"
     ]
    }
   ],
   "source": [
    "class MathUtils:\n",
    "    # 정적 메서드\n",
    "    # 클래스나 인스턴스에 의존하지 않고 독립적으로 동작\n",
    "    # 정적 메서드는 클래스나 인스턴스의 상태를 변경하지 않음\n",
    "\n",
    "    @staticmethod\n",
    "    def add(a, b):\n",
    "        return a + b\n",
    "    \n",
    "print(MathUtils.add(3, 5))"
   ]
  },
  {
   "cell_type": "code",
   "execution_count": 10,
   "id": "11760f54",
   "metadata": {},
   "outputs": [
    {
     "name": "stdout",
     "output_type": "stream",
     "text": [
      "1300\n",
      "0.03\n",
      "True\n"
     ]
    }
   ],
   "source": [
    "# 입출금이 가능한 은행 계좌 클래스 만들기\n",
    "# 은행 계좌를 모델링하는 클래스를 만들고, 입출금 가능(메서드)를 구현\n",
    "\n",
    "class BankAccount:\n",
    "    interest_rate = 0.02 #이자율\n",
    "\n",
    "    def __init__(self, owner, balance = 0):\n",
    "        self.owner = owner # 소유자 \n",
    "        self.balance = balance # 초기 잔액 \n",
    "\n",
    "    #입금\n",
    "    def deposit(self, amount):\n",
    "        self.balance += amount\n",
    "\n",
    "    #출금\n",
    "    def withdraw(self, amount):\n",
    "        if self.balance >= amount:\n",
    "            self.balance -= amount\n",
    "        else:\n",
    "            print(\"잔액 부족!\")\n",
    "\n",
    "    #이자율 설정\n",
    "    @classmethod\n",
    "    def set_interest_rate(cls, rate):\n",
    "        cls.interest_rate = rate\n",
    "\n",
    "    @staticmethod\n",
    "    def is_positive(amount):\n",
    "        return amount > 0\n",
    "    \n",
    "# 계좌 개설 (인스턴스 생성)\n",
    "alice_acc = BankAccount('Alice', 1000)\n",
    "\n",
    "# 입금 및 출금 (인스턴스 메서드 호출)\n",
    "alice_acc.deposit(500)\n",
    "alice_acc.withdraw(200)\n",
    "\n",
    "# 잔액 확인 (인스턴스 변수 참조)\n",
    "print(alice_acc.balance)  # 1300\n",
    "\n",
    "# 이자율 변경 (클래스 메서드 호출)\n",
    "BankAccount.set_interest_rate(0.03)\n",
    "print(BankAccount.interest_rate)  # 0.03\n",
    "\n",
    "# 잔액이 양수인지 확인 (정적 메서드 호출)\n",
    "print(BankAccount.is_positive(alice_acc.balance))  # True\n",
    "\n",
    "    "
   ]
  },
  {
   "cell_type": "code",
   "execution_count": null,
   "id": "d6987100",
   "metadata": {},
   "outputs": [],
   "source": []
  }
 ],
 "metadata": {
  "kernelspec": {
   "display_name": "Python 3",
   "language": "python",
   "name": "python3"
  },
  "language_info": {
   "codemirror_mode": {
    "name": "ipython",
    "version": 3
   },
   "file_extension": ".py",
   "mimetype": "text/x-python",
   "name": "python",
   "nbconvert_exporter": "python",
   "pygments_lexer": "ipython3",
   "version": "3.11.9"
  }
 },
 "nbformat": 4,
 "nbformat_minor": 5
}
