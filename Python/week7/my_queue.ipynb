{
 "cells": [
  {
   "cell_type": "code",
   "execution_count": null,
   "id": "6e03db24",
   "metadata": {},
   "outputs": [
    {
     "name": "stdout",
     "output_type": "stream",
     "text": [
      "1\n",
      "2\n",
      "3\n"
     ]
    }
   ],
   "source": [
    "front = rear = -1\n",
    "q = [0] * 10\n",
    "\n",
    "rear += 1#enq(1)\n",
    "q[rear] = 1\n",
    "rear += 1\n",
    "q[rear] = 2 # enq 2\n",
    "rear += 1\n",
    "q[rear] = 3 #enq 3\n",
    "\n",
    "front += 1\n",
    "print(q[front]) #deq 1\n",
    "front += 1\n",
    "print(q[front]) #deq 2\n",
    "front += 1\n",
    "print(q[front]) #deq 3\n",
    "\n"
   ]
  },
  {
   "cell_type": "code",
   "execution_count": null,
   "id": "2c161e33",
   "metadata": {},
   "outputs": [],
   "source": [
    "#BFS\n",
    "\n",
    "def bfs(G, v): #그래프 G, 탐색 시작점 v\n",
    "    visited = [0] * (n+1) # n = 정점의 개수\n",
    "    queue = [] # 큐 생성\n",
    "    queue.append(v) #시작점 v를 큐에 삽입\n",
    "    while queue:    #큐가 비어있지 않은 경우\n",
    "        t = queue.pop(0)    #큐의 첫번째 원소 반환(처음에는 시작점)\n",
    "        if not visited[t]:  #반환한 곳이 방문하지 않은 곳이라면\n",
    "            visited[t] = True   #방문한 것으로 표시\n",
    "            visit(t)    #정점 t에서 할 일\n",
    "            for i in G[t]:  #t와 연결된 모든 정점에 대해\n",
    "                if not visited[i]:  #방문하지 않은 곳이라면\n",
    "                    queue.append(i) #큐에 넣기\n",
    "\n",
    "# 큐에서 정점 t 꺼내기\n",
    "# t가 아직 방문되지 않은 곳이면\n",
    "# t를 방문한 것으로 표시\n",
    "# 하나의 정점 D가 두 개의 다른 정점 B와 C에 의해 큐에 두 번 추가될 수 있음\n",
    "\n",
    "#        A\n",
    "#       / \\\n",
    "#      B---C\n",
    "#     / \\ / \\\n",
    "#    D---E---...\n",
    "\n",
    "#비효율적인것이지 문제가 발생하진않음"
   ]
  },
  {
   "cell_type": "code",
   "execution_count": null,
   "id": "17afc0a0",
   "metadata": {},
   "outputs": [],
   "source": [
    "#정점을 큐에 넣기 전에 방문 여부 확인하여 BFS 개선하기\n",
    "\n",
    "def bfs(G, v):  #그래프 G, 탐색 시작점 v\n",
    "    visited = [0] * (n + 1) # n = 정점의 개수, 정점의 번호와 인덱스 번호를 맞추기 위해 n+1\n",
    "    queue = []  #큐 생성\n",
    "    queue.append(v) #시작점 v를 큐에 삽입\n",
    "    visited[v] = 1 # 시작점을 큐에 넣을 때 방문 처리\n",
    "\n",
    "    while queue:    #큐가 비어있지 않은 동안 반복\n",
    "        t = queue.pop(0)    #큐의 첫번째 원소 반환\n",
    "        visit(t)    #정점 t에서 할 일\n",
    "\n",
    "        for i in G[t]:  #t와 연결된 모든 정점에 대해\n",
    "            if not visited[i]:  #방문하지 않은 곳이라면\n",
    "                visited[i] = 1  #큐에 넣기 전에 방문 표시\n",
    "                queue.append(i) #큐에 넣기\n"
   ]
  },
  {
   "cell_type": "code",
   "execution_count": null,
   "id": "979c9b2a",
   "metadata": {},
   "outputs": [],
   "source": [
    "def bfs(G, v, n): # 그래프 G, 탐색 시작점 v\n",
    "    visited = [0]*(n+1) #n : 정점의 개수\n",
    "    queue = []\n",
    "    queue.append(v)\n",
    "    visited[v] = 1\n",
    "\n",
    "    while queue:\n",
    "        t = queue.pop(0)\n",
    "        visit(t)\n",
    "        for i in G[t]:\n",
    "            if not visited[i]:\n",
    "                queue.append(i)\n",
    "                visited[i] = visited[t] + 1 #거리 정보"
   ]
  },
  {
   "cell_type": "code",
   "execution_count": null,
   "id": "c11a3ba8",
   "metadata": {},
   "outputs": [
    {
     "name": "stdout",
     "output_type": "stream",
     "text": [
      "1\n",
      "2\n",
      "3\n",
      "4\n",
      "5\n",
      "7\n",
      "6\n"
     ]
    }
   ],
   "source": [
    "#queue 예제\n",
    "# 인접리스트로 그래프 구현 시\n",
    "# 1 번 2번 연결되어있으면 행 번호가 정점 번호임\n",
    "# [ [], [], ... ,[] ]\n",
    "# adj_list = [[] for _ in range(V+1)]   #V번 행까지 준비\n",
    "# for i in range(E):\n",
    "#   v1, v2 = adj_list[i*2], adj_list[i*2+1] \n",
    "ve = '7 8'\n",
    "G_str =  '1 2 1 3 2 4 2 5 4 6 5 6 6 7 3 7'\n",
    "#출력은 1 2 3 4 5 6 7 6 \n",
    "V, E = map(int, ve.split())  # 마지막 정점, 간선 수\n",
    "arr = list(map(int, G_str.split()))\n",
    "G = [[] for _ in range(V+1)]\n",
    "for i in range(E):\n",
    "    v1, v2 = arr[i*2], arr[i*2+1]\n",
    "    G[v1].append(v2)\n",
    "    G[v2].append(v1)    # 방향 표시가 없는 경우\n",
    "\n",
    "\n",
    "def bfs(s, V):\n",
    "    #초기화\n",
    "    #visited 생성\n",
    "    #queue 생성\n",
    "    #시작점 인큐\n",
    "    #시작점 방문 표시\n",
    "\n",
    "    #반복\n",
    "    visited = [0] * (V + 1)\n",
    "    q = []\n",
    "    q = [s]\n",
    "    visited[s] = 1\n",
    "\n",
    "    while q:    #탐색할 정점이 남아있으면\n",
    "        #디큐\n",
    "        #visit() 방문해서 할 일, 방문한 정점번호 표시\n",
    "        #인접하고 미방문인 정점 인큐, 방문 표사\n",
    "        t = q.pop(0)\n",
    "        print(t)\n",
    "        for w in G[t]:\n",
    "            if visited[w] == 0:\n",
    "                q.append(w)\n",
    "                visited[w] = visited[t] + 1\n",
    "\n",
    "\n",
    "bfs(1, V)\n",
    "\n",
    "# 1 에서 각 정점까지 최소 거리의 합?\n",
    "# 거리 = 간선 수\n",
    "\n"
   ]
  }
 ],
 "metadata": {
  "kernelspec": {
   "display_name": "Python 3",
   "language": "python",
   "name": "python3"
  },
  "language_info": {
   "codemirror_mode": {
    "name": "ipython",
    "version": 3
   },
   "file_extension": ".py",
   "mimetype": "text/x-python",
   "name": "python",
   "nbconvert_exporter": "python",
   "pygments_lexer": "ipython3",
   "version": "3.11.9"
  }
 },
 "nbformat": 4,
 "nbformat_minor": 5
}
