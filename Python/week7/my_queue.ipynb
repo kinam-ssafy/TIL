{
 "cells": [
  {
   "cell_type": "code",
   "execution_count": null,
   "id": "6e03db24",
   "metadata": {},
   "outputs": [
    {
     "name": "stdout",
     "output_type": "stream",
     "text": [
      "1\n",
      "2\n",
      "3\n"
     ]
    }
   ],
   "source": [
    "front = rear = -1\n",
    "q = [0] * 10\n",
    "\n",
    "rear += 1#enq(1)\n",
    "q[rear] = 1\n",
    "rear += 1\n",
    "q[rear] = 2 # enq 2\n",
    "rear += 1\n",
    "q[rear] = 3 #enq 3\n",
    "\n",
    "front += 1\n",
    "print(q[front]) #deq 1\n",
    "front += 1\n",
    "print(q[front]) #deq 2\n",
    "front += 1\n",
    "print(q[front]) #deq 3\n",
    "\n"
   ]
  }
 ],
 "metadata": {
  "kernelspec": {
   "display_name": "Python 3",
   "language": "python",
   "name": "python3"
  },
  "language_info": {
   "codemirror_mode": {
    "name": "ipython",
    "version": 3
   },
   "file_extension": ".py",
   "mimetype": "text/x-python",
   "name": "python",
   "nbconvert_exporter": "python",
   "pygments_lexer": "ipython3",
   "version": "3.11.9"
  }
 },
 "nbformat": 4,
 "nbformat_minor": 5
}
