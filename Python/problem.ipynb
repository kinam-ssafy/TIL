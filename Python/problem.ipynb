{
 "cells": [
  {
   "cell_type": "code",
   "execution_count": 13,
   "id": "ababfd36",
   "metadata": {},
   "outputs": [
    {
     "name": "stdout",
     "output_type": "stream",
     "text": [
      "False\n",
      "0.30000000000000004\n",
      "True\n",
      "False\n",
      "True\n",
      "2\n",
      "53\n",
      "23\n",
      "23\n"
     ]
    }
   ],
   "source": [
    "result = 0.1 + 0.2\n",
    "print(result == 0.3)\n",
    "print(result)\n",
    "\n",
    "a = 1.3 - 1.2\n",
    "b = 1.3 - 1.2\n",
    "print(a == b)\n",
    "a = 1.2 - 1.1\n",
    "print(a == b)\n",
    "\n",
    "from decimal import Decimal\n",
    "a = Decimal('3.1') - Decimal('3.0')\n",
    "b = Decimal('3.4') - Decimal('3.3')\n",
    "\n",
    "print(a == b)\n",
    "\n",
    "print(0b10)\n",
    "print(0b110101) # 2진수\n",
    "\n",
    "print(0o27)\n",
    "\n",
    "print(0x17)"
   ]
  },
  {
   "cell_type": "code",
   "execution_count": null,
   "id": "d02dd498",
   "metadata": {},
   "outputs": [],
   "source": []
  }
 ],
 "metadata": {
  "kernelspec": {
   "display_name": "Python 3",
   "language": "python",
   "name": "python3"
  },
  "language_info": {
   "codemirror_mode": {
    "name": "ipython",
    "version": 3
   },
   "file_extension": ".py",
   "mimetype": "text/x-python",
   "name": "python",
   "nbconvert_exporter": "python",
   "pygments_lexer": "ipython3",
   "version": "3.11.9"
  }
 },
 "nbformat": 4,
 "nbformat_minor": 5
}
