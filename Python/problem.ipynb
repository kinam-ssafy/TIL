{
 "cells": [
  {
   "cell_type": "code",
   "execution_count": 18,
   "id": "ababfd36",
   "metadata": {},
   "outputs": [
    {
     "name": "stdout",
     "output_type": "stream",
     "text": [
      "dict_keys(['j', 'c'])\n"
     ]
    }
   ],
   "source": [
    "a={'j':'b', 'c':'d'}\n",
    "print(a.keys())"
   ]
  },
  {
   "cell_type": "code",
   "execution_count": 17,
   "id": "d02dd498",
   "metadata": {},
   "outputs": [
    {
     "name": "stdout",
     "output_type": "stream",
     "text": [
      "[3, 5, 1]\n"
     ]
    }
   ],
   "source": [
    "a=[1,5,3]\n",
    "a.reverse()\n",
    "\n",
    "print(a)\n",
    "\n"
   ]
  },
  {
   "cell_type": "code",
   "execution_count": 24,
   "id": "e5137455",
   "metadata": {},
   "outputs": [
    {
     "name": "stdout",
     "output_type": "stream",
     "text": [
      "None\n"
     ]
    }
   ],
   "source": [
    "print(1 and None)"
   ]
  },
  {
   "cell_type": "code",
   "execution_count": null,
   "id": "7b3ee094",
   "metadata": {},
   "outputs": [
    {
     "name": "stdout",
     "output_type": "stream",
     "text": [
      "['a', 'b,c,d']\n",
      "['a', 'b', 'c,d']\n"
     ]
    }
   ],
   "source": [
    "s = 'a,b,c,d'\n",
    "result = s.split(',', 1) # , 를 기준으로 최대 1번 나눔\n",
    "print(result)\n",
    "\n",
    "s = 'a,b,c,d'\n",
    "result = s.split(',', 2) # , 를 기준으로 최대 2번 나눔\n",
    "print(result)"
   ]
  },
  {
   "cell_type": "code",
   "execution_count": null,
   "id": "b829c0cf",
   "metadata": {},
   "outputs": [
    {
     "name": "stdout",
     "output_type": "stream",
     "text": [
      "2021-07-15\n"
     ]
    }
   ],
   "source": [
    "words = ['2021', '07', '15']\n",
    "text = '-'.join(words) # -로 이어버림\n",
    "print(text)"
   ]
  },
  {
   "cell_type": "code",
   "execution_count": 19,
   "id": "200804cf",
   "metadata": {},
   "outputs": [
    {
     "name": "stdout",
     "output_type": "stream",
     "text": [
      "[1, 3, 2, 1]\n",
      "[1, 2, 2, 1]\n",
      "[1, 2, 3, 2]\n",
      "[1, 2, 5, 3, 2, 1]\n",
      "[1, 2, 3, 2, 1, 9]\n",
      "[1, 2, 3, 2, 1, 1, 2, 3, 4]\n",
      "[1, 2, 3, 2, 1, 1, 2, 3, 4]\n",
      "[1, 2, 3, 2, 1, 1, 2, 3, 4]\n",
      "[1, 2, 3, 2, 1, '1', '2']\n"
     ]
    }
   ],
   "source": [
    "list = [1,2,3,2,1]\n",
    "list.remove(2) # 첫번째 2를 제거\n",
    "print(list)\n",
    "\n",
    "list = [1,2,3,2,1]\n",
    "list.pop(2) # 인덱스 2번을 반환 후 제거 \n",
    "print(list)\n",
    "\n",
    "list = [1,2,3,2,1]\n",
    "list.pop()  # 마지막 요소 반환 후 제거\n",
    "print(list)\n",
    "\n",
    "list = [1,2,3,2,1]\n",
    "list.insert(2,5) # 인덱스 2번에 후 5 삽입\n",
    "print(list)\n",
    "\n",
    "list = [1,2,3,2,1]\n",
    "list.append(9) # 리스트 마지막에 9 추가. 하나씩만 가능\n",
    "print(list)\n",
    "\n",
    "list = [1,2,3,2,1]\n",
    "list.extend([1,2,3,4]) # 리스트 마지막에 iterable 요소 모두 추가\n",
    "print(list)\n",
    "\n",
    "list = [1,2,3,2,1]\n",
    "list.extend({1,2,3,4}) # 리스트 마지막에 iterable 요소 모두 추가\n",
    "print(list)\n",
    "\n",
    "list = [1,2,3,2,1]\n",
    "list.extend((1,2,3,4)) # 리스트 마지막에 iterable 요소 모두 추가\n",
    "print(list)\n",
    "\n",
    "list = [1,2,3,2,1]\n",
    "list.extend({'1':'a', '2':'b'}) # 리스트 마지막에 iterable 요소 모두 추가\n",
    "print(list)\n",
    "\n"
   ]
  },
  {
   "cell_type": "code",
   "execution_count": 18,
   "id": "6399607e",
   "metadata": {},
   "outputs": [
    {
     "name": "stdout",
     "output_type": "stream",
     "text": [
      "[1, 2, 3, 2, 1, (1, 2, 3, 4)]\n"
     ]
    }
   ],
   "source": [
    "list = [1,2,3,2,1]\n",
    "list.append((1,2,3,4))\n",
    "print(list)"
   ]
  },
  {
   "cell_type": "code",
   "execution_count": 22,
   "id": "e5e30973",
   "metadata": {},
   "outputs": [
    {
     "name": "stdout",
     "output_type": "stream",
     "text": [
      "[3, 2, 1]\n",
      "[1, 2, 3]\n"
     ]
    }
   ],
   "source": [
    "mylist = [3,1,2]\n",
    "mylist.sort(reverse=True)\n",
    "print(mylist)\n",
    "\n",
    "list1 = [1,2]\n",
    "list2 = list1\n",
    "list2.append(3)\n",
    "print(list1) "
   ]
  },
  {
   "cell_type": "code",
   "execution_count": null,
   "id": "94d5fb72",
   "metadata": {},
   "outputs": [
    {
     "ename": "TypeError",
     "evalue": "'tuple' object does not support item assignment",
     "output_type": "error",
     "traceback": [
      "\u001b[31m---------------------------------------------------------------------------\u001b[39m",
      "\u001b[31mTypeError\u001b[39m                                 Traceback (most recent call last)",
      "\u001b[36mCell\u001b[39m\u001b[36m \u001b[39m\u001b[32mIn[23]\u001b[39m\u001b[32m, line 2\u001b[39m\n\u001b[32m      1\u001b[39m t = (\u001b[32m10\u001b[39m, \u001b[32m20\u001b[39m)\n\u001b[32m----> \u001b[39m\u001b[32m2\u001b[39m \u001b[43mt\u001b[49m\u001b[43m[\u001b[49m\u001b[32;43m0\u001b[39;49m\u001b[43m]\u001b[49m = \u001b[32m5\u001b[39m\n\u001b[32m      3\u001b[39m \u001b[38;5;28mprint\u001b[39m(t)\n",
      "\u001b[31mTypeError\u001b[39m: 'tuple' object does not support item assignment"
     ]
    }
   ],
   "source": [
    "t = (10, 20)\n",
    "t[0] = 5\n",
    "print(t) #tuple은 불변 immutable 자료형"
   ]
  },
  {
   "cell_type": "code",
   "execution_count": null,
   "id": "fa8f1ef1",
   "metadata": {},
   "outputs": [
    {
     "name": "stdout",
     "output_type": "stream",
     "text": [
      "[1, [2, 3, 4]]\n",
      "False\n",
      "True\n"
     ]
    }
   ],
   "source": [
    "orig = [1,[2,3]]\n",
    "shallow = orig[:]\n",
    "shallow[1].append(4)\n",
    "print(orig)\n",
    "print(orig is shallow) #얕은 복사\n",
    "print(orig == shallow)\n",
    "\n",
    "# [1, [2, 3, 4]]\n",
    "# False\n",
    "# True"
   ]
  },
  {
   "cell_type": "code",
   "execution_count": 27,
   "id": "c5bc76ee",
   "metadata": {},
   "outputs": [
    {
     "name": "stdout",
     "output_type": "stream",
     "text": [
      "[1, [2, 3]] [1, [2, 3, 4]]\n"
     ]
    }
   ],
   "source": [
    "import copy\n",
    "\n",
    "orig = [1, [2, 3]]\n",
    "deep = copy.deepcopy(orig)\n",
    "deep[1].append(4)\n",
    "print(orig, deep) # 원본 유지"
   ]
  },
  {
   "cell_type": "code",
   "execution_count": null,
   "id": "e2b1b285",
   "metadata": {},
   "outputs": [
    {
     "name": "stdout",
     "output_type": "stream",
     "text": [
      "dict_keys(['a', 'b'])\n"
     ]
    }
   ],
   "source": [
    "# 1. d  a 가변 x\n",
    "# 3. d  d\n",
    "# 4. c\n",
    "# 5. c  b\n",
    "# 6. c  c\n",
    "# 7 .c  c\n",
    "# 8. d set라서 비시퀀스\n",
    "# 9. c  c\n",
    "# 10. b  b\n",
    "d = {'a': 1, 'b': 2}\n",
    "k = d.keys()\n",
    "print(k)\n",
    "# print(k[0])  #TypeError: 'dict_keys' object is not subscriptable"
   ]
  },
  {
   "cell_type": "code",
   "execution_count": null,
   "id": "307eaa4f",
   "metadata": {},
   "outputs": [
    {
     "ename": "TypeError",
     "evalue": "unhashable type: 'set'",
     "output_type": "error",
     "traceback": [
      "\u001b[31m---------------------------------------------------------------------------\u001b[39m",
      "\u001b[31mTypeError\u001b[39m                                 Traceback (most recent call last)",
      "\u001b[36mCell\u001b[39m\u001b[36m \u001b[39m\u001b[32mIn[35]\u001b[39m\u001b[32m, line 2\u001b[39m\n\u001b[32m      1\u001b[39m \u001b[38;5;28mhash\u001b[39m((\u001b[32m1\u001b[39m,\u001b[32m2\u001b[39m,\u001b[32m3\u001b[39m))\n\u001b[32m----> \u001b[39m\u001b[32m2\u001b[39m \u001b[38;5;28;43mhash\u001b[39;49m\u001b[43m(\u001b[49m\u001b[43m{\u001b[49m\u001b[32;43m1\u001b[39;49m\u001b[43m,\u001b[49m\u001b[32;43m2\u001b[39;49m\u001b[43m,\u001b[49m\u001b[32;43m3\u001b[39;49m\u001b[43m}\u001b[49m\u001b[43m)\u001b[49m\n",
      "\u001b[31mTypeError\u001b[39m: unhashable type: 'set'"
     ]
    }
   ],
   "source": [
    "hash((1,2,3))\n",
    "# hash({1,2,3}) # set"
   ]
  },
  {
   "cell_type": "code",
   "execution_count": null,
   "id": "736e2c49",
   "metadata": {},
   "outputs": [
    {
     "ename": "NameError",
     "evalue": "name '화씨' is not defined",
     "output_type": "error",
     "traceback": [
      "\u001b[31m---------------------------------------------------------------------------\u001b[39m",
      "\u001b[31mNameError\u001b[39m                                 Traceback (most recent call last)",
      "\u001b[36mCell\u001b[39m\u001b[36m \u001b[39m\u001b[32mIn[2]\u001b[39m\u001b[32m, line 13\u001b[39m\n\u001b[32m      8\u001b[39m \u001b[38;5;66;03m# 물의 어는점 = 화씨 32도 = 섭씨 0도\u001b[39;00m\n\u001b[32m      9\u001b[39m \u001b[38;5;66;03m# 물의 비등점 = 화씨 212도 = 섭씨 100도 \u001b[39;00m\n\u001b[32m     10\u001b[39m \u001b[38;5;66;03m# 화씨  = a * 섭씨 + 32\u001b[39;00m\n\u001b[32m     11\u001b[39m \u001b[38;5;66;03m# 212 = a * 100 + 32\u001b[39;00m\n\u001b[32m     12\u001b[39m a = (\u001b[32m212\u001b[39m-\u001b[32m32\u001b[39m) / \u001b[32m100\u001b[39m\n\u001b[32m---> \u001b[39m\u001b[32m13\u001b[39m 섭씨 = (\u001b[43m화씨\u001b[49m-\u001b[32m32\u001b[39m) / \u001b[32m1.8\u001b[39m\n\u001b[32m     14\u001b[39m \u001b[38;5;28mprint\u001b[39m(a)\n\u001b[32m     16\u001b[39m a = \u001b[38;5;28mfloat\u001b[39m(\u001b[38;5;28minput\u001b[39m())\n",
      "\u001b[31mNameError\u001b[39m: name '화씨' is not defined"
     ]
    }
   ],
   "source": [
    "\n",
    "\n"
   ]
  },
  {
   "cell_type": "code",
   "execution_count": null,
   "id": "5140a9d5",
   "metadata": {},
   "outputs": [],
   "source": []
  }
 ],
 "metadata": {
  "kernelspec": {
   "display_name": "Python 3",
   "language": "python",
   "name": "python3"
  },
  "language_info": {
   "codemirror_mode": {
    "name": "ipython",
    "version": 3
   },
   "file_extension": ".py",
   "mimetype": "text/x-python",
   "name": "python",
   "nbconvert_exporter": "python",
   "pygments_lexer": "ipython3",
   "version": "3.11.9"
  }
 },
 "nbformat": 4,
 "nbformat_minor": 5
}
