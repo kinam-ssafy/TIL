{
 "cells": [
  {
   "cell_type": "code",
   "execution_count": 3,
   "id": "5e56f2a4",
   "metadata": {},
   "outputs": [
    {
     "name": "stdout",
     "output_type": "stream",
     "text": [
      "'파일이 존재하지 않습니다. : ..\\\\sample_data\\\\books_20.json'\n"
     ]
    }
   ],
   "source": [
    "import json  # JSON 데이터를 처리하기 위한 라이브러리\n",
    "from pathlib import Path  # 파일 경로 처리를 위한 라이브러리\n",
    "from pprint import pprint as print\n",
    "\n",
    "file_path = Path('../sample_data/books_20.json')  # 파일 경로 설정\n",
    "\n",
    "if file_path.exists():  # 파일 존재 여부 확인\n",
    "    # 파일 열기\n",
    "    with file_path.open('r', encoding='utf-8') as file:\n",
    "        data = json.load(file_path)\n",
    "        print(data)\n",
    "        pass  # JSON 파일을 파이썬 딕셔너리로 변환하는 코드 (json.load)\n",
    "\n",
    "\n",
    "    # 3. 책 제목 리스트 생성\n",
    "    # 'item' 항목을 순회하며 각 도서의 'title' 값을 리스트에 추가합니다.\n",
    "    book_titles = []  # 책 제목을 저장할 빈 리스트\n",
    "    for item in data['item']:  # 'item' 리스트에서 각 항목을 순회\n",
    "        \n",
    "        pass  # 책 제목을 리스트에 추가하는 코드 (book_titles.append)\n",
    "\n",
    "    # 4. 결과 출력\n",
    "    # 리스트에 저장된 책 제목을 출력합니다.\n",
    "    print(\"책 제목 리스트:\")\n",
    "    pass  # 책 제목을 출력하는 코드 (print(book_titles))\n",
    "else:\n",
    "    # 5. 파일이 없을 경우 처리\n",
    "    # 파일이 존재하지 않으면 오류 메시지를 출력합니다.\n",
    "    print(f\"파일이 존재하지 않습니다. : {file_path}\")\n",
    "    pass  # 파일이 존재하지 않을 때의 처리 코드 (print(f\"파일이 존재하지 않습니다: {file_path}\"))\n"
   ]
  }
 ],
 "metadata": {
  "kernelspec": {
   "display_name": "Python 3",
   "language": "python",
   "name": "python3"
  },
  "language_info": {
   "codemirror_mode": {
    "name": "ipython",
    "version": 3
   },
   "file_extension": ".py",
   "mimetype": "text/x-python",
   "name": "python",
   "nbconvert_exporter": "python",
   "pygments_lexer": "ipython3",
   "version": "3.11.9"
  }
 },
 "nbformat": 4,
 "nbformat_minor": 5
}
