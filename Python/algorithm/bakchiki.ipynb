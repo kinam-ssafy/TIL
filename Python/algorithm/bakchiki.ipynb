{
 "cells": [
  {
   "cell_type": "code",
   "execution_count": 1,
   "id": "df2479be",
   "metadata": {},
   "outputs": [
    {
     "name": "stdout",
     "output_type": "stream",
     "text": [
      "[0, 7, 3, 5, 2, 4, 6]\n"
     ]
    }
   ],
   "source": [
    "'''swea5177 이진 힙'''\n",
    "\n",
    "arr1 = [7, 3, 5, 2, 4, 6]\n",
    "tree = [0] + arr1\n",
    "print(tree)"
   ]
  },
  {
   "cell_type": "code",
   "execution_count": 4,
   "id": "97e610a7",
   "metadata": {},
   "outputs": [
    {
     "name": "stdout",
     "output_type": "stream",
     "text": [
      "['a', 'b', 'c', 'd']\n",
      "['a', 'b', 'c', 'd', 'p']\n",
      "['a', 'b', 'c', 'd']\n",
      "4\n"
     ]
    }
   ],
   "source": [
    "#boj1406 에디터\n",
    "\n",
    "str1 = 'abcd'\n",
    "idx = len(str1)\n",
    "\n",
    "str_list = list(str1)\n",
    "print(str_list)\n",
    "str_list.insert(idx, 'p')   #insert(인덱스, 값)\n",
    "print(str_list)\n",
    "idx += 1\n",
    "\n",
    "str_list.pop()\n",
    "print(str_list)\n",
    "idx -= 1\n",
    "print(idx)"
   ]
  }
 ],
 "metadata": {
  "kernelspec": {
   "display_name": "Python 3",
   "language": "python",
   "name": "python3"
  },
  "language_info": {
   "codemirror_mode": {
    "name": "ipython",
    "version": 3
   },
   "file_extension": ".py",
   "mimetype": "text/x-python",
   "name": "python",
   "nbconvert_exporter": "python",
   "pygments_lexer": "ipython3",
   "version": "3.11.9"
  }
 },
 "nbformat": 4,
 "nbformat_minor": 5
}
