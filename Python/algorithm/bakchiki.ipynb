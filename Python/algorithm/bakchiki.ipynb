{
 "cells": [
  {
   "cell_type": "code",
   "execution_count": 1,
   "id": "df2479be",
   "metadata": {},
   "outputs": [
    {
     "name": "stdout",
     "output_type": "stream",
     "text": [
      "[0, 7, 3, 5, 2, 4, 6]\n"
     ]
    }
   ],
   "source": [
    "'''swea5177 이진 힙'''\n",
    "\n",
    "arr1 = [7, 3, 5, 2, 4, 6]\n",
    "tree = [0] + arr1\n",
    "print(tree)"
   ]
  },
  {
   "cell_type": "code",
   "execution_count": 3,
   "id": "97e610a7",
   "metadata": {},
   "outputs": [
    {
     "name": "stdout",
     "output_type": "stream",
     "text": [
      "['a', 'b', 'c', 'd']\n",
      "['a', 'b', 'c', 'd', 'p']\n",
      "['a', 'b', 'c', 'd']\n",
      "3\n",
      "['a', 'b', 'd']\n"
     ]
    }
   ],
   "source": [
    "#boj1406 에디터\n",
    "\n",
    "str1 = 'abcd'\n",
    "idx = len(str1)-1\n",
    "\n",
    "str_list = list(str1)\n",
    "print(str_list)\n",
    "str_list.insert(idx+1, 'p')   #insert(인덱스, 값)\n",
    "print(str_list)\n",
    "idx += 1\n",
    "\n",
    "str_list.pop()\n",
    "print(str_list)\n",
    "idx -= 1\n",
    "print(idx)\n",
    "\n",
    "idx = 2\n",
    "str_list.pop(idx)\n",
    "print(str_list)"
   ]
  },
  {
   "cell_type": "code",
   "execution_count": null,
   "id": "36c44fba",
   "metadata": {},
   "outputs": [
    {
     "name": "stdout",
     "output_type": "stream",
     "text": [
      "1213102321\n",
      "['12131', '2321']\n"
     ]
    }
   ],
   "source": [
    "# boj 1863 스카이라인\n",
    "\n",
    "num = [1, 2, 1, 3, 1, 0, 2, 3, 2, 1]\n",
    "\n",
    "# num_str = ''.join(num) 숫자 리스트는 바로 안됨! 문자열로 변환 후 사용해야함\n",
    "num_str = ''.join(map(str, num))\n",
    "print(num_str)\n",
    "num_list = num_str.split('0')\n",
    "print(num_list)\n",
    "\n",
    "result = []\n",
    "temp = []\n",
    "\n",
    "for n in num:\n",
    "    if n == 0:\n",
    "        if temp:\n",
    "            result.append(temp)\n",
    "            temp = []\n",
    "    \n",
    "    else:\n",
    "        temp.append(n)\n",
    "\n",
    "if temp:\n",
    "    result.append(temp)"
   ]
  }
 ],
 "metadata": {
  "kernelspec": {
   "display_name": "Python 3",
   "language": "python",
   "name": "python3"
  },
  "language_info": {
   "codemirror_mode": {
    "name": "ipython",
    "version": 3
   },
   "file_extension": ".py",
   "mimetype": "text/x-python",
   "name": "python",
   "nbconvert_exporter": "python",
   "pygments_lexer": "ipython3",
   "version": "3.11.9"
  }
 },
 "nbformat": 4,
 "nbformat_minor": 5
}
