{
 "cells": [
  {
   "cell_type": "code",
   "execution_count": 1,
   "id": "14424722",
   "metadata": {},
   "outputs": [
    {
     "name": "stdout",
     "output_type": "stream",
     "text": [
      "heeel\n"
     ]
    }
   ],
   "source": [
    "print('heeel')"
   ]
  },
  {
   "cell_type": "code",
   "execution_count": 2,
   "id": "2443d5ab",
   "metadata": {},
   "outputs": [
    {
     "name": "stdout",
     "output_type": "stream",
     "text": [
      "['1', '2', '3', '4', '5', '6', '7', '8', '9']\n"
     ]
    }
   ],
   "source": [
    "'''\n",
    "문자열의 길이 N과 길이 N만큼의 문자열 data_1이 주어진다. \n",
    "N번만큼 반복하며 data_1에 담긴 문자열을 인덱스 번호 순대로 arr_1 리스트에 추가한다. \n",
    "append 메서드를 활용한다. \n",
    "arr_1 리스트를 출력한다. \n",
    "\n",
    "문자열의 길이 M과 M개의 정수가 작성된 문자열 data_2가 주어진다. \n",
    "data_2에 담긴 문자열을 공백을 기준으로 나누어 새로운 리스트 arr_2에 할당한다. \n",
    "문자열 메서드 split을 활용한다. \n",
    "arr_2가 가진 요소들을 순회하여 홀수만 차례대로 출력한다.  \n",
    "'''\n",
    "\n",
    "N = 9\n",
    "data_1 = '123456789'\n",
    "arr_1 = []\n",
    "# 아래에 코드를 작성하시오.\n",
    "for idx in range(N):\n",
    "    arr_1.append(data_1[idx])\n",
    "\n",
    "print(arr_1)"
   ]
  },
  {
   "cell_type": "code",
   "execution_count": 3,
   "id": "3dda0486",
   "metadata": {},
   "outputs": [
    {
     "name": "stdout",
     "output_type": "stream",
     "text": [
      "['1', '2', '3', '4', '5', '6', '7', '8', '9', '10', '11', '12', '13', '14', '15']\n",
      "1 2 3 4 5 6 7 8 9 10 11 12 13 14 15\n",
      "1\n",
      "3\n",
      "5\n",
      "7\n",
      "9\n",
      "11\n",
      "13\n"
     ]
    }
   ],
   "source": [
    "M = 15\n",
    "data_2 = '1 2 3 4 5 6 7 8 9 10 11 12 13 14 15'\n",
    "# 아래에 코드를 작성하시오.\n",
    "arr_2 = list(data_2.split(' '))\n",
    "print(arr_2)\n",
    "print(data_2)\n",
    "for idx in range(M):\n",
    "    if int(idx) % 2 != 0:\n",
    "        print(int(idx))"
   ]
  },
  {
   "cell_type": "code",
   "execution_count": 11,
   "id": "4356eb8a",
   "metadata": {},
   "outputs": [
    {
     "name": "stdout",
     "output_type": "stream",
     "text": [
      "['1', '2', '3', '4', '5', '6', '7', '8', '9', '10', '11', '12', '13', '14', '15']\n",
      "['1', '2', '3', '4', '5', '6', '7', '8', '9', '10', '11', '12', '13', '14', '15']\n",
      "['1 2 3 4 5 6 7 8 9 10 11 12 13 14 15']\n"
     ]
    }
   ],
   "source": [
    "M = 15\n",
    "data_2 = '1 2 3 4 5 6 7 8 9 10 11 12 13 14 15'\n",
    "# 아래에 코드를 작성하시오.\n",
    "arr_2 = list(data_2.split(' '))\n",
    "print(arr_2)\n",
    "arr_3 = list(data_2.split())\n",
    "print(arr_3)\n",
    "arr_3 = list(data_2.split('\\''))\n",
    "print(arr_3)\n",
    "# print(data_2)\n",
    "# for idx in range(M):\n",
    "#     if int(idx) % 2 != 0:\n",
    "#         print(int(idx))"
   ]
  },
  {
   "cell_type": "code",
   "execution_count": 15,
   "id": "a1aa2980",
   "metadata": {},
   "outputs": [
    {
     "name": "stdout",
     "output_type": "stream",
     "text": [
      "['H', 'e', 'l', 'l', 'o', 'o', 'o', 'o', 'o', ',', ' ', 'W', 'o', 'r', 'l', 'd', '!']\n",
      "6\n"
     ]
    }
   ],
   "source": [
    "'''\n",
    "주어진 문자열에서 특정 문자의 개수를 세는 count_character 함수를 작성하시오. \n",
    "문자열과 대상 문자를 인자로 받아 개수를 반환해야 한다\n",
    "'''\n",
    "\n",
    "def count_character(str, char):\n",
    "    num = 0\n",
    "    new_str = list(str)\n",
    "\n",
    "    for idx in new_str:\n",
    "        if char in idx:\n",
    "            num += 1\n",
    "\n",
    "    return num\n",
    "    \n",
    "\n",
    "result = count_character(\"Hellooooo, World!\", \"o\")\n",
    "print(result)  # 2"
   ]
  },
  {
   "cell_type": "code",
   "execution_count": 16,
   "id": "43503655",
   "metadata": {},
   "outputs": [
    {
     "name": "stdout",
     "output_type": "stream",
     "text": [
      "(1, 7)\n"
     ]
    }
   ],
   "source": [
    "'''\n",
    "주어진 리스트에서 최솟값과 최댓값을 찾는 find_min_max 함수를 작성하시오. \n",
    "리스트를 인자로 받아 최솟값과 최댓값을 튜플로 반환해야 한다.\n",
    "'''\n",
    "\n",
    "# 아래 함수를 수정하시오.\n",
    "def find_min_max(list1):\n",
    "    new_list = sorted(list1)\n",
    "    return (new_list[0], new_list[-1])\n",
    "    \n",
    "\n",
    "\n",
    "result = find_min_max([3, 1, 7, 2, 5])\n",
    "print(result)  # (1, 7)"
   ]
  },
  {
   "cell_type": "code",
   "execution_count": 63,
   "id": "a0f5c194",
   "metadata": {},
   "outputs": [
    {
     "name": "stdout",
     "output_type": "stream",
     "text": [
      "YOU ARE THE BEST\n",
      "[37, 29, 12, 5]\n",
      "[5, 12, 29, 37]\n",
      "다들힘내"
     ]
    }
   ],
   "source": [
    "'''\n",
    "무작위 알파벳이 작성된 문자열 data_1이 주어진다. \n",
    "data_1을 순회하며 대문자이거나 공백 '      ' 인 경우만 출력한다. \n",
    "문자열 메서드 isupper를 활용한다. \n",
    "모든 문자열은 한 줄에 출력되어야 한다. 예시코드 참고. \n",
    "\n",
    "무작위 한글이 작성된 문자열 data_2와 빈 리스트 arr이 주어진다. \n",
    "data_2에서 문자열 '내힘들다'의 각 글자들이 위치한 index 번호를 find 메서드를 활용하여 찾는다. \n",
    "찾아낸 index번호를 리스트 arr에 append메서드로 추가한다.\n",
    " arr을 출력한다. \n",
    "sort 메서드를 활용해 arr 리스트를 오름차순 정렬한다. \n",
    "정렬된 arr을 출력한다. \n",
    "data_2에서 정렬된 arr을 순회하여 얻은 각 요소 번째에 위치한 문자열을 출력한다. \n",
    "모든 문자열은 한 줄에 출력되어야 한다.\n",
    "'''\n",
    "\n",
    "\n",
    "data_1 = 'qweqwYadnOyjnsaU4trwg asjnaAn245krRmkfE 42grTasdnHasdnvEasdn asdevadnBasdanEsdkqefqefvaSasdqaeeqqvedwt5hfbsdT24tewfd'\n",
    "'''\n",
    "예시코드\n",
    "arr = [1, 2, 3, 4, 5]\n",
    "for num in arr:\n",
    "    print(num, end='')\n",
    "출력결과 : 12345\n",
    "'''\n",
    "\n",
    "# 아래에 코드를 작성하시오.\n",
    "new_list = []\n",
    "for idx in data_1:\n",
    "    is_idx = idx.isupper()\n",
    "    find_idx = idx.find(' ') # 맞으면 인덱스 번호 반환 0\n",
    "\n",
    "    if is_idx == True:\n",
    "        new_list.append(idx)\n",
    "        # print(idx, end='')\n",
    "\n",
    "    elif find_idx == 0:\n",
    "        new_list.append(idx)\n",
    "        # print(idx, end='')\n",
    "\n",
    "for num in new_list:\n",
    "    print(num, end='')        \n",
    "\n",
    "data_2 = '걉파반샤팝다푸거맥파바자들퍼바배들밥샵파누타히매니배사바파힘다브사부힙헤베내테치대내'\n",
    "arr = []\n",
    "# 아래에 코드를 작성하시오.\n",
    "if data_2.find('내'):\n",
    "    arr.append(data_2.find('내'))\n",
    "\n",
    "if data_2.find('힘'):\n",
    "    arr.append(data_2.find('힘'))\n",
    "        \n",
    "if data_2.find('들'):\n",
    "    arr.append(data_2.find('들'))\n",
    "        \n",
    "if data_2.find('다'):\n",
    "    arr.append(data_2.find('다'))\n",
    "\n",
    "print()\n",
    "print(arr)\n",
    "arr.sort()\n",
    "print(arr)\n",
    "\n",
    "\n",
    "for idx in range(len(arr)):\n",
    "    print(data_2[arr[idx]], end='')\n",
    "\n"
   ]
  },
  {
   "cell_type": "code",
   "execution_count": 65,
   "id": "930afae1",
   "metadata": {},
   "outputs": [
    {
     "name": "stdout",
     "output_type": "stream",
     "text": [
      "0\n",
      "1\n",
      "2\n",
      "3\n",
      "4\n"
     ]
    }
   ],
   "source": [
    "for i in range(5):\n",
    "    print(i)"
   ]
  },
  {
   "cell_type": "code",
   "execution_count": 69,
   "id": "746a4513",
   "metadata": {},
   "outputs": [
    {
     "name": "stdout",
     "output_type": "stream",
     "text": [
      "['2', 'r', 'g', 's']\n",
      "['2', 'r', 'g']\n",
      "['2', 'r']\n"
     ]
    }
   ],
   "source": [
    "a = ['2','r','g','s','3']\n",
    "\n",
    "for i in a:\n",
    "    a.pop()\n",
    "    print(a)\n"
   ]
  },
  {
   "cell_type": "code",
   "execution_count": 71,
   "id": "ac7e0c9d",
   "metadata": {},
   "outputs": [
    {
     "name": "stdout",
     "output_type": "stream",
     "text": [
      "['코', '딩', ' ', '공', '부', '는', 'ㄴ', ' ', '1', '일', 'ㄹ', ' ', '1', '커', 'ㅓ', '밋', 'ㅅ', ' ', '@', '@', '@', '#', '^', '(', ')', '#', '_', '+', '!', '&', '~', ':', '\"']\n",
      "1\n",
      "2\n",
      "3\n",
      "4\n",
      "5\n",
      "['코', '딩', ' ', '공', '부', '는', ' ', '1', '일', ' ', '1', '커', '밋', ' ']\n",
      "코딩 공부는 1일 1커밋 \n"
     ]
    },
    {
     "data": {
      "text/plain": [
       "'코딩 공부는 1일 1커밋 '"
      ]
     },
     "execution_count": 71,
     "metadata": {},
     "output_type": "execute_result"
    }
   ],
   "source": [
    "'''\n",
    "잘못된 문장이 작성된 문자열 original_word, 제거할 대상이 작성된 word 문자열과 빈 리스트 arr이 주어진다. \n",
    "original_word 변수에 담긴 각 문자열을 모두 나누어 arr 리스트에 담는다. \n",
    "extend 메서드를 활용한다. \n",
    "arr 리스트를 출력한다. \n",
    "\n",
    "문장에서 잘못된 내용을 제거하는 함수 restructure_word 함수를 작성한. \n",
    "인자로 넘겨받은 word 문자열을 순회하며 아래 조건에 맞춰 arr에서 불필요한 문자열을 제거한다. \n",
    "만약 순회중인 문자열이 숫자라면, 해당 숫자 만큼 반복하여 arr의 마지막 요소를 제거한다. \n",
    "isdecimal 메서드와 pop 메서드를 활용한다. \n",
    "그 외의 경우, arr에서 해당 문자열을 제거한다. \n",
    "remove 메서드를 활용한다. \n",
    "불필요한 문자를 제거한 arr를 반환한다. \n",
    "함수 호출 결과를 result 변수에 담고 result를 출력한다. \n",
    "\n",
    "result에 할당된 리스트를 하나의 문자열로 변환하여 출력한다. \n",
    "join 메서드를 활용한다.\n",
    "'''\n",
    "\n",
    "\n",
    "\n",
    "def restructure_word(word, arr):\n",
    "\n",
    "    for idx in original_word:\n",
    "        arr.extend([idx])\n",
    "    print(arr)\n",
    "\n",
    "    for i in word:\n",
    "        if i.isdecimal() == True:\n",
    "            print(int(i))\n",
    "            for x in range(int(i)):\n",
    "                arr.pop()\n",
    "\n",
    "        else:\n",
    "            arr.remove(i)\n",
    "\n",
    "    print(arr)\n",
    "    arr = ''.join(arr)\n",
    "    print(arr)\n",
    "    return arr\n",
    "            \n",
    "\n",
    "original_word = '코딩 공부는ㄴ 1일ㄹ 1커ㅓ밋ㅅ @@@#^()#_+!&~:\"'\n",
    "word = '1ㄴ2ㄹ3ㅓ4ㅅ5'\n",
    "arr = []\n",
    "\n",
    "\n",
    "\n",
    "restructure_word(word, arr)"
   ]
  },
  {
   "cell_type": "code",
   "execution_count": 73,
   "id": "2e7393f6",
   "metadata": {},
   "outputs": [
    {
     "name": "stdout",
     "output_type": "stream",
     "text": [
      "[1, 5, 3, 7, 9]\n",
      "(1, 5, 3, 7, 9)\n"
     ]
    }
   ],
   "source": [
    "tup = (1,5,3,7,9)\n",
    "\n",
    "lst = list(tup)\n",
    "print(lst)\n",
    "\n",
    "print(tuple(lst))"
   ]
  },
  {
   "cell_type": "code",
   "execution_count": 74,
   "id": "1cfd9e57",
   "metadata": {},
   "outputs": [
    {
     "name": "stdout",
     "output_type": "stream",
     "text": [
      "(1, 2, 3, 5, 8)\n"
     ]
    }
   ],
   "source": [
    "'''\n",
    "주어진 튜플을 정렬하여 새로운 튜플로 반환하는 sort_tuple 함수를 작성하시오. \n",
    "튜플을 인자로 받아 정렬된 새로운 튜플을 반환해야 한다.\n",
    "'''\n",
    "\n",
    "# 아래 함수를 수정하시오.\n",
    "# tuple 은 불변 특성, 순서 ㅇ\n",
    "\n",
    "def sort_tuple(tup):\n",
    "    new_tuple = ()\n",
    "    new_tuple = tuple(sorted(tup)) #sorted(tup) 하면 list가 돼서 tuple로 바꿈\n",
    "\n",
    "    return new_tuple\n",
    "\n",
    "\n",
    "# def sort_tuple(tup):\n",
    "#     new_tuple = ()\n",
    "#     lst = list(tup)\n",
    "#     lst.sort() # 반환값이 없어서 새로운 변수에 할당하면 안됨\n",
    "#     new_tuple = tuple(lst)\n",
    "\n",
    "#     return new_tuple\n",
    "\n",
    "\n",
    "result = sort_tuple((5, 2, 8, 1, 3))\n",
    "print(result)\n"
   ]
  },
  {
   "cell_type": "code",
   "execution_count": 75,
   "id": "634fac8f",
   "metadata": {},
   "outputs": [
    {
     "name": "stdout",
     "output_type": "stream",
     "text": [
      "hello,\n",
      "world!\n",
      "Hello, World!\n"
     ]
    }
   ],
   "source": [
    "'''\n",
    "주어진 문자열에서 모든 단어의 첫 글자를 대문자로 변경하는 capitalize_words 함수를 작성하시오. \n",
    "문자열을 인자로 받아 모든 단어의 첫 글자를 대문자로 변경한 문자열을 반환해야 한다.\n",
    "'''\n",
    "\n",
    "# 아래 함수를 수정하시오.\n",
    "def capitalize_words(str):\n",
    "    str1 = str.split() # 단어별로 나눔\n",
    "    num = 0\n",
    "    for ele in str1:\n",
    "        new_ele = ele.capitalize()\n",
    "        str1[num] = new_ele\n",
    "        num += 1\n",
    "        print(ele)\n",
    "\n",
    "    return ' '.join(str1)\n",
    "\n",
    "result = capitalize_words(\"hello, world!\")\n",
    "print(result)\n"
   ]
  },
  {
   "cell_type": "code",
   "execution_count": 14,
   "id": "7380473d",
   "metadata": {},
   "outputs": [
    {
     "name": "stdout",
     "output_type": "stream",
     "text": [
      "[2, 4, 6, 8, 10, 12, 18]\n"
     ]
    }
   ],
   "source": [
    "'''\n",
    "주어진 리스트에서 홀수를 모두 제거하고, 짝수만을 남긴 리스트를 반환하는 even_elements 함수를 작성하시오. \n",
    "단, extend와 pop을 활용하여 구현해야 한다.\n",
    "'''\n",
    "\n",
    "\n",
    "# 아래 함수를 수정하시오.\n",
    "def even_elements(list1):\n",
    "    new_list = []\n",
    "    num = 0\n",
    "    while True:\n",
    "        if num == len(list1):\n",
    "            break\n",
    "        \n",
    "        elif list1[num] % 2 != 0:\n",
    "            list1.pop(num)\n",
    "            num -= 1\n",
    "\n",
    "        num += 1\n",
    "\n",
    "    new_list.extend(list1)        \n",
    "\n",
    "    \n",
    "    return new_list\n",
    "\n",
    "\n",
    "'''\n",
    "def even_elements(list):\n",
    "    new_list = []\n",
    "    for ele in list:\n",
    "        if ele % 2 == 0:\n",
    "            new_list.append(ele)\n",
    "\n",
    "    return new_list\n",
    "'''\n",
    "\n",
    "\n",
    "my_list = [1, 2, 3, 4, 5, 6, 7, 8, 9, 10, 11, 12, 13, 15, 18, 13]\n",
    "result = even_elements(my_list)\n",
    "print(result)\n"
   ]
  },
  {
   "cell_type": "code",
   "execution_count": null,
   "id": "e3d03b05",
   "metadata": {},
   "outputs": [
    {
     "name": "stdout",
     "output_type": "stream",
     "text": [
      "{1, 2, 3, 4, 5}\n",
      "{1, 2, 3, 4, 5, 6}\n",
      "최소 두 개의 셋이 필요합니다.\n"
     ]
    }
   ],
   "source": [
    "#여러 set를 받아와서 합집합\n",
    "# 아래 함수를 수정하시오.\n",
    "def union_sets(set1, set2):\n",
    "    return set1 | set2\n",
    "\n",
    "def union_multiple_sets(*sets):\n",
    "    if len(sets) <= 1: #작동방식 몰랐음\n",
    "\n",
    "        print(\"최소 두 개의 셋이 필요합니다.\")\n",
    "    return set.union(*sets)\n",
    "\n",
    "\n",
    "result = union_sets({1, 2, 3}, {3, 4, 5})\n",
    "print(result)  # {1, 2, 3, 4, 5}\n",
    "\n",
    "result = union_multiple_sets({1, 2}, {3, 4}, {5, 6})\n",
    "print(result)  # {1, 2, 3, 4, 5, 6}\n",
    "\n",
    "result = union_multiple_sets({2, 1})\n",
    "# 출력 : 최소 두 개의 셋이 필요합니다\n"
   ]
  },
  {
   "cell_type": "code",
   "execution_count": 2,
   "id": "6f1fbbb4",
   "metadata": {},
   "outputs": [
    {
     "name": "stdout",
     "output_type": "stream",
     "text": [
      "name은/는 galxy flip입니다.\n",
      "company은/는 samsung입니다.\n",
      "is_collapsible은/는 True입니다.\n",
      "\n",
      "name은/는 ipad입니다.\n",
      "company은/는 unknown입니다.\n",
      "is_collapsible은/는 False입니다.\n",
      "\n",
      "name은/는 galxy fold입니다.\n",
      "company은/는 samsung입니다.\n",
      "is_collapsible은/는 True입니다.\n",
      "\n",
      "name은/는 galxy note입니다.\n",
      "company은/는 samsung입니다.\n",
      "is_collapsible은/는 False입니다.\n",
      "\n",
      "name은/는 optimus입니다.\n",
      "company은/는 unknown입니다.\n",
      "is_collapsible은/는 False입니다.\n",
      "\n"
     ]
    }
   ],
   "source": [
    "'''\n",
    "다수의 dict를 가진 리스트 data와 키 목록이 담긴 key_list가 주어진다. \n",
    "data를 순회하여 얻은 dict를 key_list를 순회하여 얻은 값에 따라 아래 조건을 만족하는 코드를 작성하시오. \n",
    "만약 순회중인 dict에 key_list로 얻은 key가 없다면, \n",
    "해당 key에 'unkwnow' 문자열을 할당한다. \n",
    "get 메서드와 setdefault 메서드를 활용한다. \n",
    "모든 상황에 대해 '{key} 은/는 {value}입니다.' 를 출력한다.\n",
    "'''\n",
    "\n",
    "data = [\n",
    "    {\n",
    "        'name': 'galxy flip',\n",
    "        'company': 'samsung',\n",
    "        'is_collapsible': True,\n",
    "    },\n",
    "    {\n",
    "        'name': 'ipad',\n",
    "        'is_collapsible': False\n",
    "    },\n",
    "    {\n",
    "        'name': 'galxy fold',\n",
    "        'company': 'samsung',\n",
    "        'is_collapsible': True\n",
    "    },\n",
    "    {\n",
    "        'name': 'galxy note',\n",
    "        'company': 'samsung',\n",
    "        'is_collapsible': False\n",
    "    },\n",
    "    {\n",
    "        'name': 'optimus',\n",
    "        'is_collapsible': False\n",
    "    },\n",
    "]\n",
    "\n",
    "key_list = ['name', 'company', 'is_collapsible']\n",
    "\n",
    "# 아래에 코드를 작성하시오.\n",
    "\n",
    "for dic in data:\n",
    "    for key in key_list:\n",
    "        dic.setdefault(key, 'unknown')\n",
    "        if key == 'name':\n",
    "            print(f\"name은/는 {dic.get(key)}입니다.\")\n",
    "        if key == 'company':\n",
    "            print(f\"company은/는 {dic.get(key)}입니다.\")\n",
    "        if key == 'is_collapsible':\n",
    "            print(f\"is_collapsible은/는 {dic.get(key)}입니다.\")\n",
    "    \n",
    "    print()\n",
    "    "
   ]
  },
  {
   "cell_type": "code",
   "execution_count": null,
   "id": "b78818ba",
   "metadata": {},
   "outputs": [],
   "source": [
    "'''\n",
    "주어진 딕셔너리에서 특정 키에 해당하는 값을 가져오는 get_value_from_dict 함수를 작성하시오. \n",
    "\n",
    "딕셔너리와 키를 인자로 받아 해당 키에 대응하는 값을 반환해야 한다.\n",
    "조회하고자 하는 키가 딕셔너리에 존재하지 않는 경우, 'Unknown' 값을 반환해야 한다.\n",
    "'''\n",
    "\n",
    "# 아래 함수를 수정하시오.\n",
    "def get_value_from_dict(dic, key):\n",
    "    return dic.setdefault(key, 'Unknown')\n",
    "    \n",
    "\n",
    "\n",
    "my_dict = {'name': 'Alice', 'age': 25}\n",
    "result = get_value_from_dict(my_dict, 'name')\n",
    "print(result)  # Alice\n",
    "\n",
    "result = get_value_from_dict(my_dict, 'gender')\n",
    "print(result)  # Unknown\n"
   ]
  },
  {
   "cell_type": "code",
   "execution_count": 3,
   "id": "c5fe3624",
   "metadata": {},
   "outputs": [
    {
     "name": "stdout",
     "output_type": "stream",
     "text": [
      "(1, {3})\n",
      "(0, set())\n"
     ]
    }
   ],
   "source": [
    "'''\n",
    "주어진 셋에서 두 개의 셋의 교집합을 반환하는 intersection_sets 함수를 작성하시오. \n",
    "\n",
    "두 개의 셋을 인자로 받아 공통 요소만 모아 반환하도록 교집합한다.\n",
    "함수의 반환값은 교집합한 셋의 길이와, 교집합한 요소를 함께 반환한다.\n",
    "단, 두 셋의 교집합이 공집합 (빈 셋)인 경우, \"공통 요소가 없습니다.\" 메시지를 출력한다.\n",
    "\n",
    "'''\n",
    "\n",
    "# 아래 함수를 수정하시오.\n",
    "def intersection_sets(set1, set2):\n",
    "    length = len(set1 & set2)\n",
    "    return (len(set1 & set2), set1 & set2)\n",
    "\n",
    "\n",
    "result = intersection_sets({1, 2, 3}, {3, 4, 5})\n",
    "print(result)  # (1, {3})\n",
    "\n",
    "result = intersection_sets({1, 2}, {3, 4})\n",
    "print(result)  # (0, set())\n",
    "# 출력: 공통 요소가 없습니다\n"
   ]
  },
  {
   "cell_type": "code",
   "execution_count": 12,
   "id": "e0aee6c3",
   "metadata": {},
   "outputs": [
    {
     "name": "stdout",
     "output_type": "stream",
     "text": [
      "[dict_keys(['name', 'age'])]\n",
      "['person', 'name', 'age', 'location']\n"
     ]
    }
   ],
   "source": [
    "'''\n",
    "주어진 단일 딕셔너리에서 모든 키를 리스트로 반환하는 get_keys_from_dict 함수와 중첩된 딕셔너리 구조에서 모든 하위 딕셔너리의 키를 추출하여 리스트로 반환하는 get_all_keys_from_dict  함수를 작성하시오.\n",
    "\n",
    "get_keys_from_dict \n",
    " 딕셔너리를 인자로 받아 모든 키를 담은 리스트를 반환해야 한다.\n",
    "\n",
    "get_all_keys_from_dict  \n",
    " 최상위 딕셔너리의 키뿐만 아니라, 모든 하위 딕셔너리의 키를 추출하여 리스트로 반환해야 한다.\n",
    "'''\n",
    "\n",
    "# 아래 함수를 수정하시오.\n",
    "def get_keys_from_dict(dic):\n",
    "    key_list = []\n",
    "    key_list.append(dic.keys())\n",
    "\n",
    "    return key_list\n",
    "\n",
    "def get_all_keys_from_dict(dic):\n",
    "    key_list = []\n",
    "    for key, value in dic.items():\n",
    "        key_list.append(key)\n",
    "\n",
    "        if type(value) == dict:\n",
    "            small_key = get_all_keys_from_dict(value)\n",
    "            key_list.extend(small_key)\n",
    "\n",
    "    return key_list\n",
    "\n",
    "my_dict = {'name': 'Alice', 'age': 25}\n",
    "result = get_keys_from_dict(my_dict)\n",
    "print(result)  # ['name', 'age']\n",
    "\n",
    "my_dict = {'person': {'name': 'Alice', 'age': 25}, 'location': 'NY'}\n",
    "result = get_all_keys_from_dict(my_dict)\n",
    "print(result)  # ['person', 'name', 'age', 'location']\n"
   ]
  },
  {
   "cell_type": "code",
   "execution_count": 13,
   "id": "497a866a",
   "metadata": {},
   "outputs": [
    {
     "name": "stdout",
     "output_type": "stream",
     "text": [
      "결과: ({1, 2}, {5, 6})\n",
      "결과: (set(), {4})\n"
     ]
    }
   ],
   "source": [
    "'''\n",
    "주어진 셋에서 두 개의 셋의 차집합을 반환하는 ordered_difference_sets함수를 작성하시오.\n",
    "\n",
    "두 개의 셋을 인자로 받아 차집합을 구하되, 양방향에 대한 차집합을 구하여 모두 반환한다.\n",
    "단, 두 차집합의 길이를 비교하여 길이가 더 짧은 쪽을 먼저 반환해야 한다.\n",
    "길이가 같을 경우, 첫 번째 차집합을 먼저 반환한다.\n",
    "'''\n",
    "\n",
    "def ordered_difference_sets(set1, set2):\n",
    "    dif1 = set1 - set2\n",
    "    dif2 = set2 - set1\n",
    "    if len(dif1) > len(dif2):\n",
    "        return (dif2, dif1)\n",
    "    \n",
    "    else:\n",
    "        return (dif1, dif2)\n",
    "\n",
    "\n",
    "# 예시 실행\n",
    "result = ordered_difference_sets({1, 2, 3, 4}, {3, 4, 5, 6})\n",
    "print(\"결과:\", result)  # 출력: ({1, 2}, {5, 6})\n",
    "\n",
    "result = ordered_difference_sets({1, 2, 3, 4}, {1, 2, 3})\n",
    "print(\"결과:\", result)  # 출력: (set(), {4})"
   ]
  }
 ],
 "metadata": {
  "kernelspec": {
   "display_name": "Python 3",
   "language": "python",
   "name": "python3"
  },
  "language_info": {
   "codemirror_mode": {
    "name": "ipython",
    "version": 3
   },
   "file_extension": ".py",
   "mimetype": "text/x-python",
   "name": "python",
   "nbconvert_exporter": "python",
   "pygments_lexer": "ipython3",
   "version": "3.11.9"
  }
 },
 "nbformat": 4,
 "nbformat_minor": 5
}
