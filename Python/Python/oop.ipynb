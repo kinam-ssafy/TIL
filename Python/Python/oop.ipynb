{
 "cells": [
  {
   "cell_type": "code",
   "execution_count": 3,
   "id": "6141cd93",
   "metadata": {},
   "outputs": [
    {
     "name": "stdout",
     "output_type": "stream",
     "text": [
      "안녕하세요, Alice입니다. 나이는 25입니다.\n",
      "안녕하세요, Alice입니다. 나이는 25살 입니다.\n",
      "Alice\n",
      "25\n"
     ]
    }
   ],
   "source": [
    "#절차 지향 사고\n",
    "#변수와 함수를 별개로 다룸\n",
    "\n",
    "name = 'Alice'\n",
    "age = 25\n",
    "\n",
    "def introduce(name, age):\n",
    "    print(f\"안녕하세요, {name}입니다. 나이는 {age}입니다.\")\n",
    "\n",
    "introduce(name, age)\n",
    "\n",
    "#객체 지향 사고\n",
    "# 객체 안에 name, age와 이와 관련된 기능(메서드) 포함\n",
    "\n",
    "class Person:\n",
    "    #__init__은 생성자 메서드\n",
    "    def __init__(self, name, age):\n",
    "        #인스턴스 속성\n",
    "        self.name = name\n",
    "        self.age = age\n",
    "\n",
    "    def introduce(self):\n",
    "        print(f\"안녕하세요, {self.name}입니다. 나이는 {self.age}살 입니다.\")\n",
    "\n",
    "alice = Person('Alice', 25)\n",
    "alice.introduce() # 객체가 자신의 정보를 출력\n",
    "\n",
    "#인스턴스 변수 접근 및 출력\n",
    "print(alice.name)\n",
    "print(alice.age)\n"
   ]
  },
  {
   "cell_type": "code",
   "execution_count": 4,
   "id": "dc0e37a6",
   "metadata": {},
   "outputs": [
    {
     "name": "stdout",
     "output_type": "stream",
     "text": [
      "1\n",
      "2\n",
      "3.14\n",
      "3.14\n"
     ]
    }
   ],
   "source": [
    "class Circle:\n",
    "    pi = 3.14\n",
    "\n",
    "    #생성자 메서드\n",
    "    def __init__(self, radius):\n",
    "        self.radius = radius\n",
    "\n",
    "#인스턴스 생성\n",
    "c1 = Circle(1)\n",
    "c2 = Circle(2)\n",
    "\n",
    "#인스턴스 변수(속성) 접근\n",
    "print(c1.radius)\n",
    "print(c2.radius)\n",
    "\n",
    "#클래스 변수(공통 속성) 접근\n",
    "print(c1.pi)\n",
    "print(c2.pi)"
   ]
  },
  {
   "cell_type": "code",
   "execution_count": null,
   "id": "c28280e0",
   "metadata": {},
   "outputs": [
    {
     "name": "stdout",
     "output_type": "stream",
     "text": [
      "5\n",
      "10\n",
      "100\n",
      "3.14\n",
      "3.14\n"
     ]
    }
   ],
   "source": [
    "class Circle:\n",
    "    pi = 3.14\n",
    "\n",
    "    def __init__(self, radius):\n",
    "        self.radius = radius\n",
    "\n",
    "c1 = Circle(5)\n",
    "c2 = Circle(10)\n",
    "\n",
    "print(c1.radius)\n",
    "print(c2.radius)\n",
    "\n",
    "c1.pi = 100 #c1이 본인 인스턴스 변수 pi를 생성\n",
    "\n",
    "print(c1.pi)\n",
    "print(Circle.pi)\n",
    "\n",
    "#c2는 인스턴스 변수 pi가 없음. 따라서 클래스의 pi를 찾아가서 조회\n",
    "print(c2.pi)"
   ]
  },
  {
   "cell_type": "code",
   "execution_count": 6,
   "id": "4894298d",
   "metadata": {},
   "outputs": [
    {
     "name": "stdout",
     "output_type": "stream",
     "text": [
      "1\n",
      "0\n"
     ]
    }
   ],
   "source": [
    "class Counter:\n",
    "    def __init__(self):\n",
    "        self.count = 0\n",
    "\n",
    "    def increment(self):\n",
    "        self.count += 1\n",
    "\n",
    "c1 = Counter()\n",
    "c2 = Counter()\n",
    "\n",
    "c1.increment()\n",
    "print(c1.count)\n",
    "print(c2.count)\n"
   ]
  },
  {
   "cell_type": "code",
   "execution_count": 8,
   "id": "e547f4a9",
   "metadata": {},
   "outputs": [
    {
     "name": "stdout",
     "output_type": "stream",
     "text": [
      "2\n"
     ]
    }
   ],
   "source": [
    "class Person:\n",
    "    population = 0\n",
    "\n",
    "    def __init__(self, name):\n",
    "        self.name = name\n",
    "        Person.increase_population()\n",
    "        \n",
    "    @classmethod\n",
    "    def increase_population(cls):\n",
    "        cls.population += 1\n",
    "\n",
    "#인스턴스 생성\n",
    "person1 = Person('Alice')\n",
    "person2 = Person('Bob')\n",
    "\n",
    "#클래스 변수 접근\n",
    "print(Person.population)"
   ]
  },
  {
   "cell_type": "code",
   "execution_count": 9,
   "id": "fb0f50ab",
   "metadata": {},
   "outputs": [
    {
     "name": "stdout",
     "output_type": "stream",
     "text": [
      "8\n"
     ]
    }
   ],
   "source": [
    "class MathUtils:\n",
    "    # 정적 메서드\n",
    "    # 클래스나 인스턴스에 의존하지 않고 독립적으로 동작\n",
    "    # 정적 메서드는 클래스나 인스턴스의 상태를 변경하지 않음\n",
    "\n",
    "    @staticmethod\n",
    "    def add(a, b):\n",
    "        return a + b\n",
    "    \n",
    "print(MathUtils.add(3, 5))"
   ]
  },
  {
   "cell_type": "code",
   "execution_count": 10,
   "id": "11760f54",
   "metadata": {},
   "outputs": [
    {
     "name": "stdout",
     "output_type": "stream",
     "text": [
      "1300\n",
      "0.03\n",
      "True\n"
     ]
    }
   ],
   "source": [
    "# 입출금이 가능한 은행 계좌 클래스 만들기\n",
    "# 은행 계좌를 모델링하는 클래스를 만들고, 입출금 가능(메서드)를 구현\n",
    "\n",
    "class BankAccount:\n",
    "    interest_rate = 0.02 #이자율\n",
    "\n",
    "    def __init__(self, owner, balance = 0):\n",
    "        self.owner = owner # 소유자 \n",
    "        self.balance = balance # 초기 잔액 \n",
    "\n",
    "    #입금\n",
    "    def deposit(self, amount):\n",
    "        self.balance += amount\n",
    "\n",
    "    #출금\n",
    "    def withdraw(self, amount):\n",
    "        if self.balance >= amount:\n",
    "            self.balance -= amount\n",
    "        else:\n",
    "            print(\"잔액 부족!\")\n",
    "\n",
    "    #이자율 설정\n",
    "    @classmethod\n",
    "    def set_interest_rate(cls, rate):\n",
    "        cls.interest_rate = rate\n",
    "\n",
    "    @staticmethod\n",
    "    def is_positive(amount):\n",
    "        return amount > 0\n",
    "    \n",
    "# 계좌 개설 (인스턴스 생성)\n",
    "alice_acc = BankAccount('Alice', 1000)\n",
    "\n",
    "# 입금 및 출금 (인스턴스 메서드 호출)\n",
    "alice_acc.deposit(500)\n",
    "alice_acc.withdraw(200)\n",
    "\n",
    "# 잔액 확인 (인스턴스 변수 참조)\n",
    "print(alice_acc.balance)  # 1300\n",
    "\n",
    "# 이자율 변경 (클래스 메서드 호출)\n",
    "BankAccount.set_interest_rate(0.03)\n",
    "print(BankAccount.interest_rate)  # 0.03\n",
    "\n",
    "# 잔액이 양수인지 확인 (정적 메서드 호출)\n",
    "print(BankAccount.is_positive(alice_acc.balance))  # True\n",
    "\n",
    "    "
   ]
  },
  {
   "cell_type": "code",
   "execution_count": 1,
   "id": "d6987100",
   "metadata": {},
   "outputs": [
    {
     "name": "stdout",
     "output_type": "stream",
     "text": [
      "멍멍\n",
      "먹는 중\n"
     ]
    }
   ],
   "source": [
    "class Animal:\n",
    "    def eat(self):\n",
    "        print('먹는 중')\n",
    "\n",
    "class Dog(Animal):\n",
    "    def bark(self):\n",
    "        print('멍멍')\n",
    "\n",
    "my_dog = Dog()\n",
    "my_dog.bark()\n",
    "my_dog.eat() # 상속했기때문에 eat도 있음\n",
    "\n",
    "#부모 클래스의 인스턴스 메서드 eat 호출"
   ]
  },
  {
   "cell_type": "code",
   "execution_count": null,
   "id": "ac5b1122",
   "metadata": {},
   "outputs": [
    {
     "name": "stdout",
     "output_type": "stream",
     "text": [
      "반갑습니다. 김교수입니다.\n"
     ]
    }
   ],
   "source": [
    "#상속을 사용한 계층구조 변경\n",
    "class Person:\n",
    "    def __init__(self, name, age):\n",
    "        self.name = name\n",
    "        self.age = age\n",
    "\n",
    "    def talk(self): #메서드 재사용\n",
    "        print(f\"반갑습니다. {self.name}입니다.\")\n",
    "\n",
    "class Professor(Person):\n",
    "    def __init__(self, name, age, department):\n",
    "        self.name = name\n",
    "        self.age = age\n",
    "        self.department = department\n",
    "\n",
    "class Student(Person):\n",
    "    def __init__(self, name, age, gpa):\n",
    "        self.name = name\n",
    "        self.age = age\n",
    "        self.gpa = gpa\n",
    "\n",
    "#부모 Person 클래스의 talk메서드 활용\n",
    "p1 = Professor('김교수', 50, '컴퓨터공학과')\n",
    "p1.talk()\n",
    "\n"
   ]
  },
  {
   "cell_type": "code",
   "execution_count": null,
   "id": "06312dc3",
   "metadata": {},
   "outputs": [
    {
     "name": "stdout",
     "output_type": "stream",
     "text": [
      "Dog가 밥먹는중\n"
     ]
    }
   ],
   "source": [
    "class Animal:\n",
    "    def eat(self):\n",
    "        print('Animal이 먹는 중')\n",
    "\n",
    "\n",
    "class Dog(Animal):\n",
    "    # 오버라이딩 (부모 클래스 Animal의 eat 메서드를 재정의)\n",
    "    def eat(self, food):\n",
    "        print(f'Dog가 {food}먹는중')\n",
    "\n",
    "my_dog = Dog()\n",
    "my_dog.eat('밥')\n",
    "\n",
    "#오버라이딩을 했는데 인자 구성 바꿔도 됨\n",
    "#eat 함수를 부모클래스까지 가서 찾지도 않음\n",
    "#근데 왜 같은 이름 + 같은 파라미터 재정의 해야함?\n",
    "#\n",
    "\n",
    "\n",
    "# 오버로딩 (파이썬 미지원)\n",
    "# class Example:\n",
    "#     def do_something(self, x):\n",
    "#         print('첫 번째 do_something 메서드:', x)\n",
    "\n",
    "#     # 파이썬에서는 메서드가 \"이름\"이 같으면 앞선 정의를 덮어써버림\n",
    "#     def do_something(self, x, y):\n",
    "#         print('두 번째 do_something 메서드:', x, y)\n",
    "\n",
    "\n",
    "# example = Example()\n",
    "# # TypeError: do_something() missing 1 required positional argument: 'y'\n",
    "# example.do_something(10)\n"
   ]
  },
  {
   "cell_type": "code",
   "execution_count": null,
   "id": "b56533da",
   "metadata": {},
   "outputs": [
    {
     "name": "stdout",
     "output_type": "stream",
     "text": [
      "첫째가 응애\n",
      "첫째가 수영\n",
      "아빠가 걷기\n",
      "XY\n"
     ]
    }
   ],
   "source": [
    "# 다중 상속 예시\n",
    "class Person:\n",
    "    def __init__(self, name):\n",
    "        self.name = name\n",
    "\n",
    "    def greeting(self):\n",
    "        return f'안녕, {self.name}'\n",
    "\n",
    "\n",
    "class Mom(Person):\n",
    "    gene = 'XX'\n",
    "\n",
    "    def swim(self):\n",
    "        return '엄마가 수영'\n",
    "\n",
    "\n",
    "class Dad(Person):\n",
    "    gene = 'XY'\n",
    "\n",
    "    def walk(self):\n",
    "        return '아빠가 걷기'\n",
    "\n",
    "\n",
    "class FirstChild(Dad, Mom):\n",
    "    def swim(self):\n",
    "        return '첫째가 수영'\n",
    "\n",
    "    def cry(self):\n",
    "        return '첫째가 응애'\n",
    "\n",
    "\n",
    "baby1 = FirstChild('아가')\n",
    "print(baby1.cry())  # 첫째가 응애\n",
    "print(baby1.swim())  # 첫째가 수영\n",
    "print(baby1.walk())  # 아빠가 걷기\n",
    "print(baby1.gene)  # ??\n",
    "\n",
    "\n",
    "#상속의 작성 순서 고려\n",
    "#먼저 작성된 Dad쪽부터 찾음 \n",
    "#없으면 Mom"
   ]
  },
  {
   "cell_type": "code",
   "execution_count": 10,
   "id": "23c51422",
   "metadata": {},
   "outputs": [
    {
     "name": "stdout",
     "output_type": "stream",
     "text": [
      "Value from ParentA: ParentA\n",
      "Value from Child: Child\n",
      "Child\n",
      "ParentA\n"
     ]
    },
    {
     "ename": "AttributeError",
     "evalue": "'Child' object has no attribute 'value_b'",
     "output_type": "error",
     "traceback": [
      "\u001b[31m---------------------------------------------------------------------------\u001b[39m",
      "\u001b[31mAttributeError\u001b[39m                            Traceback (most recent call last)",
      "\u001b[36mCell\u001b[39m\u001b[36m \u001b[39m\u001b[32mIn[10]\u001b[39m\u001b[32m, line 42\u001b[39m\n\u001b[32m     39\u001b[39m \u001b[38;5;28mprint\u001b[39m(child.value_c)  \u001b[38;5;66;03m# Child\u001b[39;00m\n\u001b[32m     40\u001b[39m \u001b[38;5;28mprint\u001b[39m(child.value_a)  \u001b[38;5;66;03m# ParentA\u001b[39;00m\n\u001b[32m     41\u001b[39m \u001b[38;5;28mprint\u001b[39m(\n\u001b[32m---> \u001b[39m\u001b[32m42\u001b[39m     \u001b[43mchild\u001b[49m\u001b[43m.\u001b[49m\u001b[43mvalue_b\u001b[49m\n\u001b[32m     43\u001b[39m )  \u001b[38;5;66;03m# AttributeError: 'Child' object has no attribute 'value_b'\u001b[39;00m\n\u001b[32m     44\u001b[39m \u001b[38;5;66;03m# b까지의 init 까진 안갔음\u001b[39;00m\n\u001b[32m     46\u001b[39m \u001b[33;03m\"\"\"\u001b[39;00m\n\u001b[32m     47\u001b[39m \u001b[33;03m<ParentA에 super().__init__()를 추가하면?>\u001b[39;00m\n\u001b[32m     48\u001b[39m \u001b[33;03m그 다음으로 ParentB의 __init__가 실행되어 value_b도 초기화할 수 있음\u001b[39;00m\n\u001b[32m   (...)\u001b[39m\u001b[32m     51\u001b[39m \u001b[33;03mprint(child.value_b)  # ParentB\u001b[39;00m\n\u001b[32m     52\u001b[39m \u001b[33;03m\"\"\"\u001b[39;00m\n",
      "\u001b[31mAttributeError\u001b[39m: 'Child' object has no attribute 'value_b'"
     ]
    }
   ],
   "source": [
    "# 다중 상속\n",
    "class ParentA:\n",
    "    def __init__(self):\n",
    "        # super().__init__()  # 이거 풀면 ParentA에서의 super는 누구임?\n",
    "        # 아모른 직다 \n",
    "        # super는 MRO순서에 따른 호출을 따름\n",
    "        # 따라서 Child(A,B) 이므로 B로 감\n",
    "        self.value_a = 'ParentA'\n",
    "\n",
    "    def show_value(self):\n",
    "        print(f'Value from ParentA: {self.value_a}')\n",
    "\n",
    "\n",
    "class ParentB:\n",
    "    def __init__(self):\n",
    "        self.value_b = 'ParentB'\n",
    "\n",
    "    def show_value(self):\n",
    "        print(f'Value from ParentB: {self.value_b}')\n",
    "\n",
    "\n",
    "class Child(ParentA, ParentB):\n",
    "    def __init__(self):\n",
    "        super().__init__()  # ParentA 클래스의 __init__ 메서드 호출\n",
    "        self.value_c = 'Child'\n",
    "\n",
    "    def show_value(self):\n",
    "        super().show_value()  # ParentA 클래스의 show_value 메서드 호출\n",
    "        print(f'Value from Child: {self.value_c}')\n",
    "\n",
    "\n",
    "child = Child() # 인스턴스 생성\n",
    "child.show_value()\n",
    "\"\"\"\n",
    "Value from ParentA: ParentA\n",
    "Value from Child: Child\n",
    "\"\"\"\n",
    "\n",
    "print(child.value_c)  # Child\n",
    "print(child.value_a)  # ParentA\n",
    "print(\n",
    "    child.value_b\n",
    ")  # AttributeError: 'Child' object has no attribute 'value_b'\n",
    "# b까지의 init 까진 안갔음\n",
    "\n",
    "\"\"\"\n",
    "<ParentA에 super().__init__()를 추가하면?>\n",
    "그 다음으로 ParentB의 __init__가 실행되어 value_b도 초기화할 수 있음\n",
    "그러면 print(child.value_b)는 ParentB를 출력하게 됨\n",
    "\n",
    "print(child.value_b)  # ParentB\n",
    "\"\"\"\n",
    "\n",
    "\"\"\"\n",
    "<Child 클래스의 MRO>\n",
    "Child -> ParentA -> ParentB\n",
    "\n",
    "super()는 단순히 “직계 부모 클래스를 가리킨다”가 아니라, \n",
    "MRO 순서를 기반으로 “현재 클래스의 다음 순서” 클래스(또는 메서드)를 가리킴\n",
    "\n",
    "따라서 ParentA에서 super()를 부르면 MRO상 다음 클래스인 ParentB.__init__()가 호출됨\n",
    "\"\"\"\n",
    "\n",
    "\n",
    "\"\"\"\n",
    "1.1 Child 클래스의 인스턴스를 생성할 때 일어나는 일\n",
    "    1.\tchild = Child() 호출 시, Child.__init__()가 실행\n",
    "    2.\tChild.__init__() 내부에서 super().__init__()를 호출\n",
    "        - 여기서 Child의 super()는 MRO에 의해 ParentA의 __init__()를 가리킴\n",
    "    3.\tParentA.__init__()로 진입\n",
    "\n",
    "1.2. ParentA.__init__() 내부\n",
    "\t1.\tParentA.__init__()에는 다시 super().__init__()가 있음\n",
    "\t2.\tParentA를 기준으로 MRO에서 “다음 클래스”는 ParentB, 따라서 ParentA의 super().__init__()는 ParentB.__init__() 호출\n",
    "    3.\tParentB.__init__()가 실행되면서 self.value_b = 'ParentB'가 설정됨\n",
    "\t4.\tParentB.__init__()가 종료된 후, 다시 ParentA.__init__()로 돌아와 self.value_a = 'ParentA'가 설정됨\n",
    "\t5.\tParentA.__init__() 종료 후, 다시 Child.__init__()로 돌아감\n",
    "\t6.\t마지막으로 Child.__init__() 내에서 self.value_c = 'Child'가 설정되고 종료\n",
    "\n",
    "1.3 결과적으로 child 인스턴스는 value_a, value_b, value_c 세 속성을 모두 갖게 됨\n",
    "\t- child.value_a → 'ParentA'\n",
    "\t- child.value_b → 'ParentB' \n",
    "\t- child.value_c → 'Child'\n",
    "\"\"\"\n"
   ]
  },
  {
   "cell_type": "code",
   "execution_count": null,
   "id": "ae4cbbc8",
   "metadata": {},
   "outputs": [],
   "source": []
  },
  {
   "cell_type": "code",
   "execution_count": null,
   "id": "59d4d575",
   "metadata": {},
   "outputs": [],
   "source": []
  }
 ],
 "metadata": {
  "kernelspec": {
   "display_name": "Python 3",
   "language": "python",
   "name": "python3"
  },
  "language_info": {
   "codemirror_mode": {
    "name": "ipython",
    "version": 3
   },
   "file_extension": ".py",
   "mimetype": "text/x-python",
   "name": "python",
   "nbconvert_exporter": "python",
   "pygments_lexer": "ipython3",
   "version": "3.11.9"
  }
 },
 "nbformat": 4,
 "nbformat_minor": 5
}
