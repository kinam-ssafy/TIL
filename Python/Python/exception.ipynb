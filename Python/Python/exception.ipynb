{
 "cells": [
  {
   "cell_type": "code",
   "execution_count": 2,
   "id": "5f0947a8",
   "metadata": {},
   "outputs": [
    {
     "name": "stdout",
     "output_type": "stream",
     "text": [
      "0으로 나눌 수 없습니다.\n"
     ]
    }
   ],
   "source": [
    "# try-except\n",
    "try:\n",
    "    result = 10 / 0\n",
    "\n",
    "except ZeroDivisionError:\n",
    "    print('0으로 나눌 수 없습니다.')"
   ]
  },
  {
   "cell_type": "code",
   "execution_count": null,
   "id": "5ac5426e",
   "metadata": {},
   "outputs": [],
   "source": [
    "try:\n",
    "    num = int(input('숫자 입력 : '))\n",
    "except ValueError:\n",
    "    print('숫자가 아닙니다.')"
   ]
  },
  {
   "cell_type": "code",
   "execution_count": null,
   "id": "19ae41f0",
   "metadata": {},
   "outputs": [],
   "source": [
    "# 복수 예외처리\n",
    "try:\n",
    "    num = int(input('100을 나눌 값을 입력하시오 : '))\n",
    "    print(100 / num)\n",
    "except (ValueError, ZeroDivisionError):\n",
    "    print('제대로 입력해주세요.')\n",
    "\n",
    "\n",
    "try:\n",
    "    num = int(input('100을 나눌 값을 입력하시오 : '))\n",
    "    print(100 / num)\n",
    "except ValueError:\n",
    "    print('숫자를 넣어주세요.')\n",
    "except ZeroDivisionError:\n",
    "    print('0으로 나눌 수 없습니다.')\n",
    "except:\n",
    "    print('에러가 발생했습니다.')\n"
   ]
  },
  {
   "cell_type": "code",
   "execution_count": 3,
   "id": "c2a7e477",
   "metadata": {},
   "outputs": [
    {
     "name": "stdout",
     "output_type": "stream",
     "text": [
      "결과 : 0.5\n",
      "프로그램이 종료\n"
     ]
    }
   ],
   "source": [
    "# else / finally\n",
    "\n",
    "try:\n",
    "    num = int(input('10으로 나눌 값을 입력하시오 : '))\n",
    "    y = (10 / num)\n",
    "\n",
    "except  ZeroDivisionError:\n",
    "    print('0으로 나눌 수 없습니다.')\n",
    "\n",
    "except ValueError:\n",
    "    print('유효한 숫자가 아닙니다.')\n",
    "else:\n",
    "    print(f'결과 : {y}')\n",
    "finally:\n",
    "    print('프로그램이 종료')"
   ]
  },
  {
   "cell_type": "code",
   "execution_count": 4,
   "id": "11825884",
   "metadata": {},
   "outputs": [
    {
     "name": "stdout",
     "output_type": "stream",
     "text": [
      "list index out of range가 발생\n"
     ]
    }
   ],
   "source": [
    "my_list = []\n",
    "\n",
    "try:\n",
    "    number = my_list[1]\n",
    "except IndexError as error:\n",
    "    print(f\"{error}가 발생\")"
   ]
  },
  {
   "cell_type": "code",
   "execution_count": 8,
   "id": "72b35121",
   "metadata": {},
   "outputs": [
    {
     "name": "stdout",
     "output_type": "stream",
     "text": [
      "Key 존재 x\n"
     ]
    }
   ],
   "source": [
    "my_dict = {\n",
    "    'key': 'value',\n",
    "}\n",
    "#EAFP 허락보다 용서가 쉬움\n",
    "try:\n",
    "    result = my_dict['ke']\n",
    "    print(result)\n",
    "\n",
    "except KeyError:\n",
    "    print('Key 존재 x')"
   ]
  },
  {
   "cell_type": "code",
   "execution_count": null,
   "id": "374f8684",
   "metadata": {},
   "outputs": [
    {
     "ename": "KeyError",
     "evalue": "'ke'",
     "output_type": "error",
     "traceback": [
      "\u001b[31m---------------------------------------------------------------------------\u001b[39m",
      "\u001b[31mKeyError\u001b[39m                                  Traceback (most recent call last)",
      "\u001b[36mCell\u001b[39m\u001b[36m \u001b[39m\u001b[32mIn[7]\u001b[39m\u001b[32m, line 3\u001b[39m\n\u001b[32m      1\u001b[39m \u001b[38;5;66;03m# LBYL (Look Before You Leap)\u001b[39;00m\n\u001b[32m      2\u001b[39m \u001b[38;5;28;01mif\u001b[39;00m \u001b[33m'\u001b[39m\u001b[33mkey\u001b[39m\u001b[33m'\u001b[39m \u001b[38;5;129;01min\u001b[39;00m my_dict:\n\u001b[32m----> \u001b[39m\u001b[32m3\u001b[39m     result = \u001b[43mmy_dict\u001b[49m\u001b[43m[\u001b[49m\u001b[33;43m'\u001b[39;49m\u001b[33;43mke\u001b[39;49m\u001b[33;43m'\u001b[39;49m\u001b[43m]\u001b[49m\n\u001b[32m      4\u001b[39m     \u001b[38;5;28mprint\u001b[39m(result)\n\u001b[32m      5\u001b[39m \u001b[38;5;28;01melse\u001b[39;00m:\n",
      "\u001b[31mKeyError\u001b[39m: 'ke'"
     ]
    }
   ],
   "source": [
    "# LBYL (Look Before You Leap)\n",
    "if 'key' in my_dict:\n",
    "    result = my_dict['key']\n",
    "    print(result)\n",
    "else:\n",
    "    print('Key가 존재하지 않습니다.')"
   ]
  },
  {
   "cell_type": "code",
   "execution_count": null,
   "id": "0dafbf31",
   "metadata": {},
   "outputs": [],
   "source": []
  }
 ],
 "metadata": {
  "kernelspec": {
   "display_name": "Python 3",
   "language": "python",
   "name": "python3"
  },
  "language_info": {
   "codemirror_mode": {
    "name": "ipython",
    "version": 3
   },
   "file_extension": ".py",
   "mimetype": "text/x-python",
   "name": "python",
   "nbconvert_exporter": "python",
   "pygments_lexer": "ipython3",
   "version": "3.11.9"
  }
 },
 "nbformat": 4,
 "nbformat_minor": 5
}
