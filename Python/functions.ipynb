{
 "cells": [
  {
   "cell_type": "code",
   "execution_count": 2,
   "id": "d24796a2",
   "metadata": {},
   "outputs": [
    {
     "name": "stdout",
     "output_type": "stream",
     "text": [
      "hello\n"
     ]
    }
   ],
   "source": [
    "print('hello')"
   ]
  },
  {
   "cell_type": "code",
   "execution_count": null,
   "id": "69476b45",
   "metadata": {},
   "outputs": [
    {
     "name": "stdout",
     "output_type": "stream",
     "text": [
      "70\n"
     ]
    }
   ],
   "source": [
    "#01-basic\n",
    "#함수 정의\n",
    "def make_sum(pram1, pram2):\n",
    "    \"\"\"이것은 두 수를 받아\n",
    "    두 수의 합을 반환하는 함수입니다.\n",
    "    >>> make_sum(1, 2)\n",
    "    3\n",
    "    \"\"\"\n",
    "    return pram1 + pram2\n",
    "\n",
    "print(make_sum(20,50))"
   ]
  },
  {
   "cell_type": "code",
   "execution_count": null,
   "id": "4263d9ba",
   "metadata": {},
   "outputs": [
    {
     "name": "stdout",
     "output_type": "stream",
     "text": [
      "5\n"
     ]
    }
   ],
   "source": [
    "#02-parameter-argument\n",
    "def add_numbers(x, y):   # x y는 매개변수\n",
    "    result = x + y\n",
    "    return result\n",
    "\n",
    "a = 2\n",
    "b = 3\n",
    "\n",
    "sum_result = add_numbers(a, b)  # a b는 인자 \n",
    "print(sum_result)"
   ]
  },
  {
   "cell_type": "code",
   "execution_count": 10,
   "id": "ef3f6547",
   "metadata": {},
   "outputs": [
    {
     "name": "stdout",
     "output_type": "stream",
     "text": [
      "안녕하세요, Alice님! 25살 이시군요.\n",
      "안녕하세요, 25님! Alice살 이시군요.\n"
     ]
    }
   ],
   "source": [
    "#03-arguments\n",
    "\n",
    "# 1. Positional Arguments\n",
    "def greet(name, age):\n",
    "    print(f'안녕하세요, {name}님! {age}살 이시군요.')\n",
    "\n",
    "greet('Alice', 25)\n",
    "greet(25, 'Alice')\n",
    "#greet(alice) error"
   ]
  },
  {
   "cell_type": "code",
   "execution_count": null,
   "id": "de739e98",
   "metadata": {},
   "outputs": [
    {
     "name": "stdout",
     "output_type": "stream",
     "text": [
      "안녕하세요, Bob님! 20살 이시군요.\n",
      "안녕하세요, 기남님! 40살 이시군요.\n",
      "안녕하세요, 기남님! 40살 이시군요.\n",
      "안녕하세요, 기남님! 40살 이시군요.\n",
      "안녕하세요, 기남님! 4살 이시군요.\n",
      "안녕하세요, 기남님! 40살 이시군요.\n"
     ]
    }
   ],
   "source": [
    "# 2. Default Argument Values\n",
    "def greet(name, age=20):\n",
    "    print(f'안녕하세요, {name}님! {age}살 이시군요.')\n",
    "\n",
    "greet('Bob')\n",
    "greet('기남', 40)\n",
    "greet('기남', age=40)\n",
    "greet('기남', '40')\n",
    "greet('기남', int('4') + 0)\n",
    "greet('기남', '4' + str(0))\n"
   ]
  },
  {
   "cell_type": "code",
   "execution_count": null,
   "id": "efaf00a5",
   "metadata": {},
   "outputs": [
    {
     "ename": "SyntaxError",
     "evalue": "positional argument follows keyword argument (3096878015.py, line 7)",
     "output_type": "error",
     "traceback": [
      "  \u001b[36mCell\u001b[39m\u001b[36m \u001b[39m\u001b[32mIn[21]\u001b[39m\u001b[32m, line 7\u001b[39m\n\u001b[31m    \u001b[39m\u001b[31mgreet(age = 35, 'dave')\u001b[39m\n                          ^\n\u001b[31mSyntaxError\u001b[39m\u001b[31m:\u001b[39m positional argument follows keyword argument\n"
     ]
    }
   ],
   "source": [
    "# 3. Keyword Arguments\n",
    "def greet(name, age):\n",
    "    print(f'안녕하세요, {name}님! {age}살 이시군요.')\n",
    "\n",
    "greet(name = 'Dave', age = 35)\n",
    "greet(age = 35, name = 'Dave')\n",
    "#greet(age = 35, 'dave') # positional argument follows keyword argument\n"
   ]
  },
  {
   "cell_type": "code",
   "execution_count": null,
   "id": "04c08b64",
   "metadata": {},
   "outputs": [
    {
     "name": "stdout",
     "output_type": "stream",
     "text": [
      "(1, 200, 3000, 250)\n",
      "<class 'tuple'>\n"
     ]
    }
   ],
   "source": [
    "# 4. Arbitrary Argument Lists\n",
    "def calculate_sum(*args):\n",
    "    print(args)\n",
    "    print(type(args))\n",
    "\n",
    "calculate_sum(1, 200, 3000, 250)"
   ]
  },
  {
   "cell_type": "code",
   "execution_count": 24,
   "id": "e8f1dbd4",
   "metadata": {},
   "outputs": [
    {
     "name": "stdout",
     "output_type": "stream",
     "text": [
      "{'name': 'Eve', 'age': 30, 'hi': 'hello', 'number': 50}\n",
      "<class 'dict'>\n"
     ]
    }
   ],
   "source": [
    "# 5. Arbitrary Keyword Argument Lists\n",
    "def print_info(**kwargs):\n",
    "    print(kwargs)\n",
    "    print(type(kwargs))\n",
    "\n",
    "print_info(name='Eve', age=30, hi='hello', number=50)"
   ]
  },
  {
   "cell_type": "code",
   "execution_count": 43,
   "id": "11936173",
   "metadata": {},
   "outputs": [
    {
     "name": "stdout",
     "output_type": "stream",
     "text": [
      "pos1: 1\n",
      "pos2: 2\n",
      "default_arg: 3\n",
      "args: (4, 5, 6, 'hello', [1, 2, 3], (1, 2, 3, 1, 2), {1, 2, 3}, range(0, 5), {'key': 'value'}, {1, 2, 3, 4})\n",
      "kwargs: {'key': 'value1', 'key2': 123123, 'hi': 'helloqwe', 'how': [1, 2, 3]}\n"
     ]
    }
   ],
   "source": [
    "# 인자의 모든 종류를 적용한 예시\n",
    "def func(pos1, pos2, default_arg='default', *args, **kwargs):\n",
    "    print('pos1:', pos1)\n",
    "    print('pos2:', pos2)\n",
    "    print('default_arg:', default_arg)\n",
    "    print('args:', args)\n",
    "    print('kwargs:', kwargs)\n",
    "\n",
    "func(1,\n",
    "     2,\n",
    "     3,\n",
    "     4,5,6,\n",
    "     'hello',[1,2,3],(1,2,3,1,2),{1,2,3,2,1},range(5),{'key' : 'value'}, {1,2,3} | {3,4},\n",
    "     key='value1', key2=123123, hi='hello'+'qwe', how = [1,2,3],\n",
    "     )\n",
    "\n"
   ]
  },
  {
   "cell_type": "code",
   "execution_count": null,
   "id": "88a3d48d",
   "metadata": {},
   "outputs": [
    {
     "name": "stdout",
     "output_type": "stream",
     "text": [
      "1\n",
      "1\n",
      "2\n",
      "2\n",
      "3\n",
      "6\n",
      "4\n",
      "24\n",
      "5\n",
      "120\n",
      "6\n",
      "720\n",
      "7\n",
      "5040\n",
      "5040\n"
     ]
    }
   ],
   "source": [
    "# 04-recursion\n",
    "\n",
    "def factorial(n):\n",
    "    #종료 조건: n이 0이면 1을 반환\n",
    "    if n == 0:\n",
    "        return 1\n",
    "    else:\n",
    "        #재귀 호출: n과 n-1의 팩토리얼을 곱한 결과를 반환\n",
    "        result = n * factorial(n - 1)\n",
    "        print(n)\n",
    "        print(result)\n",
    "        return result\n",
    "\n",
    "print(factorial(7))"
   ]
  },
  {
   "cell_type": "code",
   "execution_count": 55,
   "id": "97d9e994",
   "metadata": {},
   "outputs": [
    {
     "name": "stdout",
     "output_type": "stream",
     "text": [
      "[1, 2, 3, 4, 5]\n",
      "5\n",
      "5 1\n",
      "15\n",
      "[1, 2, 3, 4, 5]\n",
      "[5, 4, 3, 2, 1]\n",
      "[1, 2, 3, 4, 5]\n"
     ]
    }
   ],
   "source": [
    "# 05-built-in-function\n",
    "\n",
    "numbers = [1, 2, 3, 4, 5]\n",
    "\n",
    "print(numbers)\n",
    "print(len(numbers))\n",
    "print(max(numbers), min(numbers))\n",
    "print(sum(numbers))\n",
    "print(sorted(numbers))\n",
    "print(sorted((numbers), reverse=True))\n",
    "print(numbers)\n"
   ]
  },
  {
   "cell_type": "code",
   "execution_count": 59,
   "id": "b4a095a8",
   "metadata": {},
   "outputs": [
    {
     "name": "stdout",
     "output_type": "stream",
     "text": [
      "local 20\n"
     ]
    }
   ],
   "source": [
    "# 06-scope\n",
    "def func():\n",
    "    num = 20\n",
    "    print('local', num)\n",
    "\n",
    "func()\n",
    "\n",
    "#print('global', num) #NameError : name 'num' is not defined"
   ]
  },
  {
   "cell_type": "code",
   "execution_count": 106,
   "id": "f5d8f14f",
   "metadata": {},
   "outputs": [
    {
     "name": "stdout",
     "output_type": "stream",
     "text": [
      "<built-in function sum>\n",
      "10\n",
      "5\n"
     ]
    }
   ],
   "source": [
    "#내장 함수 sum의 이름을 사용해버려서 오류가 발생하는 예시\n",
    "print(sum)\n",
    "print(sum(range(5)))\n",
    "sum = 5\n",
    "print(sum)\n",
    "#print(sum(range(5)))\n",
    "del sum"
   ]
  },
  {
   "cell_type": "code",
   "execution_count": 108,
   "id": "9d2498c5",
   "metadata": {},
   "outputs": [
    {
     "name": "stdout",
     "output_type": "stream",
     "text": [
      "E P L\n",
      "E E\n",
      "G G\n"
     ]
    }
   ],
   "source": [
    "# LEGB Rule 퀴즈\n",
    "x = 'G'\n",
    "y = 'G'\n",
    "\n",
    "def outer_func():\n",
    "    x = 'E'\n",
    "    y = 'E'\n",
    "\n",
    "    def inner_func(y):\n",
    "        z = 'L'\n",
    "        print(x, y, z)\n",
    "\n",
    "    inner_func('P')\n",
    "    print(x, y)\n",
    "\n",
    "outer_func()\n",
    "print(x, y)"
   ]
  },
  {
   "cell_type": "code",
   "execution_count": 109,
   "id": "62322814",
   "metadata": {},
   "outputs": [
    {
     "name": "stdout",
     "output_type": "stream",
     "text": [
      "0\n",
      "1\n"
     ]
    }
   ],
   "source": [
    "# 07-global\n",
    "num = 0 # 전역 변수\n",
    "\n",
    "def increment():\n",
    "    global num # num을 전역 변수로 선언\n",
    "    num += 1\n",
    "\n",
    "print(num)\n",
    "\n",
    "increment()\n",
    "\n",
    "print(num)"
   ]
  },
  {
   "cell_type": "code",
   "execution_count": 110,
   "id": "d1f3e668",
   "metadata": {},
   "outputs": [
    {
     "ename": "SyntaxError",
     "evalue": "name 'num' is used prior to global declaration (2748621593.py, line 7)",
     "output_type": "error",
     "traceback": [
      "  \u001b[36mCell\u001b[39m\u001b[36m \u001b[39m\u001b[32mIn[110]\u001b[39m\u001b[32m, line 7\u001b[39m\n\u001b[31m    \u001b[39m\u001b[31mglobal num\u001b[39m\n    ^\n\u001b[31mSyntaxError\u001b[39m\u001b[31m:\u001b[39m name 'num' is used prior to global declaration\n"
     ]
    }
   ],
   "source": [
    "num = 0\n",
    "\n",
    "\n",
    "def increment():\n",
    "    # SyntaxError: name 'num' is used # prior to global declaration\n",
    "    print(num)\n",
    "    global num\n",
    "    num += 1"
   ]
  },
  {
   "cell_type": "code",
   "execution_count": null,
   "id": "5547fe71",
   "metadata": {},
   "outputs": [],
   "source": [
    "# ‘global’ 키워드 주의사항 - 2\n",
    "# 매개변수에는 global 키워드 사용불가\n",
    "num = 0\n",
    "\n",
    "\n",
    "def increment(num):\n",
    "    # \"num\" is assigned before global # declaration\n",
    "    global num\n",
    "    num += 1"
   ]
  },
  {
   "cell_type": "code",
   "execution_count": 111,
   "id": "79e3de52",
   "metadata": {},
   "outputs": [],
   "source": [
    "# 08-function-style-guide\n",
    "#Good\n",
    "def calculate_total_price(price, tax):\n",
    "    return price + (price * tax)\n",
    "\n",
    "#Bad\n",
    "def process_user_data(user_data):\n",
    "    # 책임 1: 데이터 유효성 검사\n",
    "    if len(user_data['password']) < 8:\n",
    "        raise ValueError('비밀번호는 8자 이상이어야 합니다.')\n",
    "    \n",
    "    #책임 2: 비밀번호 암호화 및 저장\n",
    "    user_data['password'] = hash_password(user_data['password'])\n",
    "    db.users.insert(user_data)\n",
    "\n",
    "    #책임 3: 이메일 발송\n",
    "    send.email(user_data['email'], '가입을 환영합니다!')\n",
    "\n",
    "# 올바른 설계 예시 (책임을 분리한함수들)\n",
    "def validate_password(password):\n",
    "    \"\"\"비밀번호 유효성 검사\"\"\"\n",
    "    if len(password) < 8:\n",
    "        raise ValueError('비밀번호는 8자 이상이어야 합니다')\n",
    "\n",
    "\n",
    "def save_user(user_data):\n",
    "    \"\"\"비밀번호 암호화 및 저장\"\"\"\n",
    "    user_data['password'] = hash_password(user_data['password'])\n",
    "    db.users.insert(user_data)\n",
    "\n",
    "\n",
    "def send_welcome_email(email):\n",
    "    \"\"\"환영 이메일 발송\"\"\"\n",
    "    send_email(email, '가입을 환영합니다!')\n",
    "\n",
    "\n",
    "# 메인 함수에서 순차적으로 실행\n",
    "def process_user_data(user_data):\n",
    "    validate_password(user_data['password'])\n",
    "    save_user(user_data)\n",
    "    send_welcome_email(user_data['email'])"
   ]
  },
  {
   "cell_type": "code",
   "execution_count": 2,
   "id": "dc75b7b0",
   "metadata": {},
   "outputs": [
    {
     "name": "stdout",
     "output_type": "stream",
     "text": [
      "3.141592653589793\n",
      "2.23606797749979\n",
      "onqweasd\n"
     ]
    }
   ],
   "source": [
    "from math import pi, sqrt\n",
    "\n",
    "print(pi)\n",
    "print(sqrt(5))\n",
    "\n",
    "pi = 'onqweasd'\n",
    "\n",
    "print(pi)"
   ]
  }
 ],
 "metadata": {
  "kernelspec": {
   "display_name": "Python 3",
   "language": "python",
   "name": "python3"
  },
  "language_info": {
   "codemirror_mode": {
    "name": "ipython",
    "version": 3
   },
   "file_extension": ".py",
   "mimetype": "text/x-python",
   "name": "python",
   "nbconvert_exporter": "python",
   "pygments_lexer": "ipython3",
   "version": "3.11.9"
  }
 },
 "nbformat": 4,
 "nbformat_minor": 5
}
